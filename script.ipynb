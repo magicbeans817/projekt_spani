{
 "cells": [
  {
   "cell_type": "code",
   "execution_count": 1,
   "id": "ef443374",
   "metadata": {},
   "outputs": [
    {
     "name": "stderr",
     "output_type": "stream",
     "text": [
      "\n",
      "Attaching package: 'dplyr'\n",
      "\n",
      "The following objects are masked from 'package:stats':\n",
      "\n",
      "    filter, lag\n",
      "\n",
      "The following objects are masked from 'package:base':\n",
      "\n",
      "    intersect, setdiff, setequal, union\n",
      "\n"
     ]
    },
    {
     "name": "stdout",
     "output_type": "stream",
     "text": [
      "\n",
      "  There is a binary version available but the source version is later:\n",
      "         binary source needs_compilation\n",
      "corrplot   0.84   0.88             FALSE\n",
      "\n"
     ]
    },
    {
     "name": "stderr",
     "output_type": "stream",
     "text": [
      "installing the source package 'corrplot'\n",
      "\n",
      "corrplot 0.88 loaded\n"
     ]
    }
   ],
   "source": [
    "library(readxl)\n",
    "library(dplyr)\n",
    "install.packages(\"corrplot\")\n",
    "library(corrplot)"
   ]
  },
  {
   "cell_type": "code",
   "execution_count": 2,
   "id": "463586b2",
   "metadata": {},
   "outputs": [
    {
     "name": "stderr",
     "output_type": "stream",
     "text": [
      "New names:\n",
      "* `` -> ...1\n",
      "* `` -> ...2\n",
      "New names:\n",
      "* `` -> ...1\n",
      "* `` -> ...2\n",
      "New names:\n",
      "* `` -> ...1\n",
      "* `` -> ...2\n",
      "* `` -> ...3\n"
     ]
    }
   ],
   "source": [
    "venek <- data.frame(read_excel(\"Venek.xlsx\")) #nacitam data\n",
    "vnitrek <- data.frame(read_excel(\"Vnitrek.xlsx\"))\n",
    "dotaznicek <- data.frame(read_excel(\"dotaznicek.xlsx\"))\n",
    "\n",
    "dotaznicek <- dotaznicek[,-1]\n",
    "\n",
    "venek <- venek[,-1] #prvni sloupec mazu\n",
    "colnames(venek)[1] <- \"inicialy\" #novy prvni sloupec pojmenovavam jako inicialy\n",
    "\n",
    "vnitrek <- vnitrek[,-1]\n",
    "colnames(vnitrek)[1] <- \"inicialy\""
   ]
  },
  {
   "cell_type": "code",
   "execution_count": 3,
   "id": "ff44e250",
   "metadata": {},
   "outputs": [],
   "source": [
    "dotaznicek$helpvar <- c(1:nrow(dotaznicek))\n",
    "dotaznicek$helpvar2 <- ifelse(dotaznicek$helpvar %% 2 == 0,1,0)\n",
    "d_vnitrek <- subset(dotaznicek, helpvar2 == 0)\n",
    "d_venek <- subset(dotaznicek, helpvar2 != 0)"
   ]
  },
  {
   "cell_type": "code",
   "execution_count": 4,
   "id": "192bb182",
   "metadata": {},
   "outputs": [
    {
     "data": {
      "text/html": [
       "<table>\n",
       "<thead><tr><th></th><th scope=col>...2</th><th scope=col>...3</th><th scope=col>Dnes.jsem.se.vyspal.a.opravdu.skvěle.</th><th scope=col>Večer.jsem.usnul.a.velmi.rychle.</th><th scope=col>Během.noci.jsem.se.vůbec.neprobouzel.a.</th><th scope=col>V.noci.se.mi.zdály.živé.sny.</th><th scope=col>Pamatuji.si..co.se.mi.v.noci.zdálo.</th><th scope=col>Dnes.se.mi.vstávalo.opravdu.dobře.</th><th scope=col>Po.probuzení.jsem.se.cítil.a.odpočatý.á.a.plný.á.energie.</th><th scope=col>Celkově.jsem.se.tento.den.cítil.a.plný.á.energie.a.neunavný.á.</th><th scope=col>Přes.den.se.mi.dařilo.soustředit.se.na.mé.aktivity.u.náročné.na.pozornost.</th><th scope=col>Celkově.jsem.tento.den.měl.a.chuť.podnikat.spoustu.produktivních.aktivit.</th><th scope=col>Dnes.jsem.se.cítil.v.psychické.pohodě.</th><th scope=col>Dnes.jsem.mě.l.chuť.vykonávat.fyzickou.aktivitu.</th><th scope=col>helpvar</th><th scope=col>helpvar2</th></tr></thead>\n",
       "<tbody>\n",
       "\t<tr><th scope=row>1</th><td>vevnitř</td><td>AD     </td><td> 8     </td><td> 8     </td><td> 8     </td><td> 5     </td><td> 8     </td><td> 6     </td><td>7      </td><td>7      </td><td> 8     </td><td>7      </td><td>6      </td><td>7      </td><td> 1     </td><td>0      </td></tr>\n",
       "\t<tr><th scope=row>3</th><td>NA     </td><td>JG     </td><td> 4     </td><td> 2     </td><td> 6     </td><td> 8     </td><td>13     </td><td> 5     </td><td>6      </td><td>4      </td><td> 4     </td><td>5      </td><td>5      </td><td>4      </td><td> 3     </td><td>0      </td></tr>\n",
       "\t<tr><th scope=row>5</th><td>NA     </td><td>JK     </td><td> 4     </td><td> 6     </td><td> 8     </td><td> 9     </td><td> 9     </td><td> 5     </td><td>5      </td><td>5      </td><td> 6     </td><td>5      </td><td>5      </td><td>5      </td><td> 5     </td><td>0      </td></tr>\n",
       "\t<tr><th scope=row>7</th><td>NA     </td><td>KL     </td><td> 7     </td><td> 6     </td><td>10     </td><td> 7     </td><td> 8     </td><td> 7     </td><td>6      </td><td>8      </td><td> 6     </td><td>5      </td><td>4      </td><td>4      </td><td> 7     </td><td>0      </td></tr>\n",
       "\t<tr><th scope=row>9</th><td>NA     </td><td>NL     </td><td>10     </td><td>11     </td><td> 9     </td><td>10     </td><td>11     </td><td>12     </td><td>9      </td><td>8      </td><td>10     </td><td>7      </td><td>6      </td><td>9      </td><td> 9     </td><td>0      </td></tr>\n",
       "\t<tr><th scope=row>11</th><td>NA     </td><td>OC     </td><td> 7     </td><td> 2     </td><td> 4     </td><td>10     </td><td>12     </td><td> 6     </td><td>5      </td><td>5      </td><td> 4     </td><td>7      </td><td>6      </td><td>7      </td><td>11     </td><td>0      </td></tr>\n",
       "</tbody>\n",
       "</table>\n"
      ],
      "text/latex": [
       "\\begin{tabular}{r|llllllllllllllll}\n",
       "  & ...2 & ...3 & Dnes.jsem.se.vyspal.a.opravdu.skvěle. & Večer.jsem.usnul.a.velmi.rychle. & Během.noci.jsem.se.vůbec.neprobouzel.a. & V.noci.se.mi.zdály.živé.sny. & Pamatuji.si..co.se.mi.v.noci.zdálo. & Dnes.se.mi.vstávalo.opravdu.dobře. & Po.probuzení.jsem.se.cítil.a.odpočatý.á.a.plný.á.energie. & Celkově.jsem.se.tento.den.cítil.a.plný.á.energie.a.neunavný.á. & Přes.den.se.mi.dařilo.soustředit.se.na.mé.aktivity.u.náročné.na.pozornost. & Celkově.jsem.tento.den.měl.a.chuť.podnikat.spoustu.produktivních.aktivit. & Dnes.jsem.se.cítil.v.psychické.pohodě. & Dnes.jsem.mě.l.chuť.vykonávat.fyzickou.aktivitu. & helpvar & helpvar2\\\\\n",
       "\\hline\n",
       "\t1 & vevnitř & AD      &  8      &  8      &  8      &  5      &  8      &  6      & 7       & 7       &  8      & 7       & 6       & 7       &  1      & 0      \\\\\n",
       "\t3 & NA      & JG      &  4      &  2      &  6      &  8      & 13      &  5      & 6       & 4       &  4      & 5       & 5       & 4       &  3      & 0      \\\\\n",
       "\t5 & NA      & JK      &  4      &  6      &  8      &  9      &  9      &  5      & 5       & 5       &  6      & 5       & 5       & 5       &  5      & 0      \\\\\n",
       "\t7 & NA      & KL      &  7      &  6      & 10      &  7      &  8      &  7      & 6       & 8       &  6      & 5       & 4       & 4       &  7      & 0      \\\\\n",
       "\t9 & NA      & NL      & 10      & 11      &  9      & 10      & 11      & 12      & 9       & 8       & 10      & 7       & 6       & 9       &  9      & 0      \\\\\n",
       "\t11 & NA      & OC      &  7      &  2      &  4      & 10      & 12      &  6      & 5       & 5       &  4      & 7       & 6       & 7       & 11      & 0      \\\\\n",
       "\\end{tabular}\n"
      ],
      "text/markdown": [
       "\n",
       "| <!--/--> | ...2 | ...3 | Dnes.jsem.se.vyspal.a.opravdu.skvěle. | Večer.jsem.usnul.a.velmi.rychle. | Během.noci.jsem.se.vůbec.neprobouzel.a. | V.noci.se.mi.zdály.živé.sny. | Pamatuji.si..co.se.mi.v.noci.zdálo. | Dnes.se.mi.vstávalo.opravdu.dobře. | Po.probuzení.jsem.se.cítil.a.odpočatý.á.a.plný.á.energie. | Celkově.jsem.se.tento.den.cítil.a.plný.á.energie.a.neunavný.á. | Přes.den.se.mi.dařilo.soustředit.se.na.mé.aktivity.u.náročné.na.pozornost. | Celkově.jsem.tento.den.měl.a.chuť.podnikat.spoustu.produktivních.aktivit. | Dnes.jsem.se.cítil.v.psychické.pohodě. | Dnes.jsem.mě.l.chuť.vykonávat.fyzickou.aktivitu. | helpvar | helpvar2 |\n",
       "|---|---|---|---|---|---|---|---|---|---|---|---|---|---|---|---|---|\n",
       "| 1 | vevnitř | AD      |  8      |  8      |  8      |  5      |  8      |  6      | 7       | 7       |  8      | 7       | 6       | 7       |  1      | 0       |\n",
       "| 3 | NA      | JG      |  4      |  2      |  6      |  8      | 13      |  5      | 6       | 4       |  4      | 5       | 5       | 4       |  3      | 0       |\n",
       "| 5 | NA      | JK      |  4      |  6      |  8      |  9      |  9      |  5      | 5       | 5       |  6      | 5       | 5       | 5       |  5      | 0       |\n",
       "| 7 | NA      | KL      |  7      |  6      | 10      |  7      |  8      |  7      | 6       | 8       |  6      | 5       | 4       | 4       |  7      | 0       |\n",
       "| 9 | NA      | NL      | 10      | 11      |  9      | 10      | 11      | 12      | 9       | 8       | 10      | 7       | 6       | 9       |  9      | 0       |\n",
       "| 11 | NA      | OC      |  7      |  2      |  4      | 10      | 12      |  6      | 5       | 5       |  4      | 7       | 6       | 7       | 11      | 0       |\n",
       "\n"
      ],
      "text/plain": [
       "   ...2    ...3 Dnes.jsem.se.vyspal.a.opravdu.skvěle.\n",
       "1  vevnitř AD    8                                   \n",
       "3  NA      JG    4                                   \n",
       "5  NA      JK    4                                   \n",
       "7  NA      KL    7                                   \n",
       "9  NA      NL   10                                   \n",
       "11 NA      OC    7                                   \n",
       "   Večer.jsem.usnul.a.velmi.rychle. Během.noci.jsem.se.vůbec.neprobouzel.a.\n",
       "1   8                                8                                     \n",
       "3   2                                6                                     \n",
       "5   6                                8                                     \n",
       "7   6                               10                                     \n",
       "9  11                                9                                     \n",
       "11  2                                4                                     \n",
       "   V.noci.se.mi.zdály.živé.sny. Pamatuji.si..co.se.mi.v.noci.zdálo.\n",
       "1   5                            8                                 \n",
       "3   8                           13                                 \n",
       "5   9                            9                                 \n",
       "7   7                            8                                 \n",
       "9  10                           11                                 \n",
       "11 10                           12                                 \n",
       "   Dnes.se.mi.vstávalo.opravdu.dobře.\n",
       "1   6                                \n",
       "3   5                                \n",
       "5   5                                \n",
       "7   7                                \n",
       "9  12                                \n",
       "11  6                                \n",
       "   Po.probuzení.jsem.se.cítil.a.odpočatý.á.a.plný.á.energie.\n",
       "1  7                                                        \n",
       "3  6                                                        \n",
       "5  5                                                        \n",
       "7  6                                                        \n",
       "9  9                                                        \n",
       "11 5                                                        \n",
       "   Celkově.jsem.se.tento.den.cítil.a.plný.á.energie.a.neunavný.á.\n",
       "1  7                                                             \n",
       "3  4                                                             \n",
       "5  5                                                             \n",
       "7  8                                                             \n",
       "9  8                                                             \n",
       "11 5                                                             \n",
       "   Přes.den.se.mi.dařilo.soustředit.se.na.mé.aktivity.u.náročné.na.pozornost.\n",
       "1   8                                                                        \n",
       "3   4                                                                        \n",
       "5   6                                                                        \n",
       "7   6                                                                        \n",
       "9  10                                                                        \n",
       "11  4                                                                        \n",
       "   Celkově.jsem.tento.den.měl.a.chuť.podnikat.spoustu.produktivních.aktivit.\n",
       "1  7                                                                        \n",
       "3  5                                                                        \n",
       "5  5                                                                        \n",
       "7  5                                                                        \n",
       "9  7                                                                        \n",
       "11 7                                                                        \n",
       "   Dnes.jsem.se.cítil.v.psychické.pohodě.\n",
       "1  6                                     \n",
       "3  5                                     \n",
       "5  5                                     \n",
       "7  4                                     \n",
       "9  6                                     \n",
       "11 6                                     \n",
       "   Dnes.jsem.mě.l.chuť.vykonávat.fyzickou.aktivitu. helpvar helpvar2\n",
       "1  7                                                 1      0       \n",
       "3  4                                                 3      0       \n",
       "5  5                                                 5      0       \n",
       "7  4                                                 7      0       \n",
       "9  9                                                 9      0       \n",
       "11 7                                                11      0       "
      ]
     },
     "metadata": {},
     "output_type": "display_data"
    },
    {
     "data": {
      "text/html": [
       "<table>\n",
       "<thead><tr><th></th><th scope=col>...2</th><th scope=col>...3</th><th scope=col>Dnes.jsem.se.vyspal.a.opravdu.skvěle.</th><th scope=col>Večer.jsem.usnul.a.velmi.rychle.</th><th scope=col>Během.noci.jsem.se.vůbec.neprobouzel.a.</th><th scope=col>V.noci.se.mi.zdály.živé.sny.</th><th scope=col>Pamatuji.si..co.se.mi.v.noci.zdálo.</th><th scope=col>Dnes.se.mi.vstávalo.opravdu.dobře.</th><th scope=col>Po.probuzení.jsem.se.cítil.a.odpočatý.á.a.plný.á.energie.</th><th scope=col>Celkově.jsem.se.tento.den.cítil.a.plný.á.energie.a.neunavný.á.</th><th scope=col>Přes.den.se.mi.dařilo.soustředit.se.na.mé.aktivity.u.náročné.na.pozornost.</th><th scope=col>Celkově.jsem.tento.den.měl.a.chuť.podnikat.spoustu.produktivních.aktivit.</th><th scope=col>Dnes.jsem.se.cítil.v.psychické.pohodě.</th><th scope=col>Dnes.jsem.mě.l.chuť.vykonávat.fyzickou.aktivitu.</th><th scope=col>helpvar</th><th scope=col>helpvar2</th></tr></thead>\n",
       "<tbody>\n",
       "\t<tr><th scope=row>2</th><td>venku</td><td>AD   </td><td> 4   </td><td>5    </td><td>11   </td><td> 4   </td><td>10   </td><td>3    </td><td>4    </td><td> 6   </td><td>6    </td><td> 5   </td><td> 3   </td><td>5    </td><td> 2   </td><td>1    </td></tr>\n",
       "\t<tr><th scope=row>4</th><td>NA   </td><td>JG   </td><td> 6   </td><td>3    </td><td>10   </td><td>12   </td><td>12   </td><td>8    </td><td>9    </td><td> 8   </td><td>8    </td><td>11   </td><td>10   </td><td>8    </td><td> 4   </td><td>1    </td></tr>\n",
       "\t<tr><th scope=row>6</th><td>NA   </td><td>JK   </td><td> 4   </td><td>3    </td><td> 6   </td><td> 3   </td><td> 9   </td><td>5    </td><td>7    </td><td> 6   </td><td>7    </td><td> 4   </td><td> 7   </td><td>3    </td><td> 6   </td><td>1    </td></tr>\n",
       "\t<tr><th scope=row>8</th><td>NA   </td><td>KL   </td><td>11   </td><td>5    </td><td>13   </td><td>12   </td><td>14   </td><td>4    </td><td>7    </td><td>12   </td><td>9    </td><td> 9   </td><td> 6   </td><td>7    </td><td> 8   </td><td>1    </td></tr>\n",
       "\t<tr><th scope=row>10</th><td>NA   </td><td>NL   </td><td> 5   </td><td>6    </td><td> 7   </td><td> 6   </td><td> 9   </td><td>3    </td><td>5    </td><td> 6   </td><td>7    </td><td> 5   </td><td> 5   </td><td>9    </td><td>10   </td><td>1    </td></tr>\n",
       "\t<tr><th scope=row>12</th><td>NA   </td><td>OC   </td><td> 5   </td><td>7    </td><td> 7   </td><td> 7   </td><td> 8   </td><td>7    </td><td>6    </td><td> 7   </td><td>7    </td><td> 8   </td><td> 6   </td><td>6    </td><td>12   </td><td>1    </td></tr>\n",
       "</tbody>\n",
       "</table>\n"
      ],
      "text/latex": [
       "\\begin{tabular}{r|llllllllllllllll}\n",
       "  & ...2 & ...3 & Dnes.jsem.se.vyspal.a.opravdu.skvěle. & Večer.jsem.usnul.a.velmi.rychle. & Během.noci.jsem.se.vůbec.neprobouzel.a. & V.noci.se.mi.zdály.živé.sny. & Pamatuji.si..co.se.mi.v.noci.zdálo. & Dnes.se.mi.vstávalo.opravdu.dobře. & Po.probuzení.jsem.se.cítil.a.odpočatý.á.a.plný.á.energie. & Celkově.jsem.se.tento.den.cítil.a.plný.á.energie.a.neunavný.á. & Přes.den.se.mi.dařilo.soustředit.se.na.mé.aktivity.u.náročné.na.pozornost. & Celkově.jsem.tento.den.měl.a.chuť.podnikat.spoustu.produktivních.aktivit. & Dnes.jsem.se.cítil.v.psychické.pohodě. & Dnes.jsem.mě.l.chuť.vykonávat.fyzickou.aktivitu. & helpvar & helpvar2\\\\\n",
       "\\hline\n",
       "\t2 & venku & AD    &  4    & 5     & 11    &  4    & 10    & 3     & 4     &  6    & 6     &  5    &  3    & 5     &  2    & 1    \\\\\n",
       "\t4 & NA    & JG    &  6    & 3     & 10    & 12    & 12    & 8     & 9     &  8    & 8     & 11    & 10    & 8     &  4    & 1    \\\\\n",
       "\t6 & NA    & JK    &  4    & 3     &  6    &  3    &  9    & 5     & 7     &  6    & 7     &  4    &  7    & 3     &  6    & 1    \\\\\n",
       "\t8 & NA    & KL    & 11    & 5     & 13    & 12    & 14    & 4     & 7     & 12    & 9     &  9    &  6    & 7     &  8    & 1    \\\\\n",
       "\t10 & NA    & NL    &  5    & 6     &  7    &  6    &  9    & 3     & 5     &  6    & 7     &  5    &  5    & 9     & 10    & 1    \\\\\n",
       "\t12 & NA    & OC    &  5    & 7     &  7    &  7    &  8    & 7     & 6     &  7    & 7     &  8    &  6    & 6     & 12    & 1    \\\\\n",
       "\\end{tabular}\n"
      ],
      "text/markdown": [
       "\n",
       "| <!--/--> | ...2 | ...3 | Dnes.jsem.se.vyspal.a.opravdu.skvěle. | Večer.jsem.usnul.a.velmi.rychle. | Během.noci.jsem.se.vůbec.neprobouzel.a. | V.noci.se.mi.zdály.živé.sny. | Pamatuji.si..co.se.mi.v.noci.zdálo. | Dnes.se.mi.vstávalo.opravdu.dobře. | Po.probuzení.jsem.se.cítil.a.odpočatý.á.a.plný.á.energie. | Celkově.jsem.se.tento.den.cítil.a.plný.á.energie.a.neunavný.á. | Přes.den.se.mi.dařilo.soustředit.se.na.mé.aktivity.u.náročné.na.pozornost. | Celkově.jsem.tento.den.měl.a.chuť.podnikat.spoustu.produktivních.aktivit. | Dnes.jsem.se.cítil.v.psychické.pohodě. | Dnes.jsem.mě.l.chuť.vykonávat.fyzickou.aktivitu. | helpvar | helpvar2 |\n",
       "|---|---|---|---|---|---|---|---|---|---|---|---|---|---|---|---|---|\n",
       "| 2 | venku | AD    |  4    | 5     | 11    |  4    | 10    | 3     | 4     |  6    | 6     |  5    |  3    | 5     |  2    | 1     |\n",
       "| 4 | NA    | JG    |  6    | 3     | 10    | 12    | 12    | 8     | 9     |  8    | 8     | 11    | 10    | 8     |  4    | 1     |\n",
       "| 6 | NA    | JK    |  4    | 3     |  6    |  3    |  9    | 5     | 7     |  6    | 7     |  4    |  7    | 3     |  6    | 1     |\n",
       "| 8 | NA    | KL    | 11    | 5     | 13    | 12    | 14    | 4     | 7     | 12    | 9     |  9    |  6    | 7     |  8    | 1     |\n",
       "| 10 | NA    | NL    |  5    | 6     |  7    |  6    |  9    | 3     | 5     |  6    | 7     |  5    |  5    | 9     | 10    | 1     |\n",
       "| 12 | NA    | OC    |  5    | 7     |  7    |  7    |  8    | 7     | 6     |  7    | 7     |  8    |  6    | 6     | 12    | 1     |\n",
       "\n"
      ],
      "text/plain": [
       "   ...2  ...3 Dnes.jsem.se.vyspal.a.opravdu.skvěle.\n",
       "2  venku AD    4                                   \n",
       "4  NA    JG    6                                   \n",
       "6  NA    JK    4                                   \n",
       "8  NA    KL   11                                   \n",
       "10 NA    NL    5                                   \n",
       "12 NA    OC    5                                   \n",
       "   Večer.jsem.usnul.a.velmi.rychle. Během.noci.jsem.se.vůbec.neprobouzel.a.\n",
       "2  5                                11                                     \n",
       "4  3                                10                                     \n",
       "6  3                                 6                                     \n",
       "8  5                                13                                     \n",
       "10 6                                 7                                     \n",
       "12 7                                 7                                     \n",
       "   V.noci.se.mi.zdály.živé.sny. Pamatuji.si..co.se.mi.v.noci.zdálo.\n",
       "2   4                           10                                 \n",
       "4  12                           12                                 \n",
       "6   3                            9                                 \n",
       "8  12                           14                                 \n",
       "10  6                            9                                 \n",
       "12  7                            8                                 \n",
       "   Dnes.se.mi.vstávalo.opravdu.dobře.\n",
       "2  3                                 \n",
       "4  8                                 \n",
       "6  5                                 \n",
       "8  4                                 \n",
       "10 3                                 \n",
       "12 7                                 \n",
       "   Po.probuzení.jsem.se.cítil.a.odpočatý.á.a.plný.á.energie.\n",
       "2  4                                                        \n",
       "4  9                                                        \n",
       "6  7                                                        \n",
       "8  7                                                        \n",
       "10 5                                                        \n",
       "12 6                                                        \n",
       "   Celkově.jsem.se.tento.den.cítil.a.plný.á.energie.a.neunavný.á.\n",
       "2   6                                                            \n",
       "4   8                                                            \n",
       "6   6                                                            \n",
       "8  12                                                            \n",
       "10  6                                                            \n",
       "12  7                                                            \n",
       "   Přes.den.se.mi.dařilo.soustředit.se.na.mé.aktivity.u.náročné.na.pozornost.\n",
       "2  6                                                                         \n",
       "4  8                                                                         \n",
       "6  7                                                                         \n",
       "8  9                                                                         \n",
       "10 7                                                                         \n",
       "12 7                                                                         \n",
       "   Celkově.jsem.tento.den.měl.a.chuť.podnikat.spoustu.produktivních.aktivit.\n",
       "2   5                                                                       \n",
       "4  11                                                                       \n",
       "6   4                                                                       \n",
       "8   9                                                                       \n",
       "10  5                                                                       \n",
       "12  8                                                                       \n",
       "   Dnes.jsem.se.cítil.v.psychické.pohodě.\n",
       "2   3                                    \n",
       "4  10                                    \n",
       "6   7                                    \n",
       "8   6                                    \n",
       "10  5                                    \n",
       "12  6                                    \n",
       "   Dnes.jsem.mě.l.chuť.vykonávat.fyzickou.aktivitu. helpvar helpvar2\n",
       "2  5                                                 2      1       \n",
       "4  8                                                 4      1       \n",
       "6  3                                                 6      1       \n",
       "8  7                                                 8      1       \n",
       "10 9                                                10      1       \n",
       "12 6                                                12      1       "
      ]
     },
     "metadata": {},
     "output_type": "display_data"
    },
    {
     "data": {
      "text/html": [
       "<table>\n",
       "<thead><tr><th scope=col>inicialy</th><th scope=col>TIB</th><th scope=col>Sleep.time</th><th scope=col>onset.latency</th><th scope=col>efficiency</th><th scope=col>WASO</th><th scope=col>X.probuzení</th></tr></thead>\n",
       "<tbody>\n",
       "\t<tr><td>ad                 </td><td>1899-12-31 07:48:45</td><td>1899-12-31 07:10:45</td><td> 4.25              </td><td>91.795             </td><td>31.75              </td><td>16.0               </td></tr>\n",
       "\t<tr><td>jg                 </td><td>1899-12-31 08:26:00</td><td>1899-12-31 07:12:00</td><td>15.25              </td><td>85.510             </td><td>46.50              </td><td>20.5               </td></tr>\n",
       "\t<tr><td>jk                 </td><td>1899-12-31 06:50:30</td><td>1899-12-31 05:15:15</td><td> 3.75              </td><td>76.880             </td><td>57.50              </td><td>32.0               </td></tr>\n",
       "\t<tr><td>kl                 </td><td>1899-12-31 08:31:00</td><td>1899-12-31 06:39:00</td><td>24.75              </td><td>78.250             </td><td>56.75              </td><td>33.5               </td></tr>\n",
       "\t<tr><td>nl                 </td><td>1899-12-31 08:12:30</td><td>1899-12-31 06:30:30</td><td> 9.25              </td><td>79.355             </td><td>63.50              </td><td>26.0               </td></tr>\n",
       "\t<tr><td>oc                 </td><td>1899-12-31 08:26:15</td><td>1899-12-31 05:59:45</td><td>15.25              </td><td>71.190             </td><td>85.75              </td><td>39.0               </td></tr>\n",
       "</tbody>\n",
       "</table>\n"
      ],
      "text/latex": [
       "\\begin{tabular}{r|lllllll}\n",
       " inicialy & TIB & Sleep.time & onset.latency & efficiency & WASO & X.probuzení\\\\\n",
       "\\hline\n",
       "\t ad                  & 1899-12-31 07:48:45 & 1899-12-31 07:10:45 &  4.25               & 91.795              & 31.75               & 16.0               \\\\\n",
       "\t jg                  & 1899-12-31 08:26:00 & 1899-12-31 07:12:00 & 15.25               & 85.510              & 46.50               & 20.5               \\\\\n",
       "\t jk                  & 1899-12-31 06:50:30 & 1899-12-31 05:15:15 &  3.75               & 76.880              & 57.50               & 32.0               \\\\\n",
       "\t kl                  & 1899-12-31 08:31:00 & 1899-12-31 06:39:00 & 24.75               & 78.250              & 56.75               & 33.5               \\\\\n",
       "\t nl                  & 1899-12-31 08:12:30 & 1899-12-31 06:30:30 &  9.25               & 79.355              & 63.50               & 26.0               \\\\\n",
       "\t oc                  & 1899-12-31 08:26:15 & 1899-12-31 05:59:45 & 15.25               & 71.190              & 85.75               & 39.0               \\\\\n",
       "\\end{tabular}\n"
      ],
      "text/markdown": [
       "\n",
       "| inicialy | TIB | Sleep.time | onset.latency | efficiency | WASO | X.probuzení |\n",
       "|---|---|---|---|---|---|---|\n",
       "| ad                  | 1899-12-31 07:48:45 | 1899-12-31 07:10:45 |  4.25               | 91.795              | 31.75               | 16.0                |\n",
       "| jg                  | 1899-12-31 08:26:00 | 1899-12-31 07:12:00 | 15.25               | 85.510              | 46.50               | 20.5                |\n",
       "| jk                  | 1899-12-31 06:50:30 | 1899-12-31 05:15:15 |  3.75               | 76.880              | 57.50               | 32.0                |\n",
       "| kl                  | 1899-12-31 08:31:00 | 1899-12-31 06:39:00 | 24.75               | 78.250              | 56.75               | 33.5                |\n",
       "| nl                  | 1899-12-31 08:12:30 | 1899-12-31 06:30:30 |  9.25               | 79.355              | 63.50               | 26.0                |\n",
       "| oc                  | 1899-12-31 08:26:15 | 1899-12-31 05:59:45 | 15.25               | 71.190              | 85.75               | 39.0                |\n",
       "\n"
      ],
      "text/plain": [
       "  inicialy TIB                 Sleep.time          onset.latency efficiency\n",
       "1 ad       1899-12-31 07:48:45 1899-12-31 07:10:45  4.25         91.795    \n",
       "2 jg       1899-12-31 08:26:00 1899-12-31 07:12:00 15.25         85.510    \n",
       "3 jk       1899-12-31 06:50:30 1899-12-31 05:15:15  3.75         76.880    \n",
       "4 kl       1899-12-31 08:31:00 1899-12-31 06:39:00 24.75         78.250    \n",
       "5 nl       1899-12-31 08:12:30 1899-12-31 06:30:30  9.25         79.355    \n",
       "6 oc       1899-12-31 08:26:15 1899-12-31 05:59:45 15.25         71.190    \n",
       "  WASO  X.probuzení\n",
       "1 31.75 16.0       \n",
       "2 46.50 20.5       \n",
       "3 57.50 32.0       \n",
       "4 56.75 33.5       \n",
       "5 63.50 26.0       \n",
       "6 85.75 39.0       "
      ]
     },
     "metadata": {},
     "output_type": "display_data"
    },
    {
     "data": {
      "text/html": [
       "<table>\n",
       "<thead><tr><th scope=col>inicialy</th><th scope=col>TIB</th><th scope=col>Sleep.time</th><th scope=col>onset.latency</th><th scope=col>efficiency</th><th scope=col>WASO</th><th scope=col>X.probuzení</th></tr></thead>\n",
       "<tbody>\n",
       "\t<tr><td>ad                 </td><td>1899-12-31 08:03:00</td><td>1899-12-31 06:26:45</td><td> 5.00              </td><td>80.085             </td><td>56.75              </td><td>31.5               </td></tr>\n",
       "\t<tr><td>jg                 </td><td>1899-12-31 08:15:00</td><td>1899-12-31 06:59:15</td><td>11.50              </td><td>84.985             </td><td>51.50              </td><td>27.5               </td></tr>\n",
       "\t<tr><td>jk                 </td><td>1899-12-31 07:46:45</td><td>1899-12-31 05:54:45</td><td>12.00              </td><td>76.135             </td><td>95.50              </td><td>49.0               </td></tr>\n",
       "\t<tr><td>kl                 </td><td>1899-12-31 08:04:00</td><td>1899-12-31 06:46:00</td><td>15.50              </td><td>83.990             </td><td>51.25              </td><td>34.5               </td></tr>\n",
       "\t<tr><td>nl                 </td><td>1899-12-31 10:12:45</td><td>1899-12-31 07:46:15</td><td>40.00              </td><td>76.255             </td><td>92.25              </td><td>49.5               </td></tr>\n",
       "\t<tr><td>oc                 </td><td>1899-12-31 08:15:15</td><td>1899-12-31 06:18:45</td><td> 5.75              </td><td>76.450             </td><td>87.00              </td><td>50.0               </td></tr>\n",
       "</tbody>\n",
       "</table>\n"
      ],
      "text/latex": [
       "\\begin{tabular}{r|lllllll}\n",
       " inicialy & TIB & Sleep.time & onset.latency & efficiency & WASO & X.probuzení\\\\\n",
       "\\hline\n",
       "\t ad                  & 1899-12-31 08:03:00 & 1899-12-31 06:26:45 &  5.00               & 80.085              & 56.75               & 31.5               \\\\\n",
       "\t jg                  & 1899-12-31 08:15:00 & 1899-12-31 06:59:15 & 11.50               & 84.985              & 51.50               & 27.5               \\\\\n",
       "\t jk                  & 1899-12-31 07:46:45 & 1899-12-31 05:54:45 & 12.00               & 76.135              & 95.50               & 49.0               \\\\\n",
       "\t kl                  & 1899-12-31 08:04:00 & 1899-12-31 06:46:00 & 15.50               & 83.990              & 51.25               & 34.5               \\\\\n",
       "\t nl                  & 1899-12-31 10:12:45 & 1899-12-31 07:46:15 & 40.00               & 76.255              & 92.25               & 49.5               \\\\\n",
       "\t oc                  & 1899-12-31 08:15:15 & 1899-12-31 06:18:45 &  5.75               & 76.450              & 87.00               & 50.0               \\\\\n",
       "\\end{tabular}\n"
      ],
      "text/markdown": [
       "\n",
       "| inicialy | TIB | Sleep.time | onset.latency | efficiency | WASO | X.probuzení |\n",
       "|---|---|---|---|---|---|---|\n",
       "| ad                  | 1899-12-31 08:03:00 | 1899-12-31 06:26:45 |  5.00               | 80.085              | 56.75               | 31.5                |\n",
       "| jg                  | 1899-12-31 08:15:00 | 1899-12-31 06:59:15 | 11.50               | 84.985              | 51.50               | 27.5                |\n",
       "| jk                  | 1899-12-31 07:46:45 | 1899-12-31 05:54:45 | 12.00               | 76.135              | 95.50               | 49.0                |\n",
       "| kl                  | 1899-12-31 08:04:00 | 1899-12-31 06:46:00 | 15.50               | 83.990              | 51.25               | 34.5                |\n",
       "| nl                  | 1899-12-31 10:12:45 | 1899-12-31 07:46:15 | 40.00               | 76.255              | 92.25               | 49.5                |\n",
       "| oc                  | 1899-12-31 08:15:15 | 1899-12-31 06:18:45 |  5.75               | 76.450              | 87.00               | 50.0                |\n",
       "\n"
      ],
      "text/plain": [
       "  inicialy TIB                 Sleep.time          onset.latency efficiency\n",
       "1 ad       1899-12-31 08:03:00 1899-12-31 06:26:45  5.00         80.085    \n",
       "2 jg       1899-12-31 08:15:00 1899-12-31 06:59:15 11.50         84.985    \n",
       "3 jk       1899-12-31 07:46:45 1899-12-31 05:54:45 12.00         76.135    \n",
       "4 kl       1899-12-31 08:04:00 1899-12-31 06:46:00 15.50         83.990    \n",
       "5 nl       1899-12-31 10:12:45 1899-12-31 07:46:15 40.00         76.255    \n",
       "6 oc       1899-12-31 08:15:15 1899-12-31 06:18:45  5.75         76.450    \n",
       "  WASO  X.probuzení\n",
       "1 56.75 31.5       \n",
       "2 51.50 27.5       \n",
       "3 95.50 49.0       \n",
       "4 51.25 34.5       \n",
       "5 92.25 49.5       \n",
       "6 87.00 50.0       "
      ]
     },
     "metadata": {},
     "output_type": "display_data"
    }
   ],
   "source": [
    "d_vnitrek %>% head()\n",
    "d_venek %>% head()\n",
    "head(venek)\n",
    "head(vnitrek)"
   ]
  },
  {
   "cell_type": "code",
   "execution_count": 5,
   "id": "e51db740",
   "metadata": {},
   "outputs": [
    {
     "data": {
      "text/plain": [
       "\n",
       "Call:\n",
       "lm(formula = po ~ pred, data = soucty)\n",
       "\n",
       "Residuals:\n",
       "    Min      1Q  Median      3Q     Max \n",
       "-4.2462 -2.7547 -1.4854  0.5487  9.8051 \n",
       "\n",
       "Coefficients:\n",
       "            Estimate Std. Error t value Pr(>|t|)   \n",
       "(Intercept)  13.1097    10.1756   1.288  0.23363   \n",
       "pred          0.8291     0.1773   4.677  0.00159 **\n",
       "---\n",
       "Signif. codes:  0 '***' 0.001 '**' 0.01 '*' 0.05 '.' 0.1 ' ' 1\n",
       "\n",
       "Residual standard error: 4.642 on 8 degrees of freedom\n",
       "Multiple R-squared:  0.7322,\tAdjusted R-squared:  0.6987 \n",
       "F-statistic: 21.87 on 1 and 8 DF,  p-value: 0.001589\n"
      ]
     },
     "metadata": {},
     "output_type": "display_data"
    },
    {
     "data": {
      "text/plain": [
       "\n",
       "\tPaired t-test\n",
       "\n",
       "data:  soucty$pred and soucty$po\n",
       "t = -2.3254, df = 9, p-value = 0.02254\n",
       "alternative hypothesis: true difference in means is less than 0\n",
       "95 percent confidence interval:\n",
       "       -Inf -0.7197796\n",
       "sample estimates:\n",
       "mean of the differences \n",
       "                   -3.4 \n"
      ]
     },
     "metadata": {},
     "output_type": "display_data"
    },
    {
     "name": "stderr",
     "output_type": "stream",
     "text": [
      "Warning message in wilcox.test.default(soucty$pred, soucty$po, paired = TRUE, alternative = \"less\"):\n",
      "\"cannot compute exact p-value with ties\"Warning message in wilcox.test.default(soucty$pred, soucty$po, paired = TRUE, alternative = \"less\"):\n",
      "\"cannot compute exact p-value with zeroes\""
     ]
    },
    {
     "data": {
      "text/plain": [
       "\n",
       "\tWilcoxon signed rank test with continuity correction\n",
       "\n",
       "data:  soucty$pred and soucty$po\n",
       "V = 2, p-value = 0.01449\n",
       "alternative hypothesis: true location shift is less than 0\n"
      ]
     },
     "metadata": {},
     "output_type": "display_data"
    },
    {
     "data": {
      "image/png": "[encoded data removed]",
      "text/plain": [
       "Plot with title \"MAAS, před a po experimentu\""
      ]
     },
     "metadata": {},
     "output_type": "display_data"
    }
   ],
   "source": [
    "soucty <- data.frame(read_excel(\"soucty_pred_po.xlsx\")) #nacitam data\n",
    "\n",
    "model_soucty <- lm(po ~ pred, data = soucty)\n",
    "summary(model_soucty)\n",
    "plot(soucty, type = \"n\", xlab = \"před\", ylab = \"po\", xlim = c(45,80), ylim = c(45,80))\n",
    "abline(a = 0, b = 1, col = \"red\", lty = 2, lwd = 2)\n",
    "abline(a = model_soucty$coefficients[1], b = model_soucty$coefficients[2], lty = 1, lwd = 2, col = \"black\")\n",
    "points(soucty$pred, soucty$po, pch = 15)\n",
    "title(\"MAAS, před a po experimentu\")\n",
    "legend(\"topleft\", lty = c(1, 2), lwd = c(2,2), legend = c(\"Vztah mezi proměnnými\",\"Osa souměrnosti\"), col = c(\"black\", \"red\"))\n",
    "\n",
    "t.test(soucty$pred, soucty$po, paired = TRUE, alternative = \"less\")\n",
    "\n",
    "wilcox.test(soucty$pred, soucty$po, paired = TRUE, alternative = \"less\")"
   ]
  },
  {
   "cell_type": "code",
   "execution_count": 6,
   "id": "853665e9",
   "metadata": {},
   "outputs": [
    {
     "data": {
      "image/png": "[encoded data removed]",
      "text/plain": [
       "Plot with title \"Vztah mezi změřenou a reportovanou\n",
       " kvalitou spánku (Vevnitř)\""
      ]
     },
     "metadata": {},
     "output_type": "display_data"
    },
    {
     "data": {
      "text/plain": [
       "\n",
       "Call:\n",
       "lm(formula = d_vnitrek[, 3] ~ vnitrek$efficiency)\n",
       "\n",
       "Residuals:\n",
       "    Min      1Q  Median      3Q     Max \n",
       "-3.3700 -1.4313  0.2874  0.7213  4.2254 \n",
       "\n",
       "Coefficients:\n",
       "                   Estimate Std. Error t value Pr(>|t|)\n",
       "(Intercept)         -8.1609     9.8955  -0.825    0.429\n",
       "vnitrek$efficiency   0.1827     0.1238   1.476    0.171\n",
       "\n",
       "Residual standard error: 2.045 on 10 degrees of freedom\n",
       "Multiple R-squared:  0.1788,\tAdjusted R-squared:  0.09673 \n",
       "F-statistic: 2.178 on 1 and 10 DF,  p-value: 0.1708\n"
      ]
     },
     "metadata": {},
     "output_type": "display_data"
    },
    {
     "data": {
      "text/plain": [
       "\n",
       "Call:\n",
       "lm(formula = d_venek[, 3] ~ venek$efficiency)\n",
       "\n",
       "Residuals:\n",
       "    Min      1Q  Median      3Q     Max \n",
       "-3.9648 -1.6869 -0.4436  1.4096  6.2350 \n",
       "\n",
       "Coefficients:\n",
       "                 Estimate Std. Error t value Pr(>|t|)  \n",
       "(Intercept)       23.3196    10.4591    2.23   0.0499 *\n",
       "venek$efficiency  -0.2016     0.1301   -1.55   0.1521  \n",
       "---\n",
       "Signif. codes:  0 '***' 0.001 '**' 0.01 '*' 0.05 '.' 0.1 ' ' 1\n",
       "\n",
       "Residual standard error: 3.132 on 10 degrees of freedom\n",
       "Multiple R-squared:  0.1937,\tAdjusted R-squared:  0.1131 \n",
       "F-statistic: 2.403 on 1 and 10 DF,  p-value: 0.1521\n"
      ]
     },
     "metadata": {},
     "output_type": "display_data"
    },
    {
     "data": {
      "image/png": "[encoded data removed]",
      "text/plain": [
       "Plot with title \"Vztah mezi změřenou a reportovanou\n",
       " kvalitou spánku (Venku)\""
      ]
     },
     "metadata": {},
     "output_type": "display_data"
    }
   ],
   "source": [
    "options(repr.plot.width=5, repr.plot.height=5)  \n",
    "\n",
    "plot(vnitrek$efficiency, d_vnitrek[,3], main = \"Vztah mezi změřenou a reportovanou\\n kvalitou spánku (Vevnitř)\", xlab = \"Efektivita spaní vevnitř\", ylab = \"Kvalita spaní vevnitř dle dotazníku\",\n",
    "     ylim = c(14,2), xlim = c(70,95))\n",
    "model1 <- lm(d_vnitrek[,3] ~ vnitrek$efficiency)\n",
    "abline(a=model1$coefficients[1], b=model1$coefficients[2])\n",
    "\n",
    "plot(venek$efficiency, d_venek[,3], main = \"Vztah mezi změřenou a reportovanou\\n kvalitou spánku (Venku)\", xlab = \"Efektivita spaní venku\", ylab = \"Kvalita spaní venku dle dotazníku\",\n",
    "     ylim = c(14,2), xlim = c(70,95))\n",
    "model2 <- lm(d_venek[,3] ~ venek$efficiency)\n",
    "abline(a=model2$coefficients[1], b=model2$coefficients[2])\n",
    "\n",
    "summary(model1)\n",
    "summary(model2)"
   ]
  },
  {
   "cell_type": "code",
   "execution_count": 7,
   "id": "96869d08",
   "metadata": {},
   "outputs": [
    {
     "data": {
      "text/plain": [
       "\n",
       "Call:\n",
       "lm(formula = d_venek[, 8] ~ d_vnitrek[, 8])\n",
       "\n",
       "Residuals:\n",
       "    Min      1Q  Median      3Q     Max \n",
       "-2.8390 -1.4555 -0.8048  1.2192  6.9281 \n",
       "\n",
       "Coefficients:\n",
       "               Estimate Std. Error t value Pr(>|t|)  \n",
       "(Intercept)      8.1404     2.7477   2.963   0.0142 *\n",
       "d_vnitrek[, 8]  -0.3836     0.3945  -0.972   0.3539  \n",
       "---\n",
       "Signif. codes:  0 '***' 0.001 '**' 0.01 '*' 0.05 '.' 0.1 ' ' 1\n",
       "\n",
       "Residual standard error: 2.752 on 10 degrees of freedom\n",
       "Multiple R-squared:  0.08635,\tAdjusted R-squared:  -0.005015 \n",
       "F-statistic: 0.9451 on 1 and 10 DF,  p-value: 0.3539\n"
      ]
     },
     "metadata": {},
     "output_type": "display_data"
    },
    {
     "data": {
      "text/plain": [
       "\n",
       "Call:\n",
       "lm(formula = y ~ x, data = help_data)\n",
       "\n",
       "Residuals:\n",
       "     Min       1Q   Median       3Q      Max \n",
       "-2.20000 -0.87857 -0.05714  0.94286  1.80000 \n",
       "\n",
       "Coefficients:\n",
       "            Estimate Std. Error t value Pr(>|t|)    \n",
       "(Intercept)  12.0571     2.2614   5.332 0.000701 ***\n",
       "x            -1.1429     0.3698  -3.091 0.014874 *  \n",
       "---\n",
       "Signif. codes:  0 '***' 0.001 '**' 0.01 '*' 0.05 '.' 0.1 ' ' 1\n",
       "\n",
       "Residual standard error: 1.384 on 8 degrees of freedom\n",
       "Multiple R-squared:  0.5442,\tAdjusted R-squared:  0.4872 \n",
       "F-statistic: 9.552 on 1 and 8 DF,  p-value: 0.01487\n"
      ]
     },
     "metadata": {},
     "output_type": "display_data"
    },
    {
     "data": {
      "image/png": "[encoded data removed]",
      "text/plain": [
       "Plot with title \"Porovnávání pocitu svěžesti po probuzení\""
      ]
     },
     "metadata": {},
     "output_type": "display_data"
    }
   ],
   "source": [
    "options(repr.plot.width=10, repr.plot.height=5)  \n",
    "par(mfrow = c(1,2)) #smaz tohle, kdyz obrazky budes chtit jednotlive\n",
    "\n",
    "popis_x <- \"Pocit svěžesti po probuzení (vevnitř)\"\n",
    "popis_y <- \"Pocit svěžesti po probuzení (venku)\"\n",
    "nadpis <- \"Porovnávání pocitu svěžesti po probuzení\"\n",
    "\n",
    "sunflowerplot(d_vnitrek[,8], d_venek[,8], main = nadpis, xlab = popis_x,\n",
    "              ylab = popis_y, xlim = c(12,0), ylim = c(12,0))\n",
    "model5 <- lm(d_venek[,8] ~ d_vnitrek[,8])\n",
    "summary(model5)\n",
    "abline(a=model5$coefficients[1], b=model5$coefficients[2])\n",
    "\n",
    "\n",
    "y <- d_venek[,8]\n",
    "x <- d_vnitrek[,8]\n",
    "help_data <- data.frame(x)\n",
    "help_data$y <- y\n",
    "help_data <- help_data[c(-5,-10),]\n",
    "sunflowerplot(help_data$x, help_data$y, main = nadpis, xlab = popis_y, ylab = popis_y, xlim = c(12,0), ylim = c(12,0))\n",
    "model6 <- lm(y ~ x, data = help_data)\n",
    "summary(model6)\n",
    "abline(a=model6$coefficients[1], b=model6$coefficients[2])"
   ]
  },
  {
   "cell_type": "code",
   "execution_count": 8,
   "id": "655e34f7",
   "metadata": {},
   "outputs": [],
   "source": [
    "noc_jedna <- data.frame(read_excel(\"Venek-1.noc.xlsx\")) #nacitam data\n",
    "noc_dva <- data.frame(read_excel(\"venek-2.noc.xlsx\")) #nacitam data"
   ]
  },
  {
   "cell_type": "code",
   "execution_count": 22,
   "id": "4c4f508b",
   "metadata": {},
   "outputs": [
    {
     "data": {
      "text/plain": [
       "\n",
       "Call:\n",
       "lm(formula = noc_dva$Sleep.Efficiency..percent. ~ noc_jedna$Sleep.Efficiency..percent.)\n",
       "\n",
       "Residuals:\n",
       "    Min      1Q  Median      3Q     Max \n",
       "-8.9124 -5.7600  0.9855  4.1821  6.8552 \n",
       "\n",
       "Coefficients:\n",
       "                                     Estimate Std. Error t value Pr(>|t|)   \n",
       "(Intercept)                           27.1627    16.9021   1.607   0.1391   \n",
       "noc_jedna$Sleep.Efficiency..percent.   0.6935     0.2142   3.238   0.0089 **\n",
       "---\n",
       "Signif. codes:  0 '***' 0.001 '**' 0.01 '*' 0.05 '.' 0.1 ' ' 1\n",
       "\n",
       "Residual standard error: 5.655 on 10 degrees of freedom\n",
       "Multiple R-squared:  0.5119,\tAdjusted R-squared:  0.463 \n",
       "F-statistic: 10.49 on 1 and 10 DF,  p-value: 0.008897\n"
      ]
     },
     "metadata": {},
     "output_type": "display_data"
    },
    {
     "data": {
      "text/plain": [
       "\n",
       "\tPaired t-test\n",
       "\n",
       "data:  noc_jedna$Sleep.Efficiency..percent. and noc_dva$Sleep.Efficiency..percent.\n",
       "t = -1.8046, df = 11, p-value = 0.04928\n",
       "alternative hypothesis: true difference in means is less than 0\n",
       "95 percent confidence interval:\n",
       "       -Inf -0.0148287\n",
       "sample estimates:\n",
       "mean of the differences \n",
       "              -3.083333 \n"
      ]
     },
     "metadata": {},
     "output_type": "display_data"
    },
    {
     "data": {
      "image/png": "[encoded data removed]",
      "text/plain": [
       "Plot with title \"Vztah efektivit spánku - noci venku\""
      ]
     },
     "metadata": {},
     "output_type": "display_data"
    }
   ],
   "source": [
    "nadpis3 <- \"Vztah efektivit spánku - noci venku\"\n",
    "popis_x3 <- \"Efektivita spánku - první noc venku\"\n",
    "popis_y3 <- \"Efektivita spánku - druhá noc venku\"\n",
    "\n",
    "noc_jedna$Sleep.Efficiency..percent.[5] <- 82.80\n",
    "\n",
    "sunflowerplot(noc_jedna$Sleep.Efficiency..percent., noc_dva$Sleep.Efficiency..percent.,\n",
    "              main = nadpis3, xlab = popis_x3, ylab = popis_y3, xlim = c(65,100), ylim = c(65,100))\n",
    "model_noc2 <- lm(noc_dva$Sleep.Efficiency..percent. ~ noc_jedna$Sleep.Efficiency..percent.)\n",
    "summary(model_noc2)\n",
    "abline(a=model_noc2$coefficients[1], b=model_noc2$coefficients[2], lwd = 2)\n",
    "abline(a=0, b=1, col  = \"red\", lty = 2, lwd = 2)\n",
    "legend(\"topleft\", lty = c(1, 2), lwd = c(2,2), legend = c(\"Vztah mezi proměnnými\",\"Osa souměrnosti\"), col = c(\"black\", \"red\"))\n",
    "\n",
    "t.test(noc_jedna$Sleep.Efficiency..percent., noc_dva$Sleep.Efficiency..percent.,\n",
    "      pair = TRUE, alternative = \"less\")"
   ]
  },
  {
   "cell_type": "code",
   "execution_count": null,
   "id": "bede80b9",
   "metadata": {},
   "outputs": [],
   "source": []
  },
  {
   "cell_type": "code",
   "execution_count": 10,
   "id": "cd3851b0",
   "metadata": {},
   "outputs": [
    {
     "name": "stdout",
     "output_type": "stream",
     "text": [
      "[1] \"0.891527432108954\" \"4\"                 \"onset.latency\"    \n",
      "[1] \"0.870492347043083\" \"5\"                 \"efficiency\"       \n",
      "[1] \"0.102242175756318\" \"6\"                 \"WASO\"             \n",
      "[1] \"0.00072207995350091\" \"7\"                   \"X.probuzení\"        \n"
     ]
    },
    {
     "data": {
      "text/plain": [
       "\n",
       "\tPaired t-test\n",
       "\n",
       "data:  venek[, 7] and vnitrek[, 7]\n",
       "t = -4.6354, df = 11, p-value = 0.000361\n",
       "alternative hypothesis: true difference in means is less than 0\n",
       "95 percent confidence interval:\n",
       "      -Inf -6.100159\n",
       "sample estimates:\n",
       "mean of the differences \n",
       "              -9.958333 \n"
      ]
     },
     "metadata": {},
     "output_type": "display_data"
    },
    {
     "name": "stdout",
     "output_type": "stream",
     "text": [
      "[1] \"XXXXXXXXXXXXXXXXXXXXXXXXXXXX\"\n",
      "[1] \"0.548994434376146\"                    \n",
      "[2] \"3\"                                    \n",
      "[3] \"Dnes.jsem.se.vyspal.a.opravdu.skvěle.\"\n",
      "[1] \"0.728641978218357\"                \"4\"                               \n",
      "[3] \"Večer.jsem.usnul.a.velmi.rychle.\"\n",
      "[1] \"0.0217486159326938\"                     \n",
      "[2] \"5\"                                      \n",
      "[3] \"Během.noci.jsem.se.vůbec.neprobouzel.a.\"\n",
      "[1] \"0.899985095508063\"            \"6\"                           \n",
      "[3] \"V.noci.se.mi.zdály.živé.sny.\"\n",
      "[1] \"0.496591190367002\"                   \"7\"                                  \n",
      "[3] \"Pamatuji.si..co.se.mi.v.noci.zdálo.\"\n",
      "[1] \"0.358807847371101\"                  \"8\"                                 \n",
      "[3] \"Dnes.se.mi.vstávalo.opravdu.dobře.\"\n",
      "[1] \"0.324339243469778\"                                        \n",
      "[2] \"9\"                                                        \n",
      "[3] \"Po.probuzení.jsem.se.cítil.a.odpočatý.á.a.plný.á.energie.\"\n",
      "[1] \"0.00926052542144537\"                                           \n",
      "[2] \"10\"                                                            \n",
      "[3] \"Celkově.jsem.se.tento.den.cítil.a.plný.á.energie.a.neunavný.á.\"\n",
      "[1] \"0.0396354934331216\"                                                        \n",
      "[2] \"11\"                                                                        \n",
      "[3] \"Přes.den.se.mi.dařilo.soustředit.se.na.mé.aktivity.u.náročné.na.pozornost.\"\n",
      "[1] \"0.0282951027083858\"                                                       \n",
      "[2] \"12\"                                                                       \n",
      "[3] \"Celkově.jsem.tento.den.měl.a.chuť.podnikat.spoustu.produktivních.aktivit.\"\n",
      "[1] \"0.198950096891878\"                     \n",
      "[2] \"13\"                                    \n",
      "[3] \"Dnes.jsem.se.cítil.v.psychické.pohodě.\"\n",
      "[1] \"0.206138832117351\"                               \n",
      "[2] \"14\"                                              \n",
      "[3] \"Dnes.jsem.mě.l.chuť.vykonávat.fyzickou.aktivitu.\"\n"
     ]
    }
   ],
   "source": [
    "d_venek <- select(d_venek, -contains(\"help\"))\n",
    "d_vnitrek <- select(d_vnitrek, -contains(\"help\"))\n",
    "\n",
    "for (i in 4:ncol(venek)){\n",
    "    test1 <- t.test(venek[,i],vnitrek[,i], paired = TRUE, alternative = \"two.sided\")\n",
    "    #test2 <- t.test(venek[,i],vnitrek[,i], paired = FALSE, alternative = \"two.sided\")\n",
    "    print(c(test1$p.value, i , colnames(venek)[i]))\n",
    "}\n",
    "\n",
    "t.test(venek[,7],vnitrek[,7], paired = TRUE, alternative = \"less\")\n",
    "print(\"XXXXXXXXXXXXXXXXXXXXXXXXXXXX\")\n",
    "\n",
    "\n",
    "for (i in 3:ncol(d_venek)){\n",
    "    test <- t.test(d_venek[,i], d_vnitrek[,i], paired = TRUE, alternative = \"two.sided\")\n",
    "    print(c(test$p.value,i, colnames(d_venek)[i]))\n",
    "}"
   ]
  },
  {
   "cell_type": "code",
   "execution_count": 11,
   "id": "3c9acbcb",
   "metadata": {},
   "outputs": [
    {
     "data": {
      "text/html": [
       "<table>\n",
       "<thead><tr><th></th><th scope=col>Během.noci.jsem.se.vůbec.neprobouzel.a.</th><th scope=col>Celkově.jsem.se.tento.den.cítil.a.plný.á.energie.a.neunavný.á.</th><th scope=col>Přes.den.se.mi.dařilo.soustředit.se.na.mé.aktivity.u.náročné.na.pozornost.</th><th scope=col>Celkově.jsem.tento.den.měl.a.chuť.podnikat.spoustu.produktivních.aktivit.</th></tr></thead>\n",
       "<tbody>\n",
       "\t<tr><th scope=row>2</th><td>11</td><td> 6</td><td> 6</td><td> 5</td></tr>\n",
       "\t<tr><th scope=row>4</th><td>10</td><td> 8</td><td> 8</td><td>11</td></tr>\n",
       "\t<tr><th scope=row>6</th><td> 6</td><td> 6</td><td> 7</td><td> 4</td></tr>\n",
       "\t<tr><th scope=row>8</th><td>13</td><td>12</td><td> 9</td><td> 9</td></tr>\n",
       "\t<tr><th scope=row>10</th><td> 7</td><td> 6</td><td> 7</td><td> 5</td></tr>\n",
       "\t<tr><th scope=row>12</th><td> 7</td><td> 7</td><td> 7</td><td> 8</td></tr>\n",
       "\t<tr><th scope=row>14</th><td>12</td><td>10</td><td> 7</td><td> 8</td></tr>\n",
       "\t<tr><th scope=row>16</th><td> 6</td><td> 8</td><td> 7</td><td> 9</td></tr>\n",
       "\t<tr><th scope=row>18</th><td> 9</td><td> 7</td><td> 8</td><td> 6</td></tr>\n",
       "\t<tr><th scope=row>20</th><td>13</td><td>13</td><td> 4</td><td>12</td></tr>\n",
       "\t<tr><th scope=row>22</th><td> 9</td><td>12</td><td>11</td><td>12</td></tr>\n",
       "\t<tr><th scope=row>24</th><td> 8</td><td> 6</td><td> 5</td><td> 5</td></tr>\n",
       "</tbody>\n",
       "</table>\n"
      ],
      "text/latex": [
       "\\begin{tabular}{r|llll}\n",
       "  & Během.noci.jsem.se.vůbec.neprobouzel.a. & Celkově.jsem.se.tento.den.cítil.a.plný.á.energie.a.neunavný.á. & Přes.den.se.mi.dařilo.soustředit.se.na.mé.aktivity.u.náročné.na.pozornost. & Celkově.jsem.tento.den.měl.a.chuť.podnikat.spoustu.produktivních.aktivit.\\\\\n",
       "\\hline\n",
       "\t2 & 11 &  6 &  6 &  5\\\\\n",
       "\t4 & 10 &  8 &  8 & 11\\\\\n",
       "\t6 &  6 &  6 &  7 &  4\\\\\n",
       "\t8 & 13 & 12 &  9 &  9\\\\\n",
       "\t10 &  7 &  6 &  7 &  5\\\\\n",
       "\t12 &  7 &  7 &  7 &  8\\\\\n",
       "\t14 & 12 & 10 &  7 &  8\\\\\n",
       "\t16 &  6 &  8 &  7 &  9\\\\\n",
       "\t18 &  9 &  7 &  8 &  6\\\\\n",
       "\t20 & 13 & 13 &  4 & 12\\\\\n",
       "\t22 &  9 & 12 & 11 & 12\\\\\n",
       "\t24 &  8 &  6 &  5 &  5\\\\\n",
       "\\end{tabular}\n"
      ],
      "text/markdown": [
       "\n",
       "| <!--/--> | Během.noci.jsem.se.vůbec.neprobouzel.a. | Celkově.jsem.se.tento.den.cítil.a.plný.á.energie.a.neunavný.á. | Přes.den.se.mi.dařilo.soustředit.se.na.mé.aktivity.u.náročné.na.pozornost. | Celkově.jsem.tento.den.měl.a.chuť.podnikat.spoustu.produktivních.aktivit. |\n",
       "|---|---|---|---|---|\n",
       "| 2 | 11 |  6 |  6 |  5 |\n",
       "| 4 | 10 |  8 |  8 | 11 |\n",
       "| 6 |  6 |  6 |  7 |  4 |\n",
       "| 8 | 13 | 12 |  9 |  9 |\n",
       "| 10 |  7 |  6 |  7 |  5 |\n",
       "| 12 |  7 |  7 |  7 |  8 |\n",
       "| 14 | 12 | 10 |  7 |  8 |\n",
       "| 16 |  6 |  8 |  7 |  9 |\n",
       "| 18 |  9 |  7 |  8 |  6 |\n",
       "| 20 | 13 | 13 |  4 | 12 |\n",
       "| 22 |  9 | 12 | 11 | 12 |\n",
       "| 24 |  8 |  6 |  5 |  5 |\n",
       "\n"
      ],
      "text/plain": [
       "   Během.noci.jsem.se.vůbec.neprobouzel.a.\n",
       "2  11                                     \n",
       "4  10                                     \n",
       "6   6                                     \n",
       "8  13                                     \n",
       "10  7                                     \n",
       "12  7                                     \n",
       "14 12                                     \n",
       "16  6                                     \n",
       "18  9                                     \n",
       "20 13                                     \n",
       "22  9                                     \n",
       "24  8                                     \n",
       "   Celkově.jsem.se.tento.den.cítil.a.plný.á.energie.a.neunavný.á.\n",
       "2   6                                                            \n",
       "4   8                                                            \n",
       "6   6                                                            \n",
       "8  12                                                            \n",
       "10  6                                                            \n",
       "12  7                                                            \n",
       "14 10                                                            \n",
       "16  8                                                            \n",
       "18  7                                                            \n",
       "20 13                                                            \n",
       "22 12                                                            \n",
       "24  6                                                            \n",
       "   Přes.den.se.mi.dařilo.soustředit.se.na.mé.aktivity.u.náročné.na.pozornost.\n",
       "2   6                                                                        \n",
       "4   8                                                                        \n",
       "6   7                                                                        \n",
       "8   9                                                                        \n",
       "10  7                                                                        \n",
       "12  7                                                                        \n",
       "14  7                                                                        \n",
       "16  7                                                                        \n",
       "18  8                                                                        \n",
       "20  4                                                                        \n",
       "22 11                                                                        \n",
       "24  5                                                                        \n",
       "   Celkově.jsem.tento.den.měl.a.chuť.podnikat.spoustu.produktivních.aktivit.\n",
       "2   5                                                                       \n",
       "4  11                                                                       \n",
       "6   4                                                                       \n",
       "8   9                                                                       \n",
       "10  5                                                                       \n",
       "12  8                                                                       \n",
       "14  8                                                                       \n",
       "16  9                                                                       \n",
       "18  6                                                                       \n",
       "20 12                                                                       \n",
       "22 12                                                                       \n",
       "24  5                                                                       "
      ]
     },
     "metadata": {},
     "output_type": "display_data"
    }
   ],
   "source": [
    "d_venek[,c(5,10,11,12)]"
   ]
  },
  {
   "cell_type": "code",
   "execution_count": 12,
   "id": "ece14ec4",
   "metadata": {},
   "outputs": [
    {
     "data": {
      "text/plain": [
       "\n",
       "\tPaired t-test\n",
       "\n",
       "data:  d_venek[, 5] and d_vnitrek[, 5]\n",
       "t = 2.6712, df = 11, p-value = 0.01087\n",
       "alternative hypothesis: true difference in means is greater than 0\n",
       "95 percent confidence interval:\n",
       " 0.6553558       Inf\n",
       "sample estimates:\n",
       "mean of the differences \n",
       "                      2 \n"
      ]
     },
     "metadata": {},
     "output_type": "display_data"
    },
    {
     "data": {
      "text/plain": [
       "\n",
       "\tPaired t-test\n",
       "\n",
       "data:  d_venek[, 10] and d_vnitrek[, 10]\n",
       "t = 3.1489, df = 11, p-value = 0.00463\n",
       "alternative hypothesis: true difference in means is greater than 0\n",
       "95 percent confidence interval:\n",
       " 1.145804      Inf\n",
       "sample estimates:\n",
       "mean of the differences \n",
       "               2.666667 \n"
      ]
     },
     "metadata": {},
     "output_type": "display_data"
    },
    {
     "data": {
      "text/plain": [
       "\n",
       "\tPaired t-test\n",
       "\n",
       "data:  d_venek[, 11] and d_vnitrek[, 11]\n",
       "t = 2.3333, df = 11, p-value = 0.01982\n",
       "alternative hypothesis: true difference in means is greater than 0\n",
       "95 percent confidence interval:\n",
       " 0.4030864       Inf\n",
       "sample estimates:\n",
       "mean of the differences \n",
       "                   1.75 \n"
      ]
     },
     "metadata": {},
     "output_type": "display_data"
    },
    {
     "data": {
      "text/plain": [
       "\n",
       "\tPaired t-test\n",
       "\n",
       "data:  d_venek[, 12] and d_vnitrek[, 12]\n",
       "t = 2.5236, df = 11, p-value = 0.01415\n",
       "alternative hypothesis: true difference in means is greater than 0\n",
       "95 percent confidence interval:\n",
       " 0.5286533       Inf\n",
       "sample estimates:\n",
       "mean of the differences \n",
       "               1.833333 \n"
      ]
     },
     "metadata": {},
     "output_type": "display_data"
    },
    {
     "data": {
      "text/html": [
       "111"
      ],
      "text/latex": [
       "111"
      ],
      "text/markdown": [
       "111"
      ],
      "text/plain": [
       "[1] 111"
      ]
     },
     "metadata": {},
     "output_type": "display_data"
    },
    {
     "data": {
      "text/html": [
       "87"
      ],
      "text/latex": [
       "87"
      ],
      "text/markdown": [
       "87"
      ],
      "text/plain": [
       "[1] 87"
      ]
     },
     "metadata": {},
     "output_type": "display_data"
    }
   ],
   "source": [
    "t.test(d_venek[,5], d_vnitrek[,5], paired = TRUE, alternative = \"greater\")\n",
    "t.test(d_venek[,10], d_vnitrek[,10], paired = TRUE, alternative = \"greater\")\n",
    "t.test(d_venek[,11], d_vnitrek[,11], paired = TRUE, alternative = \"greater\")\n",
    "t.test(d_venek[,12], d_vnitrek[,12], paired = TRUE, alternative = \"greater\")\n",
    "\n",
    "sum(d_venek[,5])\n",
    "sum(d_vnitrek[,5])"
   ]
  },
  {
   "cell_type": "code",
   "execution_count": 13,
   "id": "c2bfa886",
   "metadata": {},
   "outputs": [
    {
     "name": "stderr",
     "output_type": "stream",
     "text": [
      "Warning message in wilcox.test.default(d_venek[, i], d_vnitrek[, i], paired = TRUE, :\n",
      "\"cannot compute exact p-value with ties\"Warning message in wilcox.test.default(d_venek[, i], d_vnitrek[, i], paired = TRUE, :\n",
      "\"cannot compute exact p-value with zeroes\""
     ]
    },
    {
     "name": "stdout",
     "output_type": "stream",
     "text": [
      "[1] \"0.592980098017427\"                    \n",
      "[2] \"3\"                                    \n",
      "[3] \"Dnes.jsem.se.vyspal.a.opravdu.skvěle.\"\n"
     ]
    },
    {
     "name": "stderr",
     "output_type": "stream",
     "text": [
      "Warning message in wilcox.test.default(d_venek[, i], d_vnitrek[, i], paired = TRUE, :\n",
      "\"cannot compute exact p-value with ties\"Warning message in wilcox.test.default(d_venek[, i], d_vnitrek[, i], paired = TRUE, :\n",
      "\"cannot compute exact p-value with zeroes\""
     ]
    },
    {
     "name": "stdout",
     "output_type": "stream",
     "text": [
      "[1] \"1\"                                \"4\"                               \n",
      "[3] \"Večer.jsem.usnul.a.velmi.rychle.\"\n"
     ]
    },
    {
     "name": "stderr",
     "output_type": "stream",
     "text": [
      "Warning message in wilcox.test.default(d_venek[, i], d_vnitrek[, i], paired = TRUE, :\n",
      "\"cannot compute exact p-value with ties\"Warning message in wilcox.test.default(d_venek[, i], d_vnitrek[, i], paired = TRUE, :\n",
      "\"cannot compute exact p-value with zeroes\""
     ]
    },
    {
     "name": "stdout",
     "output_type": "stream",
     "text": [
      "[1] \"0.02858531796617\"                       \n",
      "[2] \"5\"                                      \n",
      "[3] \"Během.noci.jsem.se.vůbec.neprobouzel.a.\"\n"
     ]
    },
    {
     "name": "stderr",
     "output_type": "stream",
     "text": [
      "Warning message in wilcox.test.default(d_venek[, i], d_vnitrek[, i], paired = TRUE, :\n",
      "\"cannot compute exact p-value with ties\""
     ]
    },
    {
     "name": "stdout",
     "output_type": "stream",
     "text": [
      "[1] \"0.968518181269161\"            \"6\"                           \n",
      "[3] \"V.noci.se.mi.zdály.živé.sny.\"\n"
     ]
    },
    {
     "name": "stderr",
     "output_type": "stream",
     "text": [
      "Warning message in wilcox.test.default(d_venek[, i], d_vnitrek[, i], paired = TRUE, :\n",
      "\"cannot compute exact p-value with ties\"Warning message in wilcox.test.default(d_venek[, i], d_vnitrek[, i], paired = TRUE, :\n",
      "\"cannot compute exact p-value with zeroes\""
     ]
    },
    {
     "name": "stdout",
     "output_type": "stream",
     "text": [
      "[1] \"0.62066125300532\"                    \"7\"                                  \n",
      "[3] \"Pamatuji.si..co.se.mi.v.noci.zdálo.\"\n"
     ]
    },
    {
     "name": "stderr",
     "output_type": "stream",
     "text": [
      "Warning message in wilcox.test.default(d_venek[, i], d_vnitrek[, i], paired = TRUE, :\n",
      "\"cannot compute exact p-value with ties\"Warning message in wilcox.test.default(d_venek[, i], d_vnitrek[, i], paired = TRUE, :\n",
      "\"cannot compute exact p-value with zeroes\""
     ]
    },
    {
     "name": "stdout",
     "output_type": "stream",
     "text": [
      "[1] \"0.472274270406269\"                  \"8\"                                 \n",
      "[3] \"Dnes.se.mi.vstávalo.opravdu.dobře.\"\n"
     ]
    },
    {
     "name": "stderr",
     "output_type": "stream",
     "text": [
      "Warning message in wilcox.test.default(d_venek[, i], d_vnitrek[, i], paired = TRUE, :\n",
      "\"cannot compute exact p-value with ties\""
     ]
    },
    {
     "name": "stdout",
     "output_type": "stream",
     "text": [
      "[1] \"0.344097668657168\"                                        \n",
      "[2] \"9\"                                                        \n",
      "[3] \"Po.probuzení.jsem.se.cítil.a.odpočatý.á.a.plný.á.energie.\"\n"
     ]
    },
    {
     "name": "stderr",
     "output_type": "stream",
     "text": [
      "Warning message in wilcox.test.default(d_venek[, i], d_vnitrek[, i], paired = TRUE, :\n",
      "\"cannot compute exact p-value with ties\"Warning message in wilcox.test.default(d_venek[, i], d_vnitrek[, i], paired = TRUE, :\n",
      "\"cannot compute exact p-value with zeroes\""
     ]
    },
    {
     "name": "stdout",
     "output_type": "stream",
     "text": [
      "[1] \"0.0160515641839408\"                                            \n",
      "[2] \"10\"                                                            \n",
      "[3] \"Celkově.jsem.se.tento.den.cítil.a.plný.á.energie.a.neunavný.á.\"\n"
     ]
    },
    {
     "name": "stderr",
     "output_type": "stream",
     "text": [
      "Warning message in wilcox.test.default(d_venek[, i], d_vnitrek[, i], paired = TRUE, :\n",
      "\"cannot compute exact p-value with ties\"Warning message in wilcox.test.default(d_venek[, i], d_vnitrek[, i], paired = TRUE, :\n",
      "\"cannot compute exact p-value with zeroes\""
     ]
    },
    {
     "name": "stdout",
     "output_type": "stream",
     "text": [
      "[1] \"0.0509466479447618\"                                                        \n",
      "[2] \"11\"                                                                        \n",
      "[3] \"Přes.den.se.mi.dařilo.soustředit.se.na.mé.aktivity.u.náročné.na.pozornost.\"\n"
     ]
    },
    {
     "name": "stderr",
     "output_type": "stream",
     "text": [
      "Warning message in wilcox.test.default(d_venek[, i], d_vnitrek[, i], paired = TRUE, :\n",
      "\"cannot compute exact p-value with ties\""
     ]
    },
    {
     "name": "stdout",
     "output_type": "stream",
     "text": [
      "[1] \"0.0366803846239437\"                                                       \n",
      "[2] \"12\"                                                                       \n",
      "[3] \"Celkově.jsem.tento.den.měl.a.chuť.podnikat.spoustu.produktivních.aktivit.\"\n"
     ]
    },
    {
     "name": "stderr",
     "output_type": "stream",
     "text": [
      "Warning message in wilcox.test.default(d_venek[, i], d_vnitrek[, i], paired = TRUE, :\n",
      "\"cannot compute exact p-value with ties\"Warning message in wilcox.test.default(d_venek[, i], d_vnitrek[, i], paired = TRUE, :\n",
      "\"cannot compute exact p-value with zeroes\""
     ]
    },
    {
     "name": "stdout",
     "output_type": "stream",
     "text": [
      "[1] \"0.234074599988222\"                     \n",
      "[2] \"13\"                                    \n",
      "[3] \"Dnes.jsem.se.cítil.v.psychické.pohodě.\"\n"
     ]
    },
    {
     "name": "stderr",
     "output_type": "stream",
     "text": [
      "Warning message in wilcox.test.default(d_venek[, i], d_vnitrek[, i], paired = TRUE, :\n",
      "\"cannot compute exact p-value with ties\"Warning message in wilcox.test.default(d_venek[, i], d_vnitrek[, i], paired = TRUE, :\n",
      "\"cannot compute exact p-value with zeroes\""
     ]
    },
    {
     "name": "stdout",
     "output_type": "stream",
     "text": [
      "[1] \"0.171938366058103\"                               \n",
      "[2] \"14\"                                              \n",
      "[3] \"Dnes.jsem.mě.l.chuť.vykonávat.fyzickou.aktivitu.\"\n"
     ]
    },
    {
     "name": "stderr",
     "output_type": "stream",
     "text": [
      "Warning message in wilcox.test.default(venek[, i], vnitrek[, i], paired = TRUE, :\n",
      "\"cannot compute exact p-value with ties\""
     ]
    },
    {
     "name": "stdout",
     "output_type": "stream",
     "text": [
      "[1] \"0.783571125214368\" \"onset.latency\"    \n",
      "[1] \"0.85009765625\" \"efficiency\"   \n",
      "[1] \"0.10986328125\" \"WASO\"         \n"
     ]
    },
    {
     "name": "stderr",
     "output_type": "stream",
     "text": [
      "Warning message in wilcox.test.default(venek[, i], vnitrek[, i], paired = TRUE, :\n",
      "\"cannot compute exact p-value with ties\""
     ]
    },
    {
     "name": "stdout",
     "output_type": "stream",
     "text": [
      "[1] \"0.00531994991967876\" \"X.probuzení\"        \n"
     ]
    }
   ],
   "source": [
    "for (i in 3:ncol(d_venek)){\n",
    "    test <- wilcox.test(d_venek[,i], d_vnitrek[,i], paired = TRUE, alternative = \"two.sided\")\n",
    "    print(c(test$p.value,i, colnames(d_venek)[i]))\n",
    "}\n",
    "\n",
    "for (i in 4:ncol(venek)){\n",
    "    test1 <- wilcox.test(venek[,i], vnitrek[,i], paired = TRUE, alternative = \"two.sided\")\n",
    "    #test2 <- t.test(venek[,i],vnitrek[,i], paired = FALSE, alternative = \"two.sided\")\n",
    "    print(c(test1$p.value, colnames(venek)[i]))\n",
    "}"
   ]
  },
  {
   "cell_type": "markdown",
   "id": "04ff577d",
   "metadata": {},
   "source": [
    "# Dotazníky"
   ]
  },
  {
   "cell_type": "code",
   "execution_count": 14,
   "id": "1fac548b",
   "metadata": {},
   "outputs": [],
   "source": [
    "dotaznik_1noc <- data.frame(read_excel(\"Dotaznik-1.noc-venku.xlsx\")) #nacitam data\n",
    "dotaznik_2noc <- data.frame(read_excel(\"Dotaznik-2.noc-venku.xlsx\")) #nacitam data"
   ]
  },
  {
   "cell_type": "code",
   "execution_count": 15,
   "id": "9c163aae",
   "metadata": {},
   "outputs": [
    {
     "data": {
      "text/html": [
       "<table>\n",
       "<thead><tr><th scope=col>Dnes.jsem.se.vyspal.a.opravdu.skvěle.</th><th scope=col>Večer.jsem.usnul.a.velmi.rychle.</th><th scope=col>Během.noci.jsem.se.vůbec.neprobouzel.a.</th><th scope=col>V.noci.se.mi.zdály.živé.sny.</th><th scope=col>Pamatuji.si..co.se.mi.v.noci.zdálo.</th><th scope=col>Dnes.se.mi.vstávalo.opravdu.dobře.</th><th scope=col>Po.probuzení.jsem.se.cítil.a.odpočatý.á.a.plný.á.energie.</th><th scope=col>Celkově.jsem.se.tento.den.cítil.a.plný.á.energie.a.neunavný.á.</th><th scope=col>Přes.den.se.mi.dařilo.soustředit.se.na.mé.aktivity.u.náročné.na.pozornost.</th><th scope=col>Celkově.jsem.tento.den.měl.a.chuť.podnikat.spoustu.produktivních.aktivit.</th><th scope=col>Dnes.jsem.se.cítil.v.psychické.pohodě.</th><th scope=col>Dnes.jsem.mě.l.chuť.vykonávat.fyzickou.aktivitu.</th></tr></thead>\n",
       "<tbody>\n",
       "\t<tr><td>2</td><td>3</td><td>5</td><td>2</td><td>6</td><td>1</td><td>2</td><td>3</td><td>3</td><td>2</td><td>1</td><td>3</td></tr>\n",
       "\t<tr><td>3</td><td>2</td><td>7</td><td>6</td><td>5</td><td>4</td><td>6</td><td>3</td><td>4</td><td>5</td><td>5</td><td>5</td></tr>\n",
       "\t<tr><td>2</td><td>2</td><td>4</td><td>1</td><td>5</td><td>3</td><td>3</td><td>3</td><td>4</td><td>3</td><td>2</td><td>1</td></tr>\n",
       "\t<tr><td>5</td><td>3</td><td>7</td><td>6</td><td>7</td><td>2</td><td>3</td><td>6</td><td>5</td><td>6</td><td>4</td><td>4</td></tr>\n",
       "\t<tr><td>3</td><td>4</td><td>5</td><td>1</td><td>2</td><td>1</td><td>3</td><td>4</td><td>3</td><td>3</td><td>2</td><td>6</td></tr>\n",
       "\t<tr><td>3</td><td>4</td><td>5</td><td>2</td><td>3</td><td>4</td><td>2</td><td>5</td><td>4</td><td>5</td><td>3</td><td>4</td></tr>\n",
       "</tbody>\n",
       "</table>\n"
      ],
      "text/latex": [
       "\\begin{tabular}{r|llllllllllll}\n",
       " Dnes.jsem.se.vyspal.a.opravdu.skvěle. & Večer.jsem.usnul.a.velmi.rychle. & Během.noci.jsem.se.vůbec.neprobouzel.a. & V.noci.se.mi.zdály.živé.sny. & Pamatuji.si..co.se.mi.v.noci.zdálo. & Dnes.se.mi.vstávalo.opravdu.dobře. & Po.probuzení.jsem.se.cítil.a.odpočatý.á.a.plný.á.energie. & Celkově.jsem.se.tento.den.cítil.a.plný.á.energie.a.neunavný.á. & Přes.den.se.mi.dařilo.soustředit.se.na.mé.aktivity.u.náročné.na.pozornost. & Celkově.jsem.tento.den.měl.a.chuť.podnikat.spoustu.produktivních.aktivit. & Dnes.jsem.se.cítil.v.psychické.pohodě. & Dnes.jsem.mě.l.chuť.vykonávat.fyzickou.aktivitu.\\\\\n",
       "\\hline\n",
       "\t 2 & 3 & 5 & 2 & 6 & 1 & 2 & 3 & 3 & 2 & 1 & 3\\\\\n",
       "\t 3 & 2 & 7 & 6 & 5 & 4 & 6 & 3 & 4 & 5 & 5 & 5\\\\\n",
       "\t 2 & 2 & 4 & 1 & 5 & 3 & 3 & 3 & 4 & 3 & 2 & 1\\\\\n",
       "\t 5 & 3 & 7 & 6 & 7 & 2 & 3 & 6 & 5 & 6 & 4 & 4\\\\\n",
       "\t 3 & 4 & 5 & 1 & 2 & 1 & 3 & 4 & 3 & 3 & 2 & 6\\\\\n",
       "\t 3 & 4 & 5 & 2 & 3 & 4 & 2 & 5 & 4 & 5 & 3 & 4\\\\\n",
       "\\end{tabular}\n"
      ],
      "text/markdown": [
       "\n",
       "| Dnes.jsem.se.vyspal.a.opravdu.skvěle. | Večer.jsem.usnul.a.velmi.rychle. | Během.noci.jsem.se.vůbec.neprobouzel.a. | V.noci.se.mi.zdály.živé.sny. | Pamatuji.si..co.se.mi.v.noci.zdálo. | Dnes.se.mi.vstávalo.opravdu.dobře. | Po.probuzení.jsem.se.cítil.a.odpočatý.á.a.plný.á.energie. | Celkově.jsem.se.tento.den.cítil.a.plný.á.energie.a.neunavný.á. | Přes.den.se.mi.dařilo.soustředit.se.na.mé.aktivity.u.náročné.na.pozornost. | Celkově.jsem.tento.den.měl.a.chuť.podnikat.spoustu.produktivních.aktivit. | Dnes.jsem.se.cítil.v.psychické.pohodě. | Dnes.jsem.mě.l.chuť.vykonávat.fyzickou.aktivitu. |\n",
       "|---|---|---|---|---|---|---|---|---|---|---|---|\n",
       "| 2 | 3 | 5 | 2 | 6 | 1 | 2 | 3 | 3 | 2 | 1 | 3 |\n",
       "| 3 | 2 | 7 | 6 | 5 | 4 | 6 | 3 | 4 | 5 | 5 | 5 |\n",
       "| 2 | 2 | 4 | 1 | 5 | 3 | 3 | 3 | 4 | 3 | 2 | 1 |\n",
       "| 5 | 3 | 7 | 6 | 7 | 2 | 3 | 6 | 5 | 6 | 4 | 4 |\n",
       "| 3 | 4 | 5 | 1 | 2 | 1 | 3 | 4 | 3 | 3 | 2 | 6 |\n",
       "| 3 | 4 | 5 | 2 | 3 | 4 | 2 | 5 | 4 | 5 | 3 | 4 |\n",
       "\n"
      ],
      "text/plain": [
       "  Dnes.jsem.se.vyspal.a.opravdu.skvěle. Večer.jsem.usnul.a.velmi.rychle.\n",
       "1 2                                     3                               \n",
       "2 3                                     2                               \n",
       "3 2                                     2                               \n",
       "4 5                                     3                               \n",
       "5 3                                     4                               \n",
       "6 3                                     4                               \n",
       "  Během.noci.jsem.se.vůbec.neprobouzel.a. V.noci.se.mi.zdály.živé.sny.\n",
       "1 5                                       2                           \n",
       "2 7                                       6                           \n",
       "3 4                                       1                           \n",
       "4 7                                       6                           \n",
       "5 5                                       1                           \n",
       "6 5                                       2                           \n",
       "  Pamatuji.si..co.se.mi.v.noci.zdálo. Dnes.se.mi.vstávalo.opravdu.dobře.\n",
       "1 6                                   1                                 \n",
       "2 5                                   4                                 \n",
       "3 5                                   3                                 \n",
       "4 7                                   2                                 \n",
       "5 2                                   1                                 \n",
       "6 3                                   4                                 \n",
       "  Po.probuzení.jsem.se.cítil.a.odpočatý.á.a.plný.á.energie.\n",
       "1 2                                                        \n",
       "2 6                                                        \n",
       "3 3                                                        \n",
       "4 3                                                        \n",
       "5 3                                                        \n",
       "6 2                                                        \n",
       "  Celkově.jsem.se.tento.den.cítil.a.plný.á.energie.a.neunavný.á.\n",
       "1 3                                                             \n",
       "2 3                                                             \n",
       "3 3                                                             \n",
       "4 6                                                             \n",
       "5 4                                                             \n",
       "6 5                                                             \n",
       "  Přes.den.se.mi.dařilo.soustředit.se.na.mé.aktivity.u.náročné.na.pozornost.\n",
       "1 3                                                                         \n",
       "2 4                                                                         \n",
       "3 4                                                                         \n",
       "4 5                                                                         \n",
       "5 3                                                                         \n",
       "6 4                                                                         \n",
       "  Celkově.jsem.tento.den.měl.a.chuť.podnikat.spoustu.produktivních.aktivit.\n",
       "1 2                                                                        \n",
       "2 5                                                                        \n",
       "3 3                                                                        \n",
       "4 6                                                                        \n",
       "5 3                                                                        \n",
       "6 5                                                                        \n",
       "  Dnes.jsem.se.cítil.v.psychické.pohodě.\n",
       "1 1                                     \n",
       "2 5                                     \n",
       "3 2                                     \n",
       "4 4                                     \n",
       "5 2                                     \n",
       "6 3                                     \n",
       "  Dnes.jsem.mě.l.chuť.vykonávat.fyzickou.aktivitu.\n",
       "1 3                                               \n",
       "2 5                                               \n",
       "3 1                                               \n",
       "4 4                                               \n",
       "5 6                                               \n",
       "6 4                                               "
      ]
     },
     "metadata": {},
     "output_type": "display_data"
    }
   ],
   "source": [
    "dotaznik_1noc %>% head()"
   ]
  },
  {
   "cell_type": "code",
   "execution_count": 16,
   "id": "d545af28",
   "metadata": {},
   "outputs": [
    {
     "name": "stderr",
     "output_type": "stream",
     "text": [
      "Warning message in wilcox.test.default(dotaznik_1noc[, i], dotaznik_2noc[, i], paired = TRUE, :\n",
      "\"cannot compute exact p-value with ties\"Warning message in wilcox.test.default(dotaznik_1noc[, i], dotaznik_2noc[, i], paired = TRUE, :\n",
      "\"cannot compute exact p-value with zeroes\""
     ]
    },
    {
     "name": "stdout",
     "output_type": "stream",
     "text": [
      "[1] \"0.342881409787373\"                    \n",
      "[2] \"Dnes.jsem.se.vyspal.a.opravdu.skvěle.\"\n"
     ]
    },
    {
     "name": "stderr",
     "output_type": "stream",
     "text": [
      "Warning message in wilcox.test.default(dotaznik_1noc[, i], dotaznik_2noc[, i], paired = TRUE, :\n",
      "\"cannot compute exact p-value with ties\"Warning message in wilcox.test.default(dotaznik_1noc[, i], dotaznik_2noc[, i], paired = TRUE, :\n",
      "\"cannot compute exact p-value with zeroes\""
     ]
    },
    {
     "name": "stdout",
     "output_type": "stream",
     "text": [
      "[1] \"0.0249367629995495\"               \"Večer.jsem.usnul.a.velmi.rychle.\"\n"
     ]
    },
    {
     "name": "stderr",
     "output_type": "stream",
     "text": [
      "Warning message in wilcox.test.default(dotaznik_1noc[, i], dotaznik_2noc[, i], paired = TRUE, :\n",
      "\"cannot compute exact p-value with ties\""
     ]
    },
    {
     "name": "stdout",
     "output_type": "stream",
     "text": [
      "[1] \"0.178279010583314\"                      \n",
      "[2] \"Během.noci.jsem.se.vůbec.neprobouzel.a.\"\n"
     ]
    },
    {
     "name": "stderr",
     "output_type": "stream",
     "text": [
      "Warning message in wilcox.test.default(dotaznik_1noc[, i], dotaznik_2noc[, i], paired = TRUE, :\n",
      "\"cannot compute exact p-value with ties\"Warning message in wilcox.test.default(dotaznik_1noc[, i], dotaznik_2noc[, i], paired = TRUE, :\n",
      "\"cannot compute exact p-value with zeroes\""
     ]
    },
    {
     "name": "stdout",
     "output_type": "stream",
     "text": [
      "[1] \"0.089236846349962\"            \"V.noci.se.mi.zdály.živé.sny.\"\n"
     ]
    },
    {
     "name": "stderr",
     "output_type": "stream",
     "text": [
      "Warning message in wilcox.test.default(dotaznik_1noc[, i], dotaznik_2noc[, i], paired = TRUE, :\n",
      "\"cannot compute exact p-value with ties\"Warning message in wilcox.test.default(dotaznik_1noc[, i], dotaznik_2noc[, i], paired = TRUE, :\n",
      "\"cannot compute exact p-value with zeroes\""
     ]
    },
    {
     "name": "stdout",
     "output_type": "stream",
     "text": [
      "[1] \"0.102578636877084\"                   \"Pamatuji.si..co.se.mi.v.noci.zdálo.\"\n"
     ]
    },
    {
     "name": "stderr",
     "output_type": "stream",
     "text": [
      "Warning message in wilcox.test.default(dotaznik_1noc[, i], dotaznik_2noc[, i], paired = TRUE, :\n",
      "\"cannot compute exact p-value with ties\"Warning message in wilcox.test.default(dotaznik_1noc[, i], dotaznik_2noc[, i], paired = TRUE, :\n",
      "\"cannot compute exact p-value with zeroes\""
     ]
    },
    {
     "name": "stdout",
     "output_type": "stream",
     "text": [
      "[1] \"0.429017174541798\"                  \"Dnes.se.mi.vstávalo.opravdu.dobře.\"\n"
     ]
    },
    {
     "name": "stderr",
     "output_type": "stream",
     "text": [
      "Warning message in wilcox.test.default(dotaznik_1noc[, i], dotaznik_2noc[, i], paired = TRUE, :\n",
      "\"cannot compute exact p-value with ties\"Warning message in wilcox.test.default(dotaznik_1noc[, i], dotaznik_2noc[, i], paired = TRUE, :\n",
      "\"cannot compute exact p-value with zeroes\""
     ]
    },
    {
     "name": "stdout",
     "output_type": "stream",
     "text": [
      "[1] \"0.680524131462573\"                                        \n",
      "[2] \"Po.probuzení.jsem.se.cítil.a.odpočatý.á.a.plný.á.energie.\"\n"
     ]
    },
    {
     "name": "stderr",
     "output_type": "stream",
     "text": [
      "Warning message in wilcox.test.default(dotaznik_1noc[, \"Večer.jsem.usnul.a.velmi.rychle.\"], :\n",
      "\"cannot compute exact p-value with ties\"Warning message in wilcox.test.default(dotaznik_1noc[, \"Večer.jsem.usnul.a.velmi.rychle.\"], :\n",
      "\"cannot compute exact p-value with zeroes\""
     ]
    },
    {
     "data": {
      "text/plain": [
       "\n",
       "\tWilcoxon signed rank test with continuity correction\n",
       "\n",
       "data:  dotaznik_1noc[, \"Večer.jsem.usnul.a.velmi.rychle.\"] and dotaznik_2noc[, \"Večer.jsem.usnul.a.velmi.rychle.\"]\n",
       "V = 58, p-value = 0.9902\n",
       "alternative hypothesis: true location shift is less than 0\n"
      ]
     },
     "metadata": {},
     "output_type": "display_data"
    },
    {
     "name": "stderr",
     "output_type": "stream",
     "text": [
      "Warning message in wilcox.test.default(dotaznik_1noc[, \"Večer.jsem.usnul.a.velmi.rychle.\"], :\n",
      "\"cannot compute exact p-value with ties\"Warning message in wilcox.test.default(dotaznik_1noc[, \"Večer.jsem.usnul.a.velmi.rychle.\"], :\n",
      "\"cannot compute exact p-value with zeroes\""
     ]
    },
    {
     "data": {
      "text/plain": [
       "\n",
       "\tWilcoxon signed rank test with continuity correction\n",
       "\n",
       "data:  dotaznik_1noc[, \"Večer.jsem.usnul.a.velmi.rychle.\"] and dotaznik_2noc[, \"Večer.jsem.usnul.a.velmi.rychle.\"]\n",
       "V = 58, p-value = 0.02494\n",
       "alternative hypothesis: true location shift is not equal to 0\n"
      ]
     },
     "metadata": {},
     "output_type": "display_data"
    }
   ],
   "source": [
    "for (i in 1:ncol(venek)){\n",
    "    test1 <- wilcox.test(dotaznik_1noc[,i], dotaznik_2noc[,i], paired = TRUE, alternative = \"two.sided\", correct = TRUE)\n",
    "    #test2 <- t.test(venek[,i],vnitrek[,i], paired = FALSE, alternative = \"two.sided\")\n",
    "    print(c(test1$p.value, colnames(dotaznik_1noc)[i]))\n",
    "}\n",
    "\n",
    "wilcox.test(dotaznik_1noc[,\"Večer.jsem.usnul.a.velmi.rychle.\"], dotaznik_2noc[,\"Večer.jsem.usnul.a.velmi.rychle.\"], \n",
    "            paired = TRUE, alternative = \"less\", correct = TRUE)\n",
    "\n",
    "wilcox.test(dotaznik_1noc[,\"Večer.jsem.usnul.a.velmi.rychle.\"], dotaznik_2noc[,\"Večer.jsem.usnul.a.velmi.rychle.\"], \n",
    "            paired = TRUE, alternative = \"two.sided\", correct = TRUE)"
   ]
  }
 ],
 "metadata": {
  "kernelspec": {
   "display_name": "R",
   "language": "R",
   "name": "ir"
  },
  "language_info": {
   "codemirror_mode": "r",
   "file_extension": ".r",
   "mimetype": "text/x-r-source",
   "name": "R",
   "pygments_lexer": "r",
   "version": "3.6.1"
  }
 },
 "nbformat": 4,
 "nbformat_minor": 5
}
