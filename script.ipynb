{
 "cells": [
  {
   "cell_type": "code",
   "execution_count": 2,
   "id": "f257fbcc",
   "metadata": {},
   "outputs": [
    {
     "name": "stderr",
     "output_type": "stream",
     "text": [
      "\n",
      "Attaching package: 'dplyr'\n",
      "\n",
      "The following objects are masked from 'package:stats':\n",
      "\n",
      "    filter, lag\n",
      "\n",
      "The following objects are masked from 'package:base':\n",
      "\n",
      "    intersect, setdiff, setequal, union\n",
      "\n"
     ]
    }
   ],
   "source": [
    "library(readxl)\n",
    "library(dplyr)"
   ]
  },
  {
   "cell_type": "code",
   "execution_count": 11,
   "id": "b355c8e9",
   "metadata": {},
   "outputs": [
    {
     "name": "stderr",
     "output_type": "stream",
     "text": [
      "New names:\n",
      "* `` -> ...1\n",
      "* `` -> ...2\n",
      "New names:\n",
      "* `` -> ...1\n",
      "* `` -> ...2\n",
      "New names:\n",
      "* `` -> ...1\n",
      "* `` -> ...2\n",
      "* `` -> ...3\n"
     ]
    }
   ],
   "source": [
    "venek <- data.frame(read_excel(\"Venek.xlsx\")) #nacitam data\n",
    "vnitrek <- data.frame(read_excel(\"Vnitrek.xlsx\"))\n",
    "dotaznicek <- data.frame(read_excel(\"dotaznicek.xlsx\"))\n",
    "\n",
    "dotaznicek <- dotaznicek[,-1]\n",
    "\n",
    "venek <- venek[,-1] #prvni sloupec mazu\n",
    "colnames(venek)[1] <- \"inicialy\" #novy prvni sloupec pojmenovavam jako inicialy\n",
    "\n",
    "vnitrek <- vnitrek[,-1]\n",
    "colnames(vnitrek)[1] <- \"inicialy\""
   ]
  },
  {
   "cell_type": "code",
   "execution_count": 13,
   "id": "db2e42be",
   "metadata": {},
   "outputs": [
    {
     "data": {
      "text/html": [
       "<table>\n",
       "<thead><tr><th scope=col>inicialy</th><th scope=col>TIB</th><th scope=col>Sleep.time</th><th scope=col>onset.latency</th><th scope=col>efficiency</th><th scope=col>WASO</th><th scope=col>X.probuzení</th></tr></thead>\n",
       "<tbody>\n",
       "\t<tr><td>ad                 </td><td>1899-12-31 07:48:45</td><td>1899-12-31 07:10:45</td><td> 4.25              </td><td>91.795             </td><td>31.75              </td><td>16.0               </td></tr>\n",
       "\t<tr><td>jg                 </td><td>1899-12-31 08:26:00</td><td>1899-12-31 07:12:00</td><td>15.25              </td><td>85.510             </td><td>46.50              </td><td>20.5               </td></tr>\n",
       "\t<tr><td>jk                 </td><td>1899-12-31 06:50:30</td><td>1899-12-31 05:15:15</td><td> 3.75              </td><td>76.880             </td><td>57.50              </td><td>32.0               </td></tr>\n",
       "\t<tr><td>kl                 </td><td>1899-12-31 08:31:00</td><td>1899-12-31 06:39:00</td><td>24.75              </td><td>78.250             </td><td>56.75              </td><td>33.5               </td></tr>\n",
       "\t<tr><td>nl                 </td><td>1899-12-31 08:12:30</td><td>1899-12-31 06:30:30</td><td> 9.25              </td><td>79.355             </td><td>63.50              </td><td>26.0               </td></tr>\n",
       "\t<tr><td>oc                 </td><td>1899-12-31 08:26:15</td><td>1899-12-31 05:59:45</td><td>15.25              </td><td>71.190             </td><td>85.75              </td><td>39.0               </td></tr>\n",
       "</tbody>\n",
       "</table>\n"
      ],
      "text/latex": [
       "\\begin{tabular}{r|lllllll}\n",
       " inicialy & TIB & Sleep.time & onset.latency & efficiency & WASO & X.probuzení\\\\\n",
       "\\hline\n",
       "\t ad                  & 1899-12-31 07:48:45 & 1899-12-31 07:10:45 &  4.25               & 91.795              & 31.75               & 16.0               \\\\\n",
       "\t jg                  & 1899-12-31 08:26:00 & 1899-12-31 07:12:00 & 15.25               & 85.510              & 46.50               & 20.5               \\\\\n",
       "\t jk                  & 1899-12-31 06:50:30 & 1899-12-31 05:15:15 &  3.75               & 76.880              & 57.50               & 32.0               \\\\\n",
       "\t kl                  & 1899-12-31 08:31:00 & 1899-12-31 06:39:00 & 24.75               & 78.250              & 56.75               & 33.5               \\\\\n",
       "\t nl                  & 1899-12-31 08:12:30 & 1899-12-31 06:30:30 &  9.25               & 79.355              & 63.50               & 26.0               \\\\\n",
       "\t oc                  & 1899-12-31 08:26:15 & 1899-12-31 05:59:45 & 15.25               & 71.190              & 85.75               & 39.0               \\\\\n",
       "\\end{tabular}\n"
      ],
      "text/markdown": [
       "\n",
       "| inicialy | TIB | Sleep.time | onset.latency | efficiency | WASO | X.probuzení |\n",
       "|---|---|---|---|---|---|---|\n",
       "| ad                  | 1899-12-31 07:48:45 | 1899-12-31 07:10:45 |  4.25               | 91.795              | 31.75               | 16.0                |\n",
       "| jg                  | 1899-12-31 08:26:00 | 1899-12-31 07:12:00 | 15.25               | 85.510              | 46.50               | 20.5                |\n",
       "| jk                  | 1899-12-31 06:50:30 | 1899-12-31 05:15:15 |  3.75               | 76.880              | 57.50               | 32.0                |\n",
       "| kl                  | 1899-12-31 08:31:00 | 1899-12-31 06:39:00 | 24.75               | 78.250              | 56.75               | 33.5                |\n",
       "| nl                  | 1899-12-31 08:12:30 | 1899-12-31 06:30:30 |  9.25               | 79.355              | 63.50               | 26.0                |\n",
       "| oc                  | 1899-12-31 08:26:15 | 1899-12-31 05:59:45 | 15.25               | 71.190              | 85.75               | 39.0                |\n",
       "\n"
      ],
      "text/plain": [
       "  inicialy TIB                 Sleep.time          onset.latency efficiency\n",
       "1 ad       1899-12-31 07:48:45 1899-12-31 07:10:45  4.25         91.795    \n",
       "2 jg       1899-12-31 08:26:00 1899-12-31 07:12:00 15.25         85.510    \n",
       "3 jk       1899-12-31 06:50:30 1899-12-31 05:15:15  3.75         76.880    \n",
       "4 kl       1899-12-31 08:31:00 1899-12-31 06:39:00 24.75         78.250    \n",
       "5 nl       1899-12-31 08:12:30 1899-12-31 06:30:30  9.25         79.355    \n",
       "6 oc       1899-12-31 08:26:15 1899-12-31 05:59:45 15.25         71.190    \n",
       "  WASO  X.probuzení\n",
       "1 31.75 16.0       \n",
       "2 46.50 20.5       \n",
       "3 57.50 32.0       \n",
       "4 56.75 33.5       \n",
       "5 63.50 26.0       \n",
       "6 85.75 39.0       "
      ]
     },
     "metadata": {},
     "output_type": "display_data"
    },
    {
     "data": {
      "text/html": [
       "<table>\n",
       "<thead><tr><th scope=col>inicialy</th><th scope=col>TIB</th><th scope=col>Sleep.time</th><th scope=col>onset.latency</th><th scope=col>efficiency</th><th scope=col>WASO</th><th scope=col>X.probuzení</th></tr></thead>\n",
       "<tbody>\n",
       "\t<tr><td>ad                 </td><td>1899-12-31 08:03:00</td><td>1899-12-31 06:26:45</td><td> 5.00              </td><td>80.085             </td><td>56.75              </td><td>31.5               </td></tr>\n",
       "\t<tr><td>jg                 </td><td>1899-12-31 08:15:00</td><td>1899-12-31 06:59:15</td><td>11.50              </td><td>84.985             </td><td>51.50              </td><td>27.5               </td></tr>\n",
       "\t<tr><td>jk                 </td><td>1899-12-31 07:46:45</td><td>1899-12-31 05:54:45</td><td>12.00              </td><td>76.135             </td><td>95.50              </td><td>49.0               </td></tr>\n",
       "\t<tr><td>kl                 </td><td>1899-12-31 08:04:00</td><td>1899-12-31 06:46:00</td><td>15.50              </td><td>83.990             </td><td>51.25              </td><td>34.5               </td></tr>\n",
       "\t<tr><td>nl                 </td><td>1899-12-31 10:12:45</td><td>1899-12-31 07:46:15</td><td>40.00              </td><td>76.255             </td><td>92.25              </td><td>49.5               </td></tr>\n",
       "\t<tr><td>oc                 </td><td>1899-12-31 08:15:15</td><td>1899-12-31 06:18:45</td><td> 5.75              </td><td>76.450             </td><td>87.00              </td><td>50.0               </td></tr>\n",
       "</tbody>\n",
       "</table>\n"
      ],
      "text/latex": [
       "\\begin{tabular}{r|lllllll}\n",
       " inicialy & TIB & Sleep.time & onset.latency & efficiency & WASO & X.probuzení\\\\\n",
       "\\hline\n",
       "\t ad                  & 1899-12-31 08:03:00 & 1899-12-31 06:26:45 &  5.00               & 80.085              & 56.75               & 31.5               \\\\\n",
       "\t jg                  & 1899-12-31 08:15:00 & 1899-12-31 06:59:15 & 11.50               & 84.985              & 51.50               & 27.5               \\\\\n",
       "\t jk                  & 1899-12-31 07:46:45 & 1899-12-31 05:54:45 & 12.00               & 76.135              & 95.50               & 49.0               \\\\\n",
       "\t kl                  & 1899-12-31 08:04:00 & 1899-12-31 06:46:00 & 15.50               & 83.990              & 51.25               & 34.5               \\\\\n",
       "\t nl                  & 1899-12-31 10:12:45 & 1899-12-31 07:46:15 & 40.00               & 76.255              & 92.25               & 49.5               \\\\\n",
       "\t oc                  & 1899-12-31 08:15:15 & 1899-12-31 06:18:45 &  5.75               & 76.450              & 87.00               & 50.0               \\\\\n",
       "\\end{tabular}\n"
      ],
      "text/markdown": [
       "\n",
       "| inicialy | TIB | Sleep.time | onset.latency | efficiency | WASO | X.probuzení |\n",
       "|---|---|---|---|---|---|---|\n",
       "| ad                  | 1899-12-31 08:03:00 | 1899-12-31 06:26:45 |  5.00               | 80.085              | 56.75               | 31.5                |\n",
       "| jg                  | 1899-12-31 08:15:00 | 1899-12-31 06:59:15 | 11.50               | 84.985              | 51.50               | 27.5                |\n",
       "| jk                  | 1899-12-31 07:46:45 | 1899-12-31 05:54:45 | 12.00               | 76.135              | 95.50               | 49.0                |\n",
       "| kl                  | 1899-12-31 08:04:00 | 1899-12-31 06:46:00 | 15.50               | 83.990              | 51.25               | 34.5                |\n",
       "| nl                  | 1899-12-31 10:12:45 | 1899-12-31 07:46:15 | 40.00               | 76.255              | 92.25               | 49.5                |\n",
       "| oc                  | 1899-12-31 08:15:15 | 1899-12-31 06:18:45 |  5.75               | 76.450              | 87.00               | 50.0                |\n",
       "\n"
      ],
      "text/plain": [
       "  inicialy TIB                 Sleep.time          onset.latency efficiency\n",
       "1 ad       1899-12-31 08:03:00 1899-12-31 06:26:45  5.00         80.085    \n",
       "2 jg       1899-12-31 08:15:00 1899-12-31 06:59:15 11.50         84.985    \n",
       "3 jk       1899-12-31 07:46:45 1899-12-31 05:54:45 12.00         76.135    \n",
       "4 kl       1899-12-31 08:04:00 1899-12-31 06:46:00 15.50         83.990    \n",
       "5 nl       1899-12-31 10:12:45 1899-12-31 07:46:15 40.00         76.255    \n",
       "6 oc       1899-12-31 08:15:15 1899-12-31 06:18:45  5.75         76.450    \n",
       "  WASO  X.probuzení\n",
       "1 56.75 31.5       \n",
       "2 51.50 27.5       \n",
       "3 95.50 49.0       \n",
       "4 51.25 34.5       \n",
       "5 92.25 49.5       \n",
       "6 87.00 50.0       "
      ]
     },
     "metadata": {},
     "output_type": "display_data"
    }
   ],
   "source": [
    "head(venek)\n",
    "head(vnitrek)"
   ]
  },
  {
   "cell_type": "code",
   "execution_count": 31,
   "id": "9f6f5957",
   "metadata": {},
   "outputs": [
    {
     "data": {
      "text/plain": [
       "\n",
       "\tPaired t-test\n",
       "\n",
       "data:  venek$efficiency and vnitrek$efficiency\n",
       "t = 0.16688, df = 11, p-value = 0.8705\n",
       "alternative hypothesis: true difference in means is not equal to 0\n",
       "95 percent confidence interval:\n",
       " -4.134103  4.812437\n",
       "sample estimates:\n",
       "mean of the differences \n",
       "              0.3391667 \n"
      ]
     },
     "metadata": {},
     "output_type": "display_data"
    },
    {
     "data": {
      "text/plain": [
       "\n",
       "\tWelch Two Sample t-test\n",
       "\n",
       "data:  venek$efficiency and vnitrek$efficiency\n",
       "t = 0.13347, df = 19.473, p-value = 0.8952\n",
       "alternative hypothesis: true difference in means is not equal to 0\n",
       "95 percent confidence interval:\n",
       " -4.970946  5.649280\n",
       "sample estimates:\n",
       "mean of x mean of y \n",
       " 80.10750  79.76833 \n"
      ]
     },
     "metadata": {},
     "output_type": "display_data"
    },
    {
     "data": {
      "text/plain": [
       "\n",
       "\tWilcoxon signed rank test\n",
       "\n",
       "data:  venek$efficiency and vnitrek$efficiency\n",
       "V = 42, p-value = 0.8501\n",
       "alternative hypothesis: true location shift is not equal to 0\n"
      ]
     },
     "metadata": {},
     "output_type": "display_data"
    }
   ],
   "source": [
    "t.test(venek$efficiency, vnitrek$efficiency, paired = TRUE, alternative = \"two.sided\")\n",
    "\n",
    "t.test(venek$efficiency, vnitrek$efficiency, paired = FALSE, alternative = \"two.sided\")\n",
    "\n",
    "wilcox.test(venek$efficiency, vnitrek$efficiency, paired = TRUE, alternative = \"two.sided\")"
   ]
  },
  {
   "cell_type": "code",
   "execution_count": 40,
   "id": "a1674ae7",
   "metadata": {},
   "outputs": [
    {
     "data": {
      "image/png": "[encoded data removed]",
      "text/plain": [
       "plot without title"
      ]
     },
     "metadata": {},
     "output_type": "display_data"
    }
   ],
   "source": [
    "options(repr.plot.width=4, repr.plot.height=5)  \n",
    "plot(venek$efficiency, vnitrek$efficiency, xlim = c(70,95), ylim = c(70,95))\n"
   ]
  },
  {
   "cell_type": "code",
   "execution_count": 41,
   "id": "f138c1dc",
   "metadata": {},
   "outputs": [],
   "source": [
    "dotaznicek$helpvar <- c(1:nrow(dotaznicek))\n",
    "dotaznicek$helpvar2 <- ifelse(dotaznicek$helpvar %% 2 == 0,1,0)\n",
    "d_vnitrek <- subset(dotaznicek, helpvar2 == 0)\n",
    "d_venek <- subset(dotaznicek, helpvar2 != 0)"
   ]
  },
  {
   "cell_type": "code",
   "execution_count": 44,
   "id": "0e5477ae",
   "metadata": {},
   "outputs": [
    {
     "data": {
      "text/html": [
       "<table>\n",
       "<thead><tr><th></th><th scope=col>...2</th><th scope=col>...3</th><th scope=col>Dnes.jsem.se.vyspal.a.opravdu.skvěle.</th><th scope=col>Večer.jsem.usnul.a.velmi.rychle.</th><th scope=col>Během.noci.jsem.se.vůbec.neprobouzel.a.</th><th scope=col>V.noci.se.mi.zdály.živé.sny.</th><th scope=col>Pamatuji.si..co.se.mi.v.noci.zdálo.</th><th scope=col>Dnes.se.mi.vstávalo.opravdu.dobře.</th><th scope=col>Po.probuzení.jsem.se.cítil.a.odpočatý.á.a.plný.á.energie.</th><th scope=col>Celkově.jsem.se.tento.den.cítil.a.plný.á.energie.a.neunavný.á.</th><th scope=col>Přes.den.se.mi.dařilo.soustředit.se.na.mé.aktivity.u.náročné.na.pozornost.</th><th scope=col>Celkově.jsem.tento.den.měl.a.chuť.podnikat.spoustu.produktivních.aktivit.</th><th scope=col>Dnes.jsem.se.cítil.v.psychické.pohodě.</th><th scope=col>Dnes.jsem.mě.l.chuť.vykonávat.fyzickou.aktivitu.</th><th scope=col>helpvar</th><th scope=col>helpvar2</th></tr></thead>\n",
       "<tbody>\n",
       "\t<tr><th scope=row>1</th><td>vevnitř</td><td>AD     </td><td> 8     </td><td> 8     </td><td> 8     </td><td> 5     </td><td> 8     </td><td> 6     </td><td>7      </td><td>7      </td><td> 8     </td><td>7      </td><td>6      </td><td>7      </td><td> 1     </td><td>0      </td></tr>\n",
       "\t<tr><th scope=row>3</th><td>NA     </td><td>JG     </td><td> 4     </td><td> 2     </td><td> 6     </td><td> 8     </td><td>13     </td><td> 5     </td><td>6      </td><td>4      </td><td> 4     </td><td>5      </td><td>5      </td><td>4      </td><td> 3     </td><td>0      </td></tr>\n",
       "\t<tr><th scope=row>5</th><td>NA     </td><td>JK     </td><td> 4     </td><td> 6     </td><td> 8     </td><td> 9     </td><td> 9     </td><td> 5     </td><td>5      </td><td>5      </td><td> 6     </td><td>5      </td><td>5      </td><td>5      </td><td> 5     </td><td>0      </td></tr>\n",
       "\t<tr><th scope=row>7</th><td>NA     </td><td>KL     </td><td> 7     </td><td> 6     </td><td>10     </td><td> 7     </td><td> 8     </td><td> 7     </td><td>6      </td><td>8      </td><td> 6     </td><td>5      </td><td>4      </td><td>4      </td><td> 7     </td><td>0      </td></tr>\n",
       "\t<tr><th scope=row>9</th><td>NA     </td><td>NL     </td><td>10     </td><td>11     </td><td> 9     </td><td>10     </td><td>11     </td><td>12     </td><td>9      </td><td>8      </td><td>10     </td><td>7      </td><td>6      </td><td>9      </td><td> 9     </td><td>0      </td></tr>\n",
       "\t<tr><th scope=row>11</th><td>NA     </td><td>OC     </td><td> 7     </td><td> 2     </td><td> 4     </td><td>10     </td><td>12     </td><td> 6     </td><td>5      </td><td>5      </td><td> 4     </td><td>7      </td><td>6      </td><td>7      </td><td>11     </td><td>0      </td></tr>\n",
       "</tbody>\n",
       "</table>\n"
      ],
      "text/latex": [
       "\\begin{tabular}{r|llllllllllllllll}\n",
       "  & ...2 & ...3 & Dnes.jsem.se.vyspal.a.opravdu.skvěle. & Večer.jsem.usnul.a.velmi.rychle. & Během.noci.jsem.se.vůbec.neprobouzel.a. & V.noci.se.mi.zdály.živé.sny. & Pamatuji.si..co.se.mi.v.noci.zdálo. & Dnes.se.mi.vstávalo.opravdu.dobře. & Po.probuzení.jsem.se.cítil.a.odpočatý.á.a.plný.á.energie. & Celkově.jsem.se.tento.den.cítil.a.plný.á.energie.a.neunavný.á. & Přes.den.se.mi.dařilo.soustředit.se.na.mé.aktivity.u.náročné.na.pozornost. & Celkově.jsem.tento.den.měl.a.chuť.podnikat.spoustu.produktivních.aktivit. & Dnes.jsem.se.cítil.v.psychické.pohodě. & Dnes.jsem.mě.l.chuť.vykonávat.fyzickou.aktivitu. & helpvar & helpvar2\\\\\n",
       "\\hline\n",
       "\t1 & vevnitř & AD      &  8      &  8      &  8      &  5      &  8      &  6      & 7       & 7       &  8      & 7       & 6       & 7       &  1      & 0      \\\\\n",
       "\t3 & NA      & JG      &  4      &  2      &  6      &  8      & 13      &  5      & 6       & 4       &  4      & 5       & 5       & 4       &  3      & 0      \\\\\n",
       "\t5 & NA      & JK      &  4      &  6      &  8      &  9      &  9      &  5      & 5       & 5       &  6      & 5       & 5       & 5       &  5      & 0      \\\\\n",
       "\t7 & NA      & KL      &  7      &  6      & 10      &  7      &  8      &  7      & 6       & 8       &  6      & 5       & 4       & 4       &  7      & 0      \\\\\n",
       "\t9 & NA      & NL      & 10      & 11      &  9      & 10      & 11      & 12      & 9       & 8       & 10      & 7       & 6       & 9       &  9      & 0      \\\\\n",
       "\t11 & NA      & OC      &  7      &  2      &  4      & 10      & 12      &  6      & 5       & 5       &  4      & 7       & 6       & 7       & 11      & 0      \\\\\n",
       "\\end{tabular}\n"
      ],
      "text/markdown": [
       "\n",
       "| <!--/--> | ...2 | ...3 | Dnes.jsem.se.vyspal.a.opravdu.skvěle. | Večer.jsem.usnul.a.velmi.rychle. | Během.noci.jsem.se.vůbec.neprobouzel.a. | V.noci.se.mi.zdály.živé.sny. | Pamatuji.si..co.se.mi.v.noci.zdálo. | Dnes.se.mi.vstávalo.opravdu.dobře. | Po.probuzení.jsem.se.cítil.a.odpočatý.á.a.plný.á.energie. | Celkově.jsem.se.tento.den.cítil.a.plný.á.energie.a.neunavný.á. | Přes.den.se.mi.dařilo.soustředit.se.na.mé.aktivity.u.náročné.na.pozornost. | Celkově.jsem.tento.den.měl.a.chuť.podnikat.spoustu.produktivních.aktivit. | Dnes.jsem.se.cítil.v.psychické.pohodě. | Dnes.jsem.mě.l.chuť.vykonávat.fyzickou.aktivitu. | helpvar | helpvar2 |\n",
       "|---|---|---|---|---|---|---|---|---|---|---|---|---|---|---|---|---|\n",
       "| 1 | vevnitř | AD      |  8      |  8      |  8      |  5      |  8      |  6      | 7       | 7       |  8      | 7       | 6       | 7       |  1      | 0       |\n",
       "| 3 | NA      | JG      |  4      |  2      |  6      |  8      | 13      |  5      | 6       | 4       |  4      | 5       | 5       | 4       |  3      | 0       |\n",
       "| 5 | NA      | JK      |  4      |  6      |  8      |  9      |  9      |  5      | 5       | 5       |  6      | 5       | 5       | 5       |  5      | 0       |\n",
       "| 7 | NA      | KL      |  7      |  6      | 10      |  7      |  8      |  7      | 6       | 8       |  6      | 5       | 4       | 4       |  7      | 0       |\n",
       "| 9 | NA      | NL      | 10      | 11      |  9      | 10      | 11      | 12      | 9       | 8       | 10      | 7       | 6       | 9       |  9      | 0       |\n",
       "| 11 | NA      | OC      |  7      |  2      |  4      | 10      | 12      |  6      | 5       | 5       |  4      | 7       | 6       | 7       | 11      | 0       |\n",
       "\n"
      ],
      "text/plain": [
       "   ...2    ...3 Dnes.jsem.se.vyspal.a.opravdu.skvěle.\n",
       "1  vevnitř AD    8                                   \n",
       "3  NA      JG    4                                   \n",
       "5  NA      JK    4                                   \n",
       "7  NA      KL    7                                   \n",
       "9  NA      NL   10                                   \n",
       "11 NA      OC    7                                   \n",
       "   Večer.jsem.usnul.a.velmi.rychle. Během.noci.jsem.se.vůbec.neprobouzel.a.\n",
       "1   8                                8                                     \n",
       "3   2                                6                                     \n",
       "5   6                                8                                     \n",
       "7   6                               10                                     \n",
       "9  11                                9                                     \n",
       "11  2                                4                                     \n",
       "   V.noci.se.mi.zdály.živé.sny. Pamatuji.si..co.se.mi.v.noci.zdálo.\n",
       "1   5                            8                                 \n",
       "3   8                           13                                 \n",
       "5   9                            9                                 \n",
       "7   7                            8                                 \n",
       "9  10                           11                                 \n",
       "11 10                           12                                 \n",
       "   Dnes.se.mi.vstávalo.opravdu.dobře.\n",
       "1   6                                \n",
       "3   5                                \n",
       "5   5                                \n",
       "7   7                                \n",
       "9  12                                \n",
       "11  6                                \n",
       "   Po.probuzení.jsem.se.cítil.a.odpočatý.á.a.plný.á.energie.\n",
       "1  7                                                        \n",
       "3  6                                                        \n",
       "5  5                                                        \n",
       "7  6                                                        \n",
       "9  9                                                        \n",
       "11 5                                                        \n",
       "   Celkově.jsem.se.tento.den.cítil.a.plný.á.energie.a.neunavný.á.\n",
       "1  7                                                             \n",
       "3  4                                                             \n",
       "5  5                                                             \n",
       "7  8                                                             \n",
       "9  8                                                             \n",
       "11 5                                                             \n",
       "   Přes.den.se.mi.dařilo.soustředit.se.na.mé.aktivity.u.náročné.na.pozornost.\n",
       "1   8                                                                        \n",
       "3   4                                                                        \n",
       "5   6                                                                        \n",
       "7   6                                                                        \n",
       "9  10                                                                        \n",
       "11  4                                                                        \n",
       "   Celkově.jsem.tento.den.měl.a.chuť.podnikat.spoustu.produktivních.aktivit.\n",
       "1  7                                                                        \n",
       "3  5                                                                        \n",
       "5  5                                                                        \n",
       "7  5                                                                        \n",
       "9  7                                                                        \n",
       "11 7                                                                        \n",
       "   Dnes.jsem.se.cítil.v.psychické.pohodě.\n",
       "1  6                                     \n",
       "3  5                                     \n",
       "5  5                                     \n",
       "7  4                                     \n",
       "9  6                                     \n",
       "11 6                                     \n",
       "   Dnes.jsem.mě.l.chuť.vykonávat.fyzickou.aktivitu. helpvar helpvar2\n",
       "1  7                                                 1      0       \n",
       "3  4                                                 3      0       \n",
       "5  5                                                 5      0       \n",
       "7  4                                                 7      0       \n",
       "9  9                                                 9      0       \n",
       "11 7                                                11      0       "
      ]
     },
     "metadata": {},
     "output_type": "display_data"
    },
    {
     "data": {
      "text/html": [
       "<table>\n",
       "<thead><tr><th></th><th scope=col>...2</th><th scope=col>...3</th><th scope=col>Dnes.jsem.se.vyspal.a.opravdu.skvěle.</th><th scope=col>Večer.jsem.usnul.a.velmi.rychle.</th><th scope=col>Během.noci.jsem.se.vůbec.neprobouzel.a.</th><th scope=col>V.noci.se.mi.zdály.živé.sny.</th><th scope=col>Pamatuji.si..co.se.mi.v.noci.zdálo.</th><th scope=col>Dnes.se.mi.vstávalo.opravdu.dobře.</th><th scope=col>Po.probuzení.jsem.se.cítil.a.odpočatý.á.a.plný.á.energie.</th><th scope=col>Celkově.jsem.se.tento.den.cítil.a.plný.á.energie.a.neunavný.á.</th><th scope=col>Přes.den.se.mi.dařilo.soustředit.se.na.mé.aktivity.u.náročné.na.pozornost.</th><th scope=col>Celkově.jsem.tento.den.měl.a.chuť.podnikat.spoustu.produktivních.aktivit.</th><th scope=col>Dnes.jsem.se.cítil.v.psychické.pohodě.</th><th scope=col>Dnes.jsem.mě.l.chuť.vykonávat.fyzickou.aktivitu.</th><th scope=col>helpvar</th><th scope=col>helpvar2</th></tr></thead>\n",
       "<tbody>\n",
       "\t<tr><th scope=row>2</th><td>venku</td><td>AD   </td><td> 4   </td><td>5    </td><td>11   </td><td> 4   </td><td>10   </td><td>3    </td><td>4    </td><td> 6   </td><td>6    </td><td> 5   </td><td> 3   </td><td>5    </td><td> 2   </td><td>1    </td></tr>\n",
       "\t<tr><th scope=row>4</th><td>NA   </td><td>JG   </td><td> 6   </td><td>3    </td><td>10   </td><td>12   </td><td>12   </td><td>8    </td><td>9    </td><td> 8   </td><td>8    </td><td>11   </td><td>10   </td><td>8    </td><td> 4   </td><td>1    </td></tr>\n",
       "\t<tr><th scope=row>6</th><td>NA   </td><td>JK   </td><td> 4   </td><td>3    </td><td> 6   </td><td> 3   </td><td> 9   </td><td>5    </td><td>7    </td><td> 6   </td><td>7    </td><td> 4   </td><td> 7   </td><td>3    </td><td> 6   </td><td>1    </td></tr>\n",
       "\t<tr><th scope=row>8</th><td>NA   </td><td>KL   </td><td>11   </td><td>5    </td><td>13   </td><td>12   </td><td>14   </td><td>4    </td><td>7    </td><td>12   </td><td>9    </td><td> 9   </td><td> 6   </td><td>7    </td><td> 8   </td><td>1    </td></tr>\n",
       "\t<tr><th scope=row>10</th><td>NA   </td><td>NL   </td><td> 5   </td><td>6    </td><td> 7   </td><td> 6   </td><td> 9   </td><td>3    </td><td>5    </td><td> 6   </td><td>7    </td><td> 5   </td><td> 5   </td><td>9    </td><td>10   </td><td>1    </td></tr>\n",
       "\t<tr><th scope=row>12</th><td>NA   </td><td>OC   </td><td> 5   </td><td>7    </td><td> 7   </td><td> 7   </td><td> 8   </td><td>7    </td><td>6    </td><td> 7   </td><td>7    </td><td> 8   </td><td> 6   </td><td>6    </td><td>12   </td><td>1    </td></tr>\n",
       "</tbody>\n",
       "</table>\n"
      ],
      "text/latex": [
       "\\begin{tabular}{r|llllllllllllllll}\n",
       "  & ...2 & ...3 & Dnes.jsem.se.vyspal.a.opravdu.skvěle. & Večer.jsem.usnul.a.velmi.rychle. & Během.noci.jsem.se.vůbec.neprobouzel.a. & V.noci.se.mi.zdály.živé.sny. & Pamatuji.si..co.se.mi.v.noci.zdálo. & Dnes.se.mi.vstávalo.opravdu.dobře. & Po.probuzení.jsem.se.cítil.a.odpočatý.á.a.plný.á.energie. & Celkově.jsem.se.tento.den.cítil.a.plný.á.energie.a.neunavný.á. & Přes.den.se.mi.dařilo.soustředit.se.na.mé.aktivity.u.náročné.na.pozornost. & Celkově.jsem.tento.den.měl.a.chuť.podnikat.spoustu.produktivních.aktivit. & Dnes.jsem.se.cítil.v.psychické.pohodě. & Dnes.jsem.mě.l.chuť.vykonávat.fyzickou.aktivitu. & helpvar & helpvar2\\\\\n",
       "\\hline\n",
       "\t2 & venku & AD    &  4    & 5     & 11    &  4    & 10    & 3     & 4     &  6    & 6     &  5    &  3    & 5     &  2    & 1    \\\\\n",
       "\t4 & NA    & JG    &  6    & 3     & 10    & 12    & 12    & 8     & 9     &  8    & 8     & 11    & 10    & 8     &  4    & 1    \\\\\n",
       "\t6 & NA    & JK    &  4    & 3     &  6    &  3    &  9    & 5     & 7     &  6    & 7     &  4    &  7    & 3     &  6    & 1    \\\\\n",
       "\t8 & NA    & KL    & 11    & 5     & 13    & 12    & 14    & 4     & 7     & 12    & 9     &  9    &  6    & 7     &  8    & 1    \\\\\n",
       "\t10 & NA    & NL    &  5    & 6     &  7    &  6    &  9    & 3     & 5     &  6    & 7     &  5    &  5    & 9     & 10    & 1    \\\\\n",
       "\t12 & NA    & OC    &  5    & 7     &  7    &  7    &  8    & 7     & 6     &  7    & 7     &  8    &  6    & 6     & 12    & 1    \\\\\n",
       "\\end{tabular}\n"
      ],
      "text/markdown": [
       "\n",
       "| <!--/--> | ...2 | ...3 | Dnes.jsem.se.vyspal.a.opravdu.skvěle. | Večer.jsem.usnul.a.velmi.rychle. | Během.noci.jsem.se.vůbec.neprobouzel.a. | V.noci.se.mi.zdály.živé.sny. | Pamatuji.si..co.se.mi.v.noci.zdálo. | Dnes.se.mi.vstávalo.opravdu.dobře. | Po.probuzení.jsem.se.cítil.a.odpočatý.á.a.plný.á.energie. | Celkově.jsem.se.tento.den.cítil.a.plný.á.energie.a.neunavný.á. | Přes.den.se.mi.dařilo.soustředit.se.na.mé.aktivity.u.náročné.na.pozornost. | Celkově.jsem.tento.den.měl.a.chuť.podnikat.spoustu.produktivních.aktivit. | Dnes.jsem.se.cítil.v.psychické.pohodě. | Dnes.jsem.mě.l.chuť.vykonávat.fyzickou.aktivitu. | helpvar | helpvar2 |\n",
       "|---|---|---|---|---|---|---|---|---|---|---|---|---|---|---|---|---|\n",
       "| 2 | venku | AD    |  4    | 5     | 11    |  4    | 10    | 3     | 4     |  6    | 6     |  5    |  3    | 5     |  2    | 1     |\n",
       "| 4 | NA    | JG    |  6    | 3     | 10    | 12    | 12    | 8     | 9     |  8    | 8     | 11    | 10    | 8     |  4    | 1     |\n",
       "| 6 | NA    | JK    |  4    | 3     |  6    |  3    |  9    | 5     | 7     |  6    | 7     |  4    |  7    | 3     |  6    | 1     |\n",
       "| 8 | NA    | KL    | 11    | 5     | 13    | 12    | 14    | 4     | 7     | 12    | 9     |  9    |  6    | 7     |  8    | 1     |\n",
       "| 10 | NA    | NL    |  5    | 6     |  7    |  6    |  9    | 3     | 5     |  6    | 7     |  5    |  5    | 9     | 10    | 1     |\n",
       "| 12 | NA    | OC    |  5    | 7     |  7    |  7    |  8    | 7     | 6     |  7    | 7     |  8    |  6    | 6     | 12    | 1     |\n",
       "\n"
      ],
      "text/plain": [
       "   ...2  ...3 Dnes.jsem.se.vyspal.a.opravdu.skvěle.\n",
       "2  venku AD    4                                   \n",
       "4  NA    JG    6                                   \n",
       "6  NA    JK    4                                   \n",
       "8  NA    KL   11                                   \n",
       "10 NA    NL    5                                   \n",
       "12 NA    OC    5                                   \n",
       "   Večer.jsem.usnul.a.velmi.rychle. Během.noci.jsem.se.vůbec.neprobouzel.a.\n",
       "2  5                                11                                     \n",
       "4  3                                10                                     \n",
       "6  3                                 6                                     \n",
       "8  5                                13                                     \n",
       "10 6                                 7                                     \n",
       "12 7                                 7                                     \n",
       "   V.noci.se.mi.zdály.živé.sny. Pamatuji.si..co.se.mi.v.noci.zdálo.\n",
       "2   4                           10                                 \n",
       "4  12                           12                                 \n",
       "6   3                            9                                 \n",
       "8  12                           14                                 \n",
       "10  6                            9                                 \n",
       "12  7                            8                                 \n",
       "   Dnes.se.mi.vstávalo.opravdu.dobře.\n",
       "2  3                                 \n",
       "4  8                                 \n",
       "6  5                                 \n",
       "8  4                                 \n",
       "10 3                                 \n",
       "12 7                                 \n",
       "   Po.probuzení.jsem.se.cítil.a.odpočatý.á.a.plný.á.energie.\n",
       "2  4                                                        \n",
       "4  9                                                        \n",
       "6  7                                                        \n",
       "8  7                                                        \n",
       "10 5                                                        \n",
       "12 6                                                        \n",
       "   Celkově.jsem.se.tento.den.cítil.a.plný.á.energie.a.neunavný.á.\n",
       "2   6                                                            \n",
       "4   8                                                            \n",
       "6   6                                                            \n",
       "8  12                                                            \n",
       "10  6                                                            \n",
       "12  7                                                            \n",
       "   Přes.den.se.mi.dařilo.soustředit.se.na.mé.aktivity.u.náročné.na.pozornost.\n",
       "2  6                                                                         \n",
       "4  8                                                                         \n",
       "6  7                                                                         \n",
       "8  9                                                                         \n",
       "10 7                                                                         \n",
       "12 7                                                                         \n",
       "   Celkově.jsem.tento.den.měl.a.chuť.podnikat.spoustu.produktivních.aktivit.\n",
       "2   5                                                                       \n",
       "4  11                                                                       \n",
       "6   4                                                                       \n",
       "8   9                                                                       \n",
       "10  5                                                                       \n",
       "12  8                                                                       \n",
       "   Dnes.jsem.se.cítil.v.psychické.pohodě.\n",
       "2   3                                    \n",
       "4  10                                    \n",
       "6   7                                    \n",
       "8   6                                    \n",
       "10  5                                    \n",
       "12  6                                    \n",
       "   Dnes.jsem.mě.l.chuť.vykonávat.fyzickou.aktivitu. helpvar helpvar2\n",
       "2  5                                                 2      1       \n",
       "4  8                                                 4      1       \n",
       "6  3                                                 6      1       \n",
       "8  7                                                 8      1       \n",
       "10 9                                                10      1       \n",
       "12 6                                                12      1       "
      ]
     },
     "metadata": {},
     "output_type": "display_data"
    },
    {
     "data": {
      "text/html": [
       "<table>\n",
       "<thead><tr><th scope=col>inicialy</th><th scope=col>TIB</th><th scope=col>Sleep.time</th><th scope=col>onset.latency</th><th scope=col>efficiency</th><th scope=col>WASO</th><th scope=col>X.probuzení</th></tr></thead>\n",
       "<tbody>\n",
       "\t<tr><td>ad                 </td><td>1899-12-31 07:48:45</td><td>1899-12-31 07:10:45</td><td> 4.25              </td><td>91.795             </td><td>31.75              </td><td>16.0               </td></tr>\n",
       "\t<tr><td>jg                 </td><td>1899-12-31 08:26:00</td><td>1899-12-31 07:12:00</td><td>15.25              </td><td>85.510             </td><td>46.50              </td><td>20.5               </td></tr>\n",
       "\t<tr><td>jk                 </td><td>1899-12-31 06:50:30</td><td>1899-12-31 05:15:15</td><td> 3.75              </td><td>76.880             </td><td>57.50              </td><td>32.0               </td></tr>\n",
       "\t<tr><td>kl                 </td><td>1899-12-31 08:31:00</td><td>1899-12-31 06:39:00</td><td>24.75              </td><td>78.250             </td><td>56.75              </td><td>33.5               </td></tr>\n",
       "\t<tr><td>nl                 </td><td>1899-12-31 08:12:30</td><td>1899-12-31 06:30:30</td><td> 9.25              </td><td>79.355             </td><td>63.50              </td><td>26.0               </td></tr>\n",
       "\t<tr><td>oc                 </td><td>1899-12-31 08:26:15</td><td>1899-12-31 05:59:45</td><td>15.25              </td><td>71.190             </td><td>85.75              </td><td>39.0               </td></tr>\n",
       "</tbody>\n",
       "</table>\n"
      ],
      "text/latex": [
       "\\begin{tabular}{r|lllllll}\n",
       " inicialy & TIB & Sleep.time & onset.latency & efficiency & WASO & X.probuzení\\\\\n",
       "\\hline\n",
       "\t ad                  & 1899-12-31 07:48:45 & 1899-12-31 07:10:45 &  4.25               & 91.795              & 31.75               & 16.0               \\\\\n",
       "\t jg                  & 1899-12-31 08:26:00 & 1899-12-31 07:12:00 & 15.25               & 85.510              & 46.50               & 20.5               \\\\\n",
       "\t jk                  & 1899-12-31 06:50:30 & 1899-12-31 05:15:15 &  3.75               & 76.880              & 57.50               & 32.0               \\\\\n",
       "\t kl                  & 1899-12-31 08:31:00 & 1899-12-31 06:39:00 & 24.75               & 78.250              & 56.75               & 33.5               \\\\\n",
       "\t nl                  & 1899-12-31 08:12:30 & 1899-12-31 06:30:30 &  9.25               & 79.355              & 63.50               & 26.0               \\\\\n",
       "\t oc                  & 1899-12-31 08:26:15 & 1899-12-31 05:59:45 & 15.25               & 71.190              & 85.75               & 39.0               \\\\\n",
       "\\end{tabular}\n"
      ],
      "text/markdown": [
       "\n",
       "| inicialy | TIB | Sleep.time | onset.latency | efficiency | WASO | X.probuzení |\n",
       "|---|---|---|---|---|---|---|\n",
       "| ad                  | 1899-12-31 07:48:45 | 1899-12-31 07:10:45 |  4.25               | 91.795              | 31.75               | 16.0                |\n",
       "| jg                  | 1899-12-31 08:26:00 | 1899-12-31 07:12:00 | 15.25               | 85.510              | 46.50               | 20.5                |\n",
       "| jk                  | 1899-12-31 06:50:30 | 1899-12-31 05:15:15 |  3.75               | 76.880              | 57.50               | 32.0                |\n",
       "| kl                  | 1899-12-31 08:31:00 | 1899-12-31 06:39:00 | 24.75               | 78.250              | 56.75               | 33.5                |\n",
       "| nl                  | 1899-12-31 08:12:30 | 1899-12-31 06:30:30 |  9.25               | 79.355              | 63.50               | 26.0                |\n",
       "| oc                  | 1899-12-31 08:26:15 | 1899-12-31 05:59:45 | 15.25               | 71.190              | 85.75               | 39.0                |\n",
       "\n"
      ],
      "text/plain": [
       "  inicialy TIB                 Sleep.time          onset.latency efficiency\n",
       "1 ad       1899-12-31 07:48:45 1899-12-31 07:10:45  4.25         91.795    \n",
       "2 jg       1899-12-31 08:26:00 1899-12-31 07:12:00 15.25         85.510    \n",
       "3 jk       1899-12-31 06:50:30 1899-12-31 05:15:15  3.75         76.880    \n",
       "4 kl       1899-12-31 08:31:00 1899-12-31 06:39:00 24.75         78.250    \n",
       "5 nl       1899-12-31 08:12:30 1899-12-31 06:30:30  9.25         79.355    \n",
       "6 oc       1899-12-31 08:26:15 1899-12-31 05:59:45 15.25         71.190    \n",
       "  WASO  X.probuzení\n",
       "1 31.75 16.0       \n",
       "2 46.50 20.5       \n",
       "3 57.50 32.0       \n",
       "4 56.75 33.5       \n",
       "5 63.50 26.0       \n",
       "6 85.75 39.0       "
      ]
     },
     "metadata": {},
     "output_type": "display_data"
    },
    {
     "data": {
      "text/html": [
       "<table>\n",
       "<thead><tr><th scope=col>inicialy</th><th scope=col>TIB</th><th scope=col>Sleep.time</th><th scope=col>onset.latency</th><th scope=col>efficiency</th><th scope=col>WASO</th><th scope=col>X.probuzení</th></tr></thead>\n",
       "<tbody>\n",
       "\t<tr><td>ad                 </td><td>1899-12-31 08:03:00</td><td>1899-12-31 06:26:45</td><td> 5.00              </td><td>80.085             </td><td>56.75              </td><td>31.5               </td></tr>\n",
       "\t<tr><td>jg                 </td><td>1899-12-31 08:15:00</td><td>1899-12-31 06:59:15</td><td>11.50              </td><td>84.985             </td><td>51.50              </td><td>27.5               </td></tr>\n",
       "\t<tr><td>jk                 </td><td>1899-12-31 07:46:45</td><td>1899-12-31 05:54:45</td><td>12.00              </td><td>76.135             </td><td>95.50              </td><td>49.0               </td></tr>\n",
       "\t<tr><td>kl                 </td><td>1899-12-31 08:04:00</td><td>1899-12-31 06:46:00</td><td>15.50              </td><td>83.990             </td><td>51.25              </td><td>34.5               </td></tr>\n",
       "\t<tr><td>nl                 </td><td>1899-12-31 10:12:45</td><td>1899-12-31 07:46:15</td><td>40.00              </td><td>76.255             </td><td>92.25              </td><td>49.5               </td></tr>\n",
       "\t<tr><td>oc                 </td><td>1899-12-31 08:15:15</td><td>1899-12-31 06:18:45</td><td> 5.75              </td><td>76.450             </td><td>87.00              </td><td>50.0               </td></tr>\n",
       "</tbody>\n",
       "</table>\n"
      ],
      "text/latex": [
       "\\begin{tabular}{r|lllllll}\n",
       " inicialy & TIB & Sleep.time & onset.latency & efficiency & WASO & X.probuzení\\\\\n",
       "\\hline\n",
       "\t ad                  & 1899-12-31 08:03:00 & 1899-12-31 06:26:45 &  5.00               & 80.085              & 56.75               & 31.5               \\\\\n",
       "\t jg                  & 1899-12-31 08:15:00 & 1899-12-31 06:59:15 & 11.50               & 84.985              & 51.50               & 27.5               \\\\\n",
       "\t jk                  & 1899-12-31 07:46:45 & 1899-12-31 05:54:45 & 12.00               & 76.135              & 95.50               & 49.0               \\\\\n",
       "\t kl                  & 1899-12-31 08:04:00 & 1899-12-31 06:46:00 & 15.50               & 83.990              & 51.25               & 34.5               \\\\\n",
       "\t nl                  & 1899-12-31 10:12:45 & 1899-12-31 07:46:15 & 40.00               & 76.255              & 92.25               & 49.5               \\\\\n",
       "\t oc                  & 1899-12-31 08:15:15 & 1899-12-31 06:18:45 &  5.75               & 76.450              & 87.00               & 50.0               \\\\\n",
       "\\end{tabular}\n"
      ],
      "text/markdown": [
       "\n",
       "| inicialy | TIB | Sleep.time | onset.latency | efficiency | WASO | X.probuzení |\n",
       "|---|---|---|---|---|---|---|\n",
       "| ad                  | 1899-12-31 08:03:00 | 1899-12-31 06:26:45 |  5.00               | 80.085              | 56.75               | 31.5                |\n",
       "| jg                  | 1899-12-31 08:15:00 | 1899-12-31 06:59:15 | 11.50               | 84.985              | 51.50               | 27.5                |\n",
       "| jk                  | 1899-12-31 07:46:45 | 1899-12-31 05:54:45 | 12.00               | 76.135              | 95.50               | 49.0                |\n",
       "| kl                  | 1899-12-31 08:04:00 | 1899-12-31 06:46:00 | 15.50               | 83.990              | 51.25               | 34.5                |\n",
       "| nl                  | 1899-12-31 10:12:45 | 1899-12-31 07:46:15 | 40.00               | 76.255              | 92.25               | 49.5                |\n",
       "| oc                  | 1899-12-31 08:15:15 | 1899-12-31 06:18:45 |  5.75               | 76.450              | 87.00               | 50.0                |\n",
       "\n"
      ],
      "text/plain": [
       "  inicialy TIB                 Sleep.time          onset.latency efficiency\n",
       "1 ad       1899-12-31 08:03:00 1899-12-31 06:26:45  5.00         80.085    \n",
       "2 jg       1899-12-31 08:15:00 1899-12-31 06:59:15 11.50         84.985    \n",
       "3 jk       1899-12-31 07:46:45 1899-12-31 05:54:45 12.00         76.135    \n",
       "4 kl       1899-12-31 08:04:00 1899-12-31 06:46:00 15.50         83.990    \n",
       "5 nl       1899-12-31 10:12:45 1899-12-31 07:46:15 40.00         76.255    \n",
       "6 oc       1899-12-31 08:15:15 1899-12-31 06:18:45  5.75         76.450    \n",
       "  WASO  X.probuzení\n",
       "1 56.75 31.5       \n",
       "2 51.50 27.5       \n",
       "3 95.50 49.0       \n",
       "4 51.25 34.5       \n",
       "5 92.25 49.5       \n",
       "6 87.00 50.0       "
      ]
     },
     "metadata": {},
     "output_type": "display_data"
    }
   ],
   "source": [
    "d_vnitrek %>% head()\n",
    "d_venek %>% head()\n",
    "head(venek)\n",
    "head(vnitrek)"
   ]
  },
  {
   "cell_type": "code",
   "execution_count": 50,
   "id": "b7835c8a",
   "metadata": {},
   "outputs": [
    {
     "data": {
      "text/html": [
       "12"
      ],
      "text/latex": [
       "12"
      ],
      "text/markdown": [
       "12"
      ],
      "text/plain": [
       "[1] 12"
      ]
     },
     "metadata": {},
     "output_type": "display_data"
    },
    {
     "data": {
      "text/html": [
       "12"
      ],
      "text/latex": [
       "12"
      ],
      "text/markdown": [
       "12"
      ],
      "text/plain": [
       "[1] 12"
      ]
     },
     "metadata": {},
     "output_type": "display_data"
    },
    {
     "data": {
      "text/plain": [
       "NULL"
      ]
     },
     "metadata": {},
     "output_type": "display_data"
    }
   ],
   "source": [
    "d_vnitrek %>% nrow()\n",
    "vnitrek %>% nrow()\n",
    "d_vnitrek$'Dnes.jsem.se.vyspal.opravdu.skvěle.'"
   ]
  },
  {
   "cell_type": "code",
   "execution_count": 68,
   "id": "b9561bd9",
   "metadata": {},
   "outputs": [
    {
     "data": {
      "text/plain": [
       "\n",
       "Call:\n",
       "lm(formula = d_vnitrek[, 3] ~ vnitrek$efficiency)\n",
       "\n",
       "Residuals:\n",
       "    Min      1Q  Median      3Q     Max \n",
       "-3.3700 -1.4313  0.2874  0.7213  4.2254 \n",
       "\n",
       "Coefficients:\n",
       "                   Estimate Std. Error t value Pr(>|t|)\n",
       "(Intercept)         -8.1609     9.8955  -0.825    0.429\n",
       "vnitrek$efficiency   0.1827     0.1238   1.476    0.171\n",
       "\n",
       "Residual standard error: 2.045 on 10 degrees of freedom\n",
       "Multiple R-squared:  0.1788,\tAdjusted R-squared:  0.09673 \n",
       "F-statistic: 2.178 on 1 and 10 DF,  p-value: 0.1708\n"
      ]
     },
     "metadata": {},
     "output_type": "display_data"
    },
    {
     "data": {
      "text/plain": [
       "\n",
       "Call:\n",
       "lm(formula = d_venek[, 3] ~ venek$efficiency)\n",
       "\n",
       "Residuals:\n",
       "    Min      1Q  Median      3Q     Max \n",
       "-3.9648 -1.6869 -0.4436  1.4096  6.2350 \n",
       "\n",
       "Coefficients:\n",
       "                 Estimate Std. Error t value Pr(>|t|)  \n",
       "(Intercept)       23.3196    10.4591    2.23   0.0499 *\n",
       "venek$efficiency  -0.2016     0.1301   -1.55   0.1521  \n",
       "---\n",
       "Signif. codes:  0 '***' 0.001 '**' 0.01 '*' 0.05 '.' 0.1 ' ' 1\n",
       "\n",
       "Residual standard error: 3.132 on 10 degrees of freedom\n",
       "Multiple R-squared:  0.1937,\tAdjusted R-squared:  0.1131 \n",
       "F-statistic: 2.403 on 1 and 10 DF,  p-value: 0.1521\n"
      ]
     },
     "metadata": {},
     "output_type": "display_data"
    },
    {
     "data": {
      "image/png": "[encoded data removed]",
      "text/plain": [
       "plot without title"
      ]
     },
     "metadata": {},
     "output_type": "display_data"
    }
   ],
   "source": [
    "options(repr.plot.width=10, repr.plot.height=5)  \n",
    "par(mfrow = c(1,2))\n",
    "\n",
    "plot(vnitrek$efficiency, d_vnitrek[,3], ylim = c(14,0), xlim = c(70,95))\n",
    "model1 <- lm(d_vnitrek[,3] ~ vnitrek$efficiency)\n",
    "abline(a=model1$coefficients[1], b=model1$coefficients[2])\n",
    "\n",
    "plot(venek$efficiency, d_venek[,3], ylim = c(14,0), xlim = c(70,95))\n",
    "model2 <- lm(d_venek[,3] ~ venek$efficiency)\n",
    "abline(a=model2$coefficients[1], b=model2$coefficients[2])\n",
    "\n",
    "summary(model1)\n",
    "summary(model2)"
   ]
  }
 ],
 "metadata": {
  "kernelspec": {
   "display_name": "R",
   "language": "R",
   "name": "ir"
  },
  "language_info": {
   "codemirror_mode": "r",
   "file_extension": ".r",
   "mimetype": "text/x-r-source",
   "name": "R",
   "pygments_lexer": "r",
   "version": "3.6.1"
  }
 },
 "nbformat": 4,
 "nbformat_minor": 5
}
