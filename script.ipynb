{
 "cells": [
  {
   "cell_type": "code",
   "execution_count": 33,
   "id": "ef443374",
   "metadata": {},
   "outputs": [
    {
     "name": "stdout",
     "output_type": "stream",
     "text": [
      "package 'corrplot' successfully unpacked and MD5 sums checked\n",
      "\n",
      "The downloaded binary packages are in\n",
      "\tC:\\Users\\jansu\\AppData\\Local\\Temp\\Rtmpa0FVRn\\downloaded_packages\n"
     ]
    },
    {
     "name": "stderr",
     "output_type": "stream",
     "text": [
      "Warning message:\n",
      "\"package 'corrplot' was built under R version 3.6.3\"corrplot 0.84 loaded\n"
     ]
    }
   ],
   "source": [
    "library(readxl)\n",
    "library(dplyr)\n",
    "install.packages(\"corrplot\")\n",
    "library(corrplot)"
   ]
  },
  {
   "cell_type": "code",
   "execution_count": 119,
   "id": "463586b2",
   "metadata": {},
   "outputs": [
    {
     "name": "stderr",
     "output_type": "stream",
     "text": [
      "New names:\n",
      "* `` -> ...1\n",
      "* `` -> ...2\n",
      "New names:\n",
      "* `` -> ...1\n",
      "* `` -> ...2\n",
      "New names:\n",
      "* `` -> ...1\n",
      "* `` -> ...2\n",
      "* `` -> ...3\n"
     ]
    }
   ],
   "source": [
    "venek <- data.frame(read_excel(\"Venek.xlsx\")) #nacitam data\n",
    "vnitrek <- data.frame(read_excel(\"Vnitrek.xlsx\"))\n",
    "dotaznicek <- data.frame(read_excel(\"dotaznicek.xlsx\"))\n",
    "\n",
    "dotaznicek <- dotaznicek[,-1]\n",
    "\n",
    "venek <- venek[,-1] #prvni sloupec mazu\n",
    "colnames(venek)[1] <- \"inicialy\" #novy prvni sloupec pojmenovavam jako inicialy\n",
    "\n",
    "vnitrek <- vnitrek[,-1]\n",
    "colnames(vnitrek)[1] <- \"inicialy\""
   ]
  },
  {
   "cell_type": "code",
   "execution_count": 3,
   "id": "5f56daad",
   "metadata": {},
   "outputs": [
    {
     "data": {
      "text/html": [
       "<table>\n",
       "<thead><tr><th scope=col>inicialy</th><th scope=col>TIB</th><th scope=col>Sleep.time</th><th scope=col>onset.latency</th><th scope=col>efficiency</th><th scope=col>WASO</th><th scope=col>X.probuzení</th></tr></thead>\n",
       "<tbody>\n",
       "\t<tr><td>ad                 </td><td>1899-12-31 07:48:45</td><td>1899-12-31 07:10:45</td><td> 4.25              </td><td>91.795             </td><td>31.75              </td><td>16.0               </td></tr>\n",
       "\t<tr><td>jg                 </td><td>1899-12-31 08:26:00</td><td>1899-12-31 07:12:00</td><td>15.25              </td><td>85.510             </td><td>46.50              </td><td>20.5               </td></tr>\n",
       "\t<tr><td>jk                 </td><td>1899-12-31 06:50:30</td><td>1899-12-31 05:15:15</td><td> 3.75              </td><td>76.880             </td><td>57.50              </td><td>32.0               </td></tr>\n",
       "\t<tr><td>kl                 </td><td>1899-12-31 08:31:00</td><td>1899-12-31 06:39:00</td><td>24.75              </td><td>78.250             </td><td>56.75              </td><td>33.5               </td></tr>\n",
       "\t<tr><td>nl                 </td><td>1899-12-31 08:12:30</td><td>1899-12-31 06:30:30</td><td> 9.25              </td><td>79.355             </td><td>63.50              </td><td>26.0               </td></tr>\n",
       "\t<tr><td>oc                 </td><td>1899-12-31 08:26:15</td><td>1899-12-31 05:59:45</td><td>15.25              </td><td>71.190             </td><td>85.75              </td><td>39.0               </td></tr>\n",
       "</tbody>\n",
       "</table>\n"
      ],
      "text/latex": [
       "\\begin{tabular}{r|lllllll}\n",
       " inicialy & TIB & Sleep.time & onset.latency & efficiency & WASO & X.probuzení\\\\\n",
       "\\hline\n",
       "\t ad                  & 1899-12-31 07:48:45 & 1899-12-31 07:10:45 &  4.25               & 91.795              & 31.75               & 16.0               \\\\\n",
       "\t jg                  & 1899-12-31 08:26:00 & 1899-12-31 07:12:00 & 15.25               & 85.510              & 46.50               & 20.5               \\\\\n",
       "\t jk                  & 1899-12-31 06:50:30 & 1899-12-31 05:15:15 &  3.75               & 76.880              & 57.50               & 32.0               \\\\\n",
       "\t kl                  & 1899-12-31 08:31:00 & 1899-12-31 06:39:00 & 24.75               & 78.250              & 56.75               & 33.5               \\\\\n",
       "\t nl                  & 1899-12-31 08:12:30 & 1899-12-31 06:30:30 &  9.25               & 79.355              & 63.50               & 26.0               \\\\\n",
       "\t oc                  & 1899-12-31 08:26:15 & 1899-12-31 05:59:45 & 15.25               & 71.190              & 85.75               & 39.0               \\\\\n",
       "\\end{tabular}\n"
      ],
      "text/markdown": [
       "\n",
       "| inicialy | TIB | Sleep.time | onset.latency | efficiency | WASO | X.probuzení |\n",
       "|---|---|---|---|---|---|---|\n",
       "| ad                  | 1899-12-31 07:48:45 | 1899-12-31 07:10:45 |  4.25               | 91.795              | 31.75               | 16.0                |\n",
       "| jg                  | 1899-12-31 08:26:00 | 1899-12-31 07:12:00 | 15.25               | 85.510              | 46.50               | 20.5                |\n",
       "| jk                  | 1899-12-31 06:50:30 | 1899-12-31 05:15:15 |  3.75               | 76.880              | 57.50               | 32.0                |\n",
       "| kl                  | 1899-12-31 08:31:00 | 1899-12-31 06:39:00 | 24.75               | 78.250              | 56.75               | 33.5                |\n",
       "| nl                  | 1899-12-31 08:12:30 | 1899-12-31 06:30:30 |  9.25               | 79.355              | 63.50               | 26.0                |\n",
       "| oc                  | 1899-12-31 08:26:15 | 1899-12-31 05:59:45 | 15.25               | 71.190              | 85.75               | 39.0                |\n",
       "\n"
      ],
      "text/plain": [
       "  inicialy TIB                 Sleep.time          onset.latency efficiency\n",
       "1 ad       1899-12-31 07:48:45 1899-12-31 07:10:45  4.25         91.795    \n",
       "2 jg       1899-12-31 08:26:00 1899-12-31 07:12:00 15.25         85.510    \n",
       "3 jk       1899-12-31 06:50:30 1899-12-31 05:15:15  3.75         76.880    \n",
       "4 kl       1899-12-31 08:31:00 1899-12-31 06:39:00 24.75         78.250    \n",
       "5 nl       1899-12-31 08:12:30 1899-12-31 06:30:30  9.25         79.355    \n",
       "6 oc       1899-12-31 08:26:15 1899-12-31 05:59:45 15.25         71.190    \n",
       "  WASO  X.probuzení\n",
       "1 31.75 16.0       \n",
       "2 46.50 20.5       \n",
       "3 57.50 32.0       \n",
       "4 56.75 33.5       \n",
       "5 63.50 26.0       \n",
       "6 85.75 39.0       "
      ]
     },
     "metadata": {},
     "output_type": "display_data"
    }
   ],
   "source": [
    "head(venek)"
   ]
  },
  {
   "cell_type": "code",
   "execution_count": 6,
   "id": "6363415a",
   "metadata": {},
   "outputs": [
    {
     "data": {
      "text/plain": [
       "\n",
       "\tPaired t-test\n",
       "\n",
       "data:  venek$efficiency and vnitrek$efficiency\n",
       "t = 0.16688, df = 11, p-value = 0.8705\n",
       "alternative hypothesis: true difference in means is not equal to 0\n",
       "95 percent confidence interval:\n",
       " -4.134103  4.812437\n",
       "sample estimates:\n",
       "mean of the differences \n",
       "              0.3391667 \n"
      ]
     },
     "metadata": {},
     "output_type": "display_data"
    },
    {
     "data": {
      "text/plain": [
       "\n",
       "\tWelch Two Sample t-test\n",
       "\n",
       "data:  venek$efficiency and vnitrek$efficiency\n",
       "t = 0.13347, df = 19.473, p-value = 0.8952\n",
       "alternative hypothesis: true difference in means is not equal to 0\n",
       "95 percent confidence interval:\n",
       " -4.970946  5.649280\n",
       "sample estimates:\n",
       "mean of x mean of y \n",
       " 80.10750  79.76833 \n"
      ]
     },
     "metadata": {},
     "output_type": "display_data"
    },
    {
     "data": {
      "text/plain": [
       "\n",
       "\tWilcoxon signed rank test\n",
       "\n",
       "data:  venek$efficiency and vnitrek$efficiency\n",
       "V = 42, p-value = 0.8501\n",
       "alternative hypothesis: true location shift is not equal to 0\n"
      ]
     },
     "metadata": {},
     "output_type": "display_data"
    }
   ],
   "source": [
    "t.test(venek$efficiency, vnitrek$efficiency, paired = TRUE, alternative = \"two.sided\")\n",
    "\n",
    "t.test(venek$efficiency, vnitrek$efficiency, paired = FALSE, alternative = \"two.sided\")\n",
    "\n",
    "wilcox.test(venek$efficiency, vnitrek$efficiency, paired = TRUE, alternative = \"two.sided\")"
   ]
  },
  {
   "cell_type": "code",
   "execution_count": 7,
   "id": "d8b7c75f",
   "metadata": {},
   "outputs": [
    {
     "data": {
      "image/png": "[encoded data removed]",
      "text/plain": [
       "plot without title"
      ]
     },
     "metadata": {},
     "output_type": "display_data"
    }
   ],
   "source": [
    "options(repr.plot.width=4, repr.plot.height=5)  \n",
    "plot(venek$efficiency, vnitrek$efficiency, xlim = c(70,95), ylim = c(70,95))\n"
   ]
  },
  {
   "cell_type": "code",
   "execution_count": 8,
   "id": "ff44e250",
   "metadata": {},
   "outputs": [],
   "source": [
    "dotaznicek$helpvar <- c(1:nrow(dotaznicek))\n",
    "dotaznicek$helpvar2 <- ifelse(dotaznicek$helpvar %% 2 == 0,1,0)\n",
    "d_vnitrek <- subset(dotaznicek, helpvar2 == 0)\n",
    "d_venek <- subset(dotaznicek, helpvar2 != 0)"
   ]
  },
  {
   "cell_type": "code",
   "execution_count": 53,
   "id": "192bb182",
   "metadata": {},
   "outputs": [
    {
     "data": {
      "text/html": [
       "<table>\n",
       "<thead><tr><th></th><th scope=col>...2</th><th scope=col>...3</th><th scope=col>Dnes.jsem.se.vyspal.a.opravdu.skvěle.</th><th scope=col>Večer.jsem.usnul.a.velmi.rychle.</th><th scope=col>Během.noci.jsem.se.vůbec.neprobouzel.a.</th><th scope=col>V.noci.se.mi.zdály.živé.sny.</th><th scope=col>Pamatuji.si..co.se.mi.v.noci.zdálo.</th><th scope=col>Dnes.se.mi.vstávalo.opravdu.dobře.</th><th scope=col>Po.probuzení.jsem.se.cítil.a.odpočatý.á.a.plný.á.energie.</th><th scope=col>Celkově.jsem.se.tento.den.cítil.a.plný.á.energie.a.neunavný.á.</th><th scope=col>Přes.den.se.mi.dařilo.soustředit.se.na.mé.aktivity.u.náročné.na.pozornost.</th><th scope=col>Celkově.jsem.tento.den.měl.a.chuť.podnikat.spoustu.produktivních.aktivit.</th><th scope=col>Dnes.jsem.se.cítil.v.psychické.pohodě.</th><th scope=col>Dnes.jsem.mě.l.chuť.vykonávat.fyzickou.aktivitu.</th><th scope=col>helpvar</th><th scope=col>helpvar2</th></tr></thead>\n",
       "<tbody>\n",
       "\t<tr><th scope=row>1</th><td>vevnitř</td><td>AD     </td><td> 8     </td><td> 8     </td><td> 8     </td><td> 5     </td><td> 8     </td><td> 6     </td><td>7      </td><td>7      </td><td> 8     </td><td>7      </td><td>6      </td><td>7      </td><td> 1     </td><td>0      </td></tr>\n",
       "\t<tr><th scope=row>3</th><td>NA     </td><td>JG     </td><td> 4     </td><td> 2     </td><td> 6     </td><td> 8     </td><td>13     </td><td> 5     </td><td>6      </td><td>4      </td><td> 4     </td><td>5      </td><td>5      </td><td>4      </td><td> 3     </td><td>0      </td></tr>\n",
       "\t<tr><th scope=row>5</th><td>NA     </td><td>JK     </td><td> 4     </td><td> 6     </td><td> 8     </td><td> 9     </td><td> 9     </td><td> 5     </td><td>5      </td><td>5      </td><td> 6     </td><td>5      </td><td>5      </td><td>5      </td><td> 5     </td><td>0      </td></tr>\n",
       "\t<tr><th scope=row>7</th><td>NA     </td><td>KL     </td><td> 7     </td><td> 6     </td><td>10     </td><td> 7     </td><td> 8     </td><td> 7     </td><td>6      </td><td>8      </td><td> 6     </td><td>5      </td><td>4      </td><td>4      </td><td> 7     </td><td>0      </td></tr>\n",
       "\t<tr><th scope=row>9</th><td>NA     </td><td>NL     </td><td>10     </td><td>11     </td><td> 9     </td><td>10     </td><td>11     </td><td>12     </td><td>9      </td><td>8      </td><td>10     </td><td>7      </td><td>6      </td><td>9      </td><td> 9     </td><td>0      </td></tr>\n",
       "\t<tr><th scope=row>11</th><td>NA     </td><td>OC     </td><td> 7     </td><td> 2     </td><td> 4     </td><td>10     </td><td>12     </td><td> 6     </td><td>5      </td><td>5      </td><td> 4     </td><td>7      </td><td>6      </td><td>7      </td><td>11     </td><td>0      </td></tr>\n",
       "</tbody>\n",
       "</table>\n"
      ],
      "text/latex": [
       "\\begin{tabular}{r|llllllllllllllll}\n",
       "  & ...2 & ...3 & Dnes.jsem.se.vyspal.a.opravdu.skvěle. & Večer.jsem.usnul.a.velmi.rychle. & Během.noci.jsem.se.vůbec.neprobouzel.a. & V.noci.se.mi.zdály.živé.sny. & Pamatuji.si..co.se.mi.v.noci.zdálo. & Dnes.se.mi.vstávalo.opravdu.dobře. & Po.probuzení.jsem.se.cítil.a.odpočatý.á.a.plný.á.energie. & Celkově.jsem.se.tento.den.cítil.a.plný.á.energie.a.neunavný.á. & Přes.den.se.mi.dařilo.soustředit.se.na.mé.aktivity.u.náročné.na.pozornost. & Celkově.jsem.tento.den.měl.a.chuť.podnikat.spoustu.produktivních.aktivit. & Dnes.jsem.se.cítil.v.psychické.pohodě. & Dnes.jsem.mě.l.chuť.vykonávat.fyzickou.aktivitu. & helpvar & helpvar2\\\\\n",
       "\\hline\n",
       "\t1 & vevnitř & AD      &  8      &  8      &  8      &  5      &  8      &  6      & 7       & 7       &  8      & 7       & 6       & 7       &  1      & 0      \\\\\n",
       "\t3 & NA      & JG      &  4      &  2      &  6      &  8      & 13      &  5      & 6       & 4       &  4      & 5       & 5       & 4       &  3      & 0      \\\\\n",
       "\t5 & NA      & JK      &  4      &  6      &  8      &  9      &  9      &  5      & 5       & 5       &  6      & 5       & 5       & 5       &  5      & 0      \\\\\n",
       "\t7 & NA      & KL      &  7      &  6      & 10      &  7      &  8      &  7      & 6       & 8       &  6      & 5       & 4       & 4       &  7      & 0      \\\\\n",
       "\t9 & NA      & NL      & 10      & 11      &  9      & 10      & 11      & 12      & 9       & 8       & 10      & 7       & 6       & 9       &  9      & 0      \\\\\n",
       "\t11 & NA      & OC      &  7      &  2      &  4      & 10      & 12      &  6      & 5       & 5       &  4      & 7       & 6       & 7       & 11      & 0      \\\\\n",
       "\\end{tabular}\n"
      ],
      "text/markdown": [
       "\n",
       "| <!--/--> | ...2 | ...3 | Dnes.jsem.se.vyspal.a.opravdu.skvěle. | Večer.jsem.usnul.a.velmi.rychle. | Během.noci.jsem.se.vůbec.neprobouzel.a. | V.noci.se.mi.zdály.živé.sny. | Pamatuji.si..co.se.mi.v.noci.zdálo. | Dnes.se.mi.vstávalo.opravdu.dobře. | Po.probuzení.jsem.se.cítil.a.odpočatý.á.a.plný.á.energie. | Celkově.jsem.se.tento.den.cítil.a.plný.á.energie.a.neunavný.á. | Přes.den.se.mi.dařilo.soustředit.se.na.mé.aktivity.u.náročné.na.pozornost. | Celkově.jsem.tento.den.měl.a.chuť.podnikat.spoustu.produktivních.aktivit. | Dnes.jsem.se.cítil.v.psychické.pohodě. | Dnes.jsem.mě.l.chuť.vykonávat.fyzickou.aktivitu. | helpvar | helpvar2 |\n",
       "|---|---|---|---|---|---|---|---|---|---|---|---|---|---|---|---|---|\n",
       "| 1 | vevnitř | AD      |  8      |  8      |  8      |  5      |  8      |  6      | 7       | 7       |  8      | 7       | 6       | 7       |  1      | 0       |\n",
       "| 3 | NA      | JG      |  4      |  2      |  6      |  8      | 13      |  5      | 6       | 4       |  4      | 5       | 5       | 4       |  3      | 0       |\n",
       "| 5 | NA      | JK      |  4      |  6      |  8      |  9      |  9      |  5      | 5       | 5       |  6      | 5       | 5       | 5       |  5      | 0       |\n",
       "| 7 | NA      | KL      |  7      |  6      | 10      |  7      |  8      |  7      | 6       | 8       |  6      | 5       | 4       | 4       |  7      | 0       |\n",
       "| 9 | NA      | NL      | 10      | 11      |  9      | 10      | 11      | 12      | 9       | 8       | 10      | 7       | 6       | 9       |  9      | 0       |\n",
       "| 11 | NA      | OC      |  7      |  2      |  4      | 10      | 12      |  6      | 5       | 5       |  4      | 7       | 6       | 7       | 11      | 0       |\n",
       "\n"
      ],
      "text/plain": [
       "   ...2    ...3 Dnes.jsem.se.vyspal.a.opravdu.skvěle.\n",
       "1  vevnitř AD    8                                   \n",
       "3  NA      JG    4                                   \n",
       "5  NA      JK    4                                   \n",
       "7  NA      KL    7                                   \n",
       "9  NA      NL   10                                   \n",
       "11 NA      OC    7                                   \n",
       "   Večer.jsem.usnul.a.velmi.rychle. Během.noci.jsem.se.vůbec.neprobouzel.a.\n",
       "1   8                                8                                     \n",
       "3   2                                6                                     \n",
       "5   6                                8                                     \n",
       "7   6                               10                                     \n",
       "9  11                                9                                     \n",
       "11  2                                4                                     \n",
       "   V.noci.se.mi.zdály.živé.sny. Pamatuji.si..co.se.mi.v.noci.zdálo.\n",
       "1   5                            8                                 \n",
       "3   8                           13                                 \n",
       "5   9                            9                                 \n",
       "7   7                            8                                 \n",
       "9  10                           11                                 \n",
       "11 10                           12                                 \n",
       "   Dnes.se.mi.vstávalo.opravdu.dobře.\n",
       "1   6                                \n",
       "3   5                                \n",
       "5   5                                \n",
       "7   7                                \n",
       "9  12                                \n",
       "11  6                                \n",
       "   Po.probuzení.jsem.se.cítil.a.odpočatý.á.a.plný.á.energie.\n",
       "1  7                                                        \n",
       "3  6                                                        \n",
       "5  5                                                        \n",
       "7  6                                                        \n",
       "9  9                                                        \n",
       "11 5                                                        \n",
       "   Celkově.jsem.se.tento.den.cítil.a.plný.á.energie.a.neunavný.á.\n",
       "1  7                                                             \n",
       "3  4                                                             \n",
       "5  5                                                             \n",
       "7  8                                                             \n",
       "9  8                                                             \n",
       "11 5                                                             \n",
       "   Přes.den.se.mi.dařilo.soustředit.se.na.mé.aktivity.u.náročné.na.pozornost.\n",
       "1   8                                                                        \n",
       "3   4                                                                        \n",
       "5   6                                                                        \n",
       "7   6                                                                        \n",
       "9  10                                                                        \n",
       "11  4                                                                        \n",
       "   Celkově.jsem.tento.den.měl.a.chuť.podnikat.spoustu.produktivních.aktivit.\n",
       "1  7                                                                        \n",
       "3  5                                                                        \n",
       "5  5                                                                        \n",
       "7  5                                                                        \n",
       "9  7                                                                        \n",
       "11 7                                                                        \n",
       "   Dnes.jsem.se.cítil.v.psychické.pohodě.\n",
       "1  6                                     \n",
       "3  5                                     \n",
       "5  5                                     \n",
       "7  4                                     \n",
       "9  6                                     \n",
       "11 6                                     \n",
       "   Dnes.jsem.mě.l.chuť.vykonávat.fyzickou.aktivitu. helpvar helpvar2\n",
       "1  7                                                 1      0       \n",
       "3  4                                                 3      0       \n",
       "5  5                                                 5      0       \n",
       "7  4                                                 7      0       \n",
       "9  9                                                 9      0       \n",
       "11 7                                                11      0       "
      ]
     },
     "metadata": {},
     "output_type": "display_data"
    },
    {
     "data": {
      "text/html": [
       "<table>\n",
       "<thead><tr><th></th><th scope=col>...2</th><th scope=col>...3</th><th scope=col>Dnes.jsem.se.vyspal.a.opravdu.skvěle.</th><th scope=col>Večer.jsem.usnul.a.velmi.rychle.</th><th scope=col>Během.noci.jsem.se.vůbec.neprobouzel.a.</th><th scope=col>V.noci.se.mi.zdály.živé.sny.</th><th scope=col>Pamatuji.si..co.se.mi.v.noci.zdálo.</th><th scope=col>Dnes.se.mi.vstávalo.opravdu.dobře.</th><th scope=col>Po.probuzení.jsem.se.cítil.a.odpočatý.á.a.plný.á.energie.</th><th scope=col>Celkově.jsem.se.tento.den.cítil.a.plný.á.energie.a.neunavný.á.</th><th scope=col>Přes.den.se.mi.dařilo.soustředit.se.na.mé.aktivity.u.náročné.na.pozornost.</th><th scope=col>Celkově.jsem.tento.den.měl.a.chuť.podnikat.spoustu.produktivních.aktivit.</th><th scope=col>Dnes.jsem.se.cítil.v.psychické.pohodě.</th><th scope=col>Dnes.jsem.mě.l.chuť.vykonávat.fyzickou.aktivitu.</th><th scope=col>helpvar</th><th scope=col>helpvar2</th></tr></thead>\n",
       "<tbody>\n",
       "\t<tr><th scope=row>2</th><td>venku</td><td>AD   </td><td> 4   </td><td>5    </td><td>11   </td><td> 4   </td><td>10   </td><td>3    </td><td>4    </td><td> 6   </td><td>6    </td><td> 5   </td><td> 3   </td><td>5    </td><td> 2   </td><td>1    </td></tr>\n",
       "\t<tr><th scope=row>4</th><td>NA   </td><td>JG   </td><td> 6   </td><td>3    </td><td>10   </td><td>12   </td><td>12   </td><td>8    </td><td>9    </td><td> 8   </td><td>8    </td><td>11   </td><td>10   </td><td>8    </td><td> 4   </td><td>1    </td></tr>\n",
       "\t<tr><th scope=row>6</th><td>NA   </td><td>JK   </td><td> 4   </td><td>3    </td><td> 6   </td><td> 3   </td><td> 9   </td><td>5    </td><td>7    </td><td> 6   </td><td>7    </td><td> 4   </td><td> 7   </td><td>3    </td><td> 6   </td><td>1    </td></tr>\n",
       "\t<tr><th scope=row>8</th><td>NA   </td><td>KL   </td><td>11   </td><td>5    </td><td>13   </td><td>12   </td><td>14   </td><td>4    </td><td>7    </td><td>12   </td><td>9    </td><td> 9   </td><td> 6   </td><td>7    </td><td> 8   </td><td>1    </td></tr>\n",
       "\t<tr><th scope=row>10</th><td>NA   </td><td>NL   </td><td> 5   </td><td>6    </td><td> 7   </td><td> 6   </td><td> 9   </td><td>3    </td><td>5    </td><td> 6   </td><td>7    </td><td> 5   </td><td> 5   </td><td>9    </td><td>10   </td><td>1    </td></tr>\n",
       "\t<tr><th scope=row>12</th><td>NA   </td><td>OC   </td><td> 5   </td><td>7    </td><td> 7   </td><td> 7   </td><td> 8   </td><td>7    </td><td>6    </td><td> 7   </td><td>7    </td><td> 8   </td><td> 6   </td><td>6    </td><td>12   </td><td>1    </td></tr>\n",
       "</tbody>\n",
       "</table>\n"
      ],
      "text/latex": [
       "\\begin{tabular}{r|llllllllllllllll}\n",
       "  & ...2 & ...3 & Dnes.jsem.se.vyspal.a.opravdu.skvěle. & Večer.jsem.usnul.a.velmi.rychle. & Během.noci.jsem.se.vůbec.neprobouzel.a. & V.noci.se.mi.zdály.živé.sny. & Pamatuji.si..co.se.mi.v.noci.zdálo. & Dnes.se.mi.vstávalo.opravdu.dobře. & Po.probuzení.jsem.se.cítil.a.odpočatý.á.a.plný.á.energie. & Celkově.jsem.se.tento.den.cítil.a.plný.á.energie.a.neunavný.á. & Přes.den.se.mi.dařilo.soustředit.se.na.mé.aktivity.u.náročné.na.pozornost. & Celkově.jsem.tento.den.měl.a.chuť.podnikat.spoustu.produktivních.aktivit. & Dnes.jsem.se.cítil.v.psychické.pohodě. & Dnes.jsem.mě.l.chuť.vykonávat.fyzickou.aktivitu. & helpvar & helpvar2\\\\\n",
       "\\hline\n",
       "\t2 & venku & AD    &  4    & 5     & 11    &  4    & 10    & 3     & 4     &  6    & 6     &  5    &  3    & 5     &  2    & 1    \\\\\n",
       "\t4 & NA    & JG    &  6    & 3     & 10    & 12    & 12    & 8     & 9     &  8    & 8     & 11    & 10    & 8     &  4    & 1    \\\\\n",
       "\t6 & NA    & JK    &  4    & 3     &  6    &  3    &  9    & 5     & 7     &  6    & 7     &  4    &  7    & 3     &  6    & 1    \\\\\n",
       "\t8 & NA    & KL    & 11    & 5     & 13    & 12    & 14    & 4     & 7     & 12    & 9     &  9    &  6    & 7     &  8    & 1    \\\\\n",
       "\t10 & NA    & NL    &  5    & 6     &  7    &  6    &  9    & 3     & 5     &  6    & 7     &  5    &  5    & 9     & 10    & 1    \\\\\n",
       "\t12 & NA    & OC    &  5    & 7     &  7    &  7    &  8    & 7     & 6     &  7    & 7     &  8    &  6    & 6     & 12    & 1    \\\\\n",
       "\\end{tabular}\n"
      ],
      "text/markdown": [
       "\n",
       "| <!--/--> | ...2 | ...3 | Dnes.jsem.se.vyspal.a.opravdu.skvěle. | Večer.jsem.usnul.a.velmi.rychle. | Během.noci.jsem.se.vůbec.neprobouzel.a. | V.noci.se.mi.zdály.živé.sny. | Pamatuji.si..co.se.mi.v.noci.zdálo. | Dnes.se.mi.vstávalo.opravdu.dobře. | Po.probuzení.jsem.se.cítil.a.odpočatý.á.a.plný.á.energie. | Celkově.jsem.se.tento.den.cítil.a.plný.á.energie.a.neunavný.á. | Přes.den.se.mi.dařilo.soustředit.se.na.mé.aktivity.u.náročné.na.pozornost. | Celkově.jsem.tento.den.měl.a.chuť.podnikat.spoustu.produktivních.aktivit. | Dnes.jsem.se.cítil.v.psychické.pohodě. | Dnes.jsem.mě.l.chuť.vykonávat.fyzickou.aktivitu. | helpvar | helpvar2 |\n",
       "|---|---|---|---|---|---|---|---|---|---|---|---|---|---|---|---|---|\n",
       "| 2 | venku | AD    |  4    | 5     | 11    |  4    | 10    | 3     | 4     |  6    | 6     |  5    |  3    | 5     |  2    | 1     |\n",
       "| 4 | NA    | JG    |  6    | 3     | 10    | 12    | 12    | 8     | 9     |  8    | 8     | 11    | 10    | 8     |  4    | 1     |\n",
       "| 6 | NA    | JK    |  4    | 3     |  6    |  3    |  9    | 5     | 7     |  6    | 7     |  4    |  7    | 3     |  6    | 1     |\n",
       "| 8 | NA    | KL    | 11    | 5     | 13    | 12    | 14    | 4     | 7     | 12    | 9     |  9    |  6    | 7     |  8    | 1     |\n",
       "| 10 | NA    | NL    |  5    | 6     |  7    |  6    |  9    | 3     | 5     |  6    | 7     |  5    |  5    | 9     | 10    | 1     |\n",
       "| 12 | NA    | OC    |  5    | 7     |  7    |  7    |  8    | 7     | 6     |  7    | 7     |  8    |  6    | 6     | 12    | 1     |\n",
       "\n"
      ],
      "text/plain": [
       "   ...2  ...3 Dnes.jsem.se.vyspal.a.opravdu.skvěle.\n",
       "2  venku AD    4                                   \n",
       "4  NA    JG    6                                   \n",
       "6  NA    JK    4                                   \n",
       "8  NA    KL   11                                   \n",
       "10 NA    NL    5                                   \n",
       "12 NA    OC    5                                   \n",
       "   Večer.jsem.usnul.a.velmi.rychle. Během.noci.jsem.se.vůbec.neprobouzel.a.\n",
       "2  5                                11                                     \n",
       "4  3                                10                                     \n",
       "6  3                                 6                                     \n",
       "8  5                                13                                     \n",
       "10 6                                 7                                     \n",
       "12 7                                 7                                     \n",
       "   V.noci.se.mi.zdály.živé.sny. Pamatuji.si..co.se.mi.v.noci.zdálo.\n",
       "2   4                           10                                 \n",
       "4  12                           12                                 \n",
       "6   3                            9                                 \n",
       "8  12                           14                                 \n",
       "10  6                            9                                 \n",
       "12  7                            8                                 \n",
       "   Dnes.se.mi.vstávalo.opravdu.dobře.\n",
       "2  3                                 \n",
       "4  8                                 \n",
       "6  5                                 \n",
       "8  4                                 \n",
       "10 3                                 \n",
       "12 7                                 \n",
       "   Po.probuzení.jsem.se.cítil.a.odpočatý.á.a.plný.á.energie.\n",
       "2  4                                                        \n",
       "4  9                                                        \n",
       "6  7                                                        \n",
       "8  7                                                        \n",
       "10 5                                                        \n",
       "12 6                                                        \n",
       "   Celkově.jsem.se.tento.den.cítil.a.plný.á.energie.a.neunavný.á.\n",
       "2   6                                                            \n",
       "4   8                                                            \n",
       "6   6                                                            \n",
       "8  12                                                            \n",
       "10  6                                                            \n",
       "12  7                                                            \n",
       "   Přes.den.se.mi.dařilo.soustředit.se.na.mé.aktivity.u.náročné.na.pozornost.\n",
       "2  6                                                                         \n",
       "4  8                                                                         \n",
       "6  7                                                                         \n",
       "8  9                                                                         \n",
       "10 7                                                                         \n",
       "12 7                                                                         \n",
       "   Celkově.jsem.tento.den.měl.a.chuť.podnikat.spoustu.produktivních.aktivit.\n",
       "2   5                                                                       \n",
       "4  11                                                                       \n",
       "6   4                                                                       \n",
       "8   9                                                                       \n",
       "10  5                                                                       \n",
       "12  8                                                                       \n",
       "   Dnes.jsem.se.cítil.v.psychické.pohodě.\n",
       "2   3                                    \n",
       "4  10                                    \n",
       "6   7                                    \n",
       "8   6                                    \n",
       "10  5                                    \n",
       "12  6                                    \n",
       "   Dnes.jsem.mě.l.chuť.vykonávat.fyzickou.aktivitu. helpvar helpvar2\n",
       "2  5                                                 2      1       \n",
       "4  8                                                 4      1       \n",
       "6  3                                                 6      1       \n",
       "8  7                                                 8      1       \n",
       "10 9                                                10      1       \n",
       "12 6                                                12      1       "
      ]
     },
     "metadata": {},
     "output_type": "display_data"
    },
    {
     "data": {
      "text/html": [
       "<table>\n",
       "<thead><tr><th scope=col>inicialy</th><th scope=col>TIB</th><th scope=col>Sleep.time</th><th scope=col>onset.latency</th><th scope=col>efficiency</th><th scope=col>WASO</th><th scope=col>X.probuzení</th></tr></thead>\n",
       "<tbody>\n",
       "\t<tr><td>ad                 </td><td>1899-12-31 07:48:45</td><td>1899-12-31 07:10:45</td><td> 4.25              </td><td>91.795             </td><td>31.75              </td><td>16.0               </td></tr>\n",
       "\t<tr><td>jg                 </td><td>1899-12-31 08:26:00</td><td>1899-12-31 07:12:00</td><td>15.25              </td><td>85.510             </td><td>46.50              </td><td>20.5               </td></tr>\n",
       "\t<tr><td>jk                 </td><td>1899-12-31 06:50:30</td><td>1899-12-31 05:15:15</td><td> 3.75              </td><td>76.880             </td><td>57.50              </td><td>32.0               </td></tr>\n",
       "\t<tr><td>kl                 </td><td>1899-12-31 08:31:00</td><td>1899-12-31 06:39:00</td><td>24.75              </td><td>78.250             </td><td>56.75              </td><td>33.5               </td></tr>\n",
       "\t<tr><td>nl                 </td><td>1899-12-31 08:12:30</td><td>1899-12-31 06:30:30</td><td> 9.25              </td><td>79.355             </td><td>63.50              </td><td>26.0               </td></tr>\n",
       "\t<tr><td>oc                 </td><td>1899-12-31 08:26:15</td><td>1899-12-31 05:59:45</td><td>15.25              </td><td>71.190             </td><td>85.75              </td><td>39.0               </td></tr>\n",
       "</tbody>\n",
       "</table>\n"
      ],
      "text/latex": [
       "\\begin{tabular}{r|lllllll}\n",
       " inicialy & TIB & Sleep.time & onset.latency & efficiency & WASO & X.probuzení\\\\\n",
       "\\hline\n",
       "\t ad                  & 1899-12-31 07:48:45 & 1899-12-31 07:10:45 &  4.25               & 91.795              & 31.75               & 16.0               \\\\\n",
       "\t jg                  & 1899-12-31 08:26:00 & 1899-12-31 07:12:00 & 15.25               & 85.510              & 46.50               & 20.5               \\\\\n",
       "\t jk                  & 1899-12-31 06:50:30 & 1899-12-31 05:15:15 &  3.75               & 76.880              & 57.50               & 32.0               \\\\\n",
       "\t kl                  & 1899-12-31 08:31:00 & 1899-12-31 06:39:00 & 24.75               & 78.250              & 56.75               & 33.5               \\\\\n",
       "\t nl                  & 1899-12-31 08:12:30 & 1899-12-31 06:30:30 &  9.25               & 79.355              & 63.50               & 26.0               \\\\\n",
       "\t oc                  & 1899-12-31 08:26:15 & 1899-12-31 05:59:45 & 15.25               & 71.190              & 85.75               & 39.0               \\\\\n",
       "\\end{tabular}\n"
      ],
      "text/markdown": [
       "\n",
       "| inicialy | TIB | Sleep.time | onset.latency | efficiency | WASO | X.probuzení |\n",
       "|---|---|---|---|---|---|---|\n",
       "| ad                  | 1899-12-31 07:48:45 | 1899-12-31 07:10:45 |  4.25               | 91.795              | 31.75               | 16.0                |\n",
       "| jg                  | 1899-12-31 08:26:00 | 1899-12-31 07:12:00 | 15.25               | 85.510              | 46.50               | 20.5                |\n",
       "| jk                  | 1899-12-31 06:50:30 | 1899-12-31 05:15:15 |  3.75               | 76.880              | 57.50               | 32.0                |\n",
       "| kl                  | 1899-12-31 08:31:00 | 1899-12-31 06:39:00 | 24.75               | 78.250              | 56.75               | 33.5                |\n",
       "| nl                  | 1899-12-31 08:12:30 | 1899-12-31 06:30:30 |  9.25               | 79.355              | 63.50               | 26.0                |\n",
       "| oc                  | 1899-12-31 08:26:15 | 1899-12-31 05:59:45 | 15.25               | 71.190              | 85.75               | 39.0                |\n",
       "\n"
      ],
      "text/plain": [
       "  inicialy TIB                 Sleep.time          onset.latency efficiency\n",
       "1 ad       1899-12-31 07:48:45 1899-12-31 07:10:45  4.25         91.795    \n",
       "2 jg       1899-12-31 08:26:00 1899-12-31 07:12:00 15.25         85.510    \n",
       "3 jk       1899-12-31 06:50:30 1899-12-31 05:15:15  3.75         76.880    \n",
       "4 kl       1899-12-31 08:31:00 1899-12-31 06:39:00 24.75         78.250    \n",
       "5 nl       1899-12-31 08:12:30 1899-12-31 06:30:30  9.25         79.355    \n",
       "6 oc       1899-12-31 08:26:15 1899-12-31 05:59:45 15.25         71.190    \n",
       "  WASO  X.probuzení\n",
       "1 31.75 16.0       \n",
       "2 46.50 20.5       \n",
       "3 57.50 32.0       \n",
       "4 56.75 33.5       \n",
       "5 63.50 26.0       \n",
       "6 85.75 39.0       "
      ]
     },
     "metadata": {},
     "output_type": "display_data"
    },
    {
     "data": {
      "text/html": [
       "<table>\n",
       "<thead><tr><th scope=col>inicialy</th><th scope=col>TIB</th><th scope=col>Sleep.time</th><th scope=col>onset.latency</th><th scope=col>efficiency</th><th scope=col>WASO</th><th scope=col>X.probuzení</th></tr></thead>\n",
       "<tbody>\n",
       "\t<tr><td>ad                 </td><td>1899-12-31 08:03:00</td><td>1899-12-31 06:26:45</td><td> 5.00              </td><td>80.085             </td><td>56.75              </td><td>31.5               </td></tr>\n",
       "\t<tr><td>jg                 </td><td>1899-12-31 08:15:00</td><td>1899-12-31 06:59:15</td><td>11.50              </td><td>84.985             </td><td>51.50              </td><td>27.5               </td></tr>\n",
       "\t<tr><td>jk                 </td><td>1899-12-31 07:46:45</td><td>1899-12-31 05:54:45</td><td>12.00              </td><td>76.135             </td><td>95.50              </td><td>49.0               </td></tr>\n",
       "\t<tr><td>kl                 </td><td>1899-12-31 08:04:00</td><td>1899-12-31 06:46:00</td><td>15.50              </td><td>83.990             </td><td>51.25              </td><td>34.5               </td></tr>\n",
       "\t<tr><td>nl                 </td><td>1899-12-31 10:12:45</td><td>1899-12-31 07:46:15</td><td>40.00              </td><td>76.255             </td><td>92.25              </td><td>49.5               </td></tr>\n",
       "\t<tr><td>oc                 </td><td>1899-12-31 08:15:15</td><td>1899-12-31 06:18:45</td><td> 5.75              </td><td>76.450             </td><td>87.00              </td><td>50.0               </td></tr>\n",
       "</tbody>\n",
       "</table>\n"
      ],
      "text/latex": [
       "\\begin{tabular}{r|lllllll}\n",
       " inicialy & TIB & Sleep.time & onset.latency & efficiency & WASO & X.probuzení\\\\\n",
       "\\hline\n",
       "\t ad                  & 1899-12-31 08:03:00 & 1899-12-31 06:26:45 &  5.00               & 80.085              & 56.75               & 31.5               \\\\\n",
       "\t jg                  & 1899-12-31 08:15:00 & 1899-12-31 06:59:15 & 11.50               & 84.985              & 51.50               & 27.5               \\\\\n",
       "\t jk                  & 1899-12-31 07:46:45 & 1899-12-31 05:54:45 & 12.00               & 76.135              & 95.50               & 49.0               \\\\\n",
       "\t kl                  & 1899-12-31 08:04:00 & 1899-12-31 06:46:00 & 15.50               & 83.990              & 51.25               & 34.5               \\\\\n",
       "\t nl                  & 1899-12-31 10:12:45 & 1899-12-31 07:46:15 & 40.00               & 76.255              & 92.25               & 49.5               \\\\\n",
       "\t oc                  & 1899-12-31 08:15:15 & 1899-12-31 06:18:45 &  5.75               & 76.450              & 87.00               & 50.0               \\\\\n",
       "\\end{tabular}\n"
      ],
      "text/markdown": [
       "\n",
       "| inicialy | TIB | Sleep.time | onset.latency | efficiency | WASO | X.probuzení |\n",
       "|---|---|---|---|---|---|---|\n",
       "| ad                  | 1899-12-31 08:03:00 | 1899-12-31 06:26:45 |  5.00               | 80.085              | 56.75               | 31.5                |\n",
       "| jg                  | 1899-12-31 08:15:00 | 1899-12-31 06:59:15 | 11.50               | 84.985              | 51.50               | 27.5                |\n",
       "| jk                  | 1899-12-31 07:46:45 | 1899-12-31 05:54:45 | 12.00               | 76.135              | 95.50               | 49.0                |\n",
       "| kl                  | 1899-12-31 08:04:00 | 1899-12-31 06:46:00 | 15.50               | 83.990              | 51.25               | 34.5                |\n",
       "| nl                  | 1899-12-31 10:12:45 | 1899-12-31 07:46:15 | 40.00               | 76.255              | 92.25               | 49.5                |\n",
       "| oc                  | 1899-12-31 08:15:15 | 1899-12-31 06:18:45 |  5.75               | 76.450              | 87.00               | 50.0                |\n",
       "\n"
      ],
      "text/plain": [
       "  inicialy TIB                 Sleep.time          onset.latency efficiency\n",
       "1 ad       1899-12-31 08:03:00 1899-12-31 06:26:45  5.00         80.085    \n",
       "2 jg       1899-12-31 08:15:00 1899-12-31 06:59:15 11.50         84.985    \n",
       "3 jk       1899-12-31 07:46:45 1899-12-31 05:54:45 12.00         76.135    \n",
       "4 kl       1899-12-31 08:04:00 1899-12-31 06:46:00 15.50         83.990    \n",
       "5 nl       1899-12-31 10:12:45 1899-12-31 07:46:15 40.00         76.255    \n",
       "6 oc       1899-12-31 08:15:15 1899-12-31 06:18:45  5.75         76.450    \n",
       "  WASO  X.probuzení\n",
       "1 56.75 31.5       \n",
       "2 51.50 27.5       \n",
       "3 95.50 49.0       \n",
       "4 51.25 34.5       \n",
       "5 92.25 49.5       \n",
       "6 87.00 50.0       "
      ]
     },
     "metadata": {},
     "output_type": "display_data"
    },
    {
     "data": {
      "text/html": [
       "<ol class=list-inline>\n",
       "\t<li>12</li>\n",
       "\t<li>16</li>\n",
       "</ol>\n"
      ],
      "text/latex": [
       "\\begin{enumerate*}\n",
       "\\item 12\n",
       "\\item 16\n",
       "\\end{enumerate*}\n"
      ],
      "text/markdown": [
       "1. 12\n",
       "2. 16\n",
       "\n",
       "\n"
      ],
      "text/plain": [
       "[1] 12 16"
      ]
     },
     "metadata": {},
     "output_type": "display_data"
    },
    {
     "data": {
      "text/html": [
       "<ol class=list-inline>\n",
       "\t<li>12</li>\n",
       "\t<li>7</li>\n",
       "</ol>\n"
      ],
      "text/latex": [
       "\\begin{enumerate*}\n",
       "\\item 12\n",
       "\\item 7\n",
       "\\end{enumerate*}\n"
      ],
      "text/markdown": [
       "1. 12\n",
       "2. 7\n",
       "\n",
       "\n"
      ],
      "text/plain": [
       "[1] 12  7"
      ]
     },
     "metadata": {},
     "output_type": "display_data"
    }
   ],
   "source": [
    "d_vnitrek %>% head()\n",
    "d_venek %>% head()\n",
    "head(venek)\n",
    "head(vnitrek)\n",
    "dim(d_vnitrek)\n",
    "dim(venek)"
   ]
  },
  {
   "cell_type": "code",
   "execution_count": 114,
   "id": "280237d2",
   "metadata": {},
   "outputs": [
    {
     "data": {
      "text/html": [
       "<ol class=list-inline>\n",
       "\t<li>12</li>\n",
       "\t<li>36</li>\n",
       "</ol>\n"
      ],
      "text/latex": [
       "\\begin{enumerate*}\n",
       "\\item 12\n",
       "\\item 36\n",
       "\\end{enumerate*}\n"
      ],
      "text/markdown": [
       "1. 12\n",
       "2. 36\n",
       "\n",
       "\n"
      ],
      "text/plain": [
       "[1] 12 36"
      ]
     },
     "metadata": {},
     "output_type": "display_data"
    },
    {
     "name": "stdout",
     "output_type": "stream",
     "text": [
      "[1] \"onset.latency\"\n",
      "[1] \"Celkově.jsem.se.tento.den.cítil.a.plný.á.energie.a.neunavný.á.\"\n",
      "[1] 0.005600044\n",
      "[1] \"onset.latency\"\n",
      "[1] \"Přes.den.se.mi.dařilo.soustředit.se.na.mé.aktivity.u.náročné.na.pozornost.\"\n",
      "[1] 0.04392607\n",
      "[1] \"onset.latency\"\n",
      "[1] \"Dnes.jsem.se.cítil.v.psychické.pohodě.\"\n",
      "[1] 0.01842656\n",
      "[1] \"onset.latency.1\"\n",
      "[1] \"Dnes.se.mi.vstávalo.opravdu.dobře..1\"\n",
      "[1] 0.01845095\n",
      "[1] \"onset.latency.1\"\n",
      "[1] \"Přes.den.se.mi.dařilo.soustředit.se.na.mé.aktivity.u.náročné.na.pozornost..1\"\n",
      "[1] 0.03925684\n",
      "[1] \"Dnes.jsem.se.vyspal.a.opravdu.skvěle.\"\n",
      "[1] \"Během.noci.jsem.se.vůbec.neprobouzel.a.\"\n",
      "[1] 0.00392245\n",
      "[1] \"Dnes.jsem.se.vyspal.a.opravdu.skvěle.\"\n",
      "[1] \"Dnes.se.mi.vstávalo.opravdu.dobře.\"\n",
      "[1] 0.0206744\n",
      "[1] \"Dnes.jsem.se.vyspal.a.opravdu.skvěle.\"\n",
      "[1] \"Po.probuzení.jsem.se.cítil.a.odpočatý.á.a.plný.á.energie.\"\n",
      "[1] 0.00158897\n",
      "[1] \"Dnes.jsem.se.vyspal.a.opravdu.skvěle.\"\n",
      "[1] \"Celkově.jsem.se.tento.den.cítil.a.plný.á.energie.a.neunavný.á.\"\n",
      "[1] 1.015421e-05\n",
      "[1] \"Během.noci.jsem.se.vůbec.neprobouzel.a.\"\n",
      "[1] \"Dnes.jsem.se.vyspal.a.opravdu.skvěle.\"\n",
      "[1] 0.00392245\n",
      "[1] \"Během.noci.jsem.se.vůbec.neprobouzel.a.\"\n",
      "[1] \"Celkově.jsem.se.tento.den.cítil.a.plný.á.energie.a.neunavný.á.\"\n",
      "[1] 0.01480966\n",
      "[1] \"Pamatuji.si..co.se.mi.v.noci.zdálo.\"\n",
      "[1] \"Dnes.jsem.se.cítil.v.psychické.pohodě..1\"\n",
      "[1] 0.006565113\n",
      "[1] \"Dnes.se.mi.vstávalo.opravdu.dobře.\"\n",
      "[1] \"Dnes.jsem.se.vyspal.a.opravdu.skvěle.\"\n",
      "[1] 0.0206744\n",
      "[1] \"Dnes.se.mi.vstávalo.opravdu.dobře.\"\n",
      "[1] \"Po.probuzení.jsem.se.cítil.a.odpočatý.á.a.plný.á.energie.\"\n",
      "[1] 0.0005508365\n",
      "[1] \"Dnes.se.mi.vstávalo.opravdu.dobře.\"\n",
      "[1] \"Celkově.jsem.se.tento.den.cítil.a.plný.á.energie.a.neunavný.á.\"\n",
      "[1] 0.04363951\n",
      "[1] \"Dnes.se.mi.vstávalo.opravdu.dobře.\"\n",
      "[1] \"Dnes.jsem.se.cítil.v.psychické.pohodě.\"\n",
      "[1] 0.03234353\n",
      "[1] \"Dnes.se.mi.vstávalo.opravdu.dobře.\"\n",
      "[1] \"Večer.jsem.usnul.a.velmi.rychle..1\"\n",
      "[1] 0.004061604\n",
      "[1] \"Po.probuzení.jsem.se.cítil.a.odpočatý.á.a.plný.á.energie.\"\n",
      "[1] \"Dnes.jsem.se.vyspal.a.opravdu.skvěle.\"\n",
      "[1] 0.00158897\n",
      "[1] \"Po.probuzení.jsem.se.cítil.a.odpočatý.á.a.plný.á.energie.\"\n",
      "[1] \"Dnes.se.mi.vstávalo.opravdu.dobře.\"\n",
      "[1] 0.0005508365\n",
      "[1] \"Po.probuzení.jsem.se.cítil.a.odpočatý.á.a.plný.á.energie.\"\n",
      "[1] \"Celkově.jsem.se.tento.den.cítil.a.plný.á.energie.a.neunavný.á.\"\n",
      "[1] 0.004880021\n",
      "[1] \"Po.probuzení.jsem.se.cítil.a.odpočatý.á.a.plný.á.energie.\"\n",
      "[1] \"Dnes.jsem.se.cítil.v.psychické.pohodě.\"\n",
      "[1] 0.04629171\n",
      "[1] \"Po.probuzení.jsem.se.cítil.a.odpočatý.á.a.plný.á.energie.\"\n",
      "[1] \"Večer.jsem.usnul.a.velmi.rychle..1\"\n",
      "[1] 0.02393148\n",
      "[1] \"Celkově.jsem.se.tento.den.cítil.a.plný.á.energie.a.neunavný.á.\"\n",
      "[1] \"onset.latency\"\n",
      "[1] 0.005600044\n",
      "[1] \"Celkově.jsem.se.tento.den.cítil.a.plný.á.energie.a.neunavný.á.\"\n",
      "[1] \"Dnes.jsem.se.vyspal.a.opravdu.skvěle.\"\n",
      "[1] 1.015421e-05\n",
      "[1] \"Celkově.jsem.se.tento.den.cítil.a.plný.á.energie.a.neunavný.á.\"\n",
      "[1] \"Během.noci.jsem.se.vůbec.neprobouzel.a.\"\n",
      "[1] 0.01480966\n",
      "[1] \"Celkově.jsem.se.tento.den.cítil.a.plný.á.energie.a.neunavný.á.\"\n",
      "[1] \"Dnes.se.mi.vstávalo.opravdu.dobře.\"\n",
      "[1] 0.04363951\n",
      "[1] \"Celkově.jsem.se.tento.den.cítil.a.plný.á.energie.a.neunavný.á.\"\n",
      "[1] \"Po.probuzení.jsem.se.cítil.a.odpočatý.á.a.plný.á.energie.\"\n",
      "[1] 0.004880021\n",
      "[1] \"Přes.den.se.mi.dařilo.soustředit.se.na.mé.aktivity.u.náročné.na.pozornost.\"\n",
      "[1] \"onset.latency\"\n",
      "[1] 0.04392607\n",
      "[1] \"Přes.den.se.mi.dařilo.soustředit.se.na.mé.aktivity.u.náročné.na.pozornost.\"\n",
      "[1] \"Dnes.jsem.se.cítil.v.psychické.pohodě..1\"\n",
      "[1] 0.01876235\n",
      "[1] \"Dnes.jsem.se.cítil.v.psychické.pohodě.\"\n",
      "[1] \"onset.latency\"\n",
      "[1] 0.01842656\n",
      "[1] \"Dnes.jsem.se.cítil.v.psychické.pohodě.\"\n",
      "[1] \"Dnes.se.mi.vstávalo.opravdu.dobře.\"\n",
      "[1] 0.03234353\n",
      "[1] \"Dnes.jsem.se.cítil.v.psychické.pohodě.\"\n",
      "[1] \"Po.probuzení.jsem.se.cítil.a.odpočatý.á.a.plný.á.energie.\"\n",
      "[1] 0.04629171\n",
      "[1] \"Dnes.jsem.se.cítil.v.psychické.pohodě.\"\n",
      "[1] \"Dnes.jsem.se.vyspal.a.opravdu.skvěle..1\"\n",
      "[1] 0.01473875\n",
      "[1] \"Dnes.jsem.se.vyspal.a.opravdu.skvěle..1\"\n",
      "[1] \"Dnes.jsem.se.cítil.v.psychické.pohodě.\"\n",
      "[1] 0.01473875\n",
      "[1] \"Dnes.jsem.se.vyspal.a.opravdu.skvěle..1\"\n",
      "[1] \"Dnes.se.mi.vstávalo.opravdu.dobře..1\"\n",
      "[1] 0.0003670668\n",
      "[1] \"Dnes.jsem.se.vyspal.a.opravdu.skvěle..1\"\n",
      "[1] \"Po.probuzení.jsem.se.cítil.a.odpočatý.á.a.plný.á.energie..1\"\n",
      "[1] 0.01012324\n",
      "[1] \"Dnes.jsem.se.vyspal.a.opravdu.skvěle..1\"\n",
      "[1] \"Celkově.jsem.se.tento.den.cítil.a.plný.á.energie.a.neunavný.á..1\"\n",
      "[1] 0.008214505\n",
      "[1] \"Večer.jsem.usnul.a.velmi.rychle..1\"\n",
      "[1] \"Dnes.se.mi.vstávalo.opravdu.dobře.\"\n",
      "[1] 0.004061604\n",
      "[1] \"Večer.jsem.usnul.a.velmi.rychle..1\"\n",
      "[1] \"Po.probuzení.jsem.se.cítil.a.odpočatý.á.a.plný.á.energie.\"\n",
      "[1] 0.02393148\n",
      "[1] \"Večer.jsem.usnul.a.velmi.rychle..1\"\n",
      "[1] \"Dnes.se.mi.vstávalo.opravdu.dobře..1\"\n",
      "[1] 0.03933913\n",
      "[1] \"Večer.jsem.usnul.a.velmi.rychle..1\"\n",
      "[1] \"Přes.den.se.mi.dařilo.soustředit.se.na.mé.aktivity.u.náročné.na.pozornost..1\"\n",
      "[1] 0.004997031\n",
      "[1] \"Během.noci.jsem.se.vůbec.neprobouzel.a..1\"\n",
      "[1] \"Celkově.jsem.se.tento.den.cítil.a.plný.á.energie.a.neunavný.á..1\"\n",
      "[1] 0.009493461\n",
      "[1] \"Dnes.se.mi.vstávalo.opravdu.dobře..1\"\n",
      "[1] \"onset.latency.1\"\n",
      "[1] 0.01845095\n",
      "[1] \"Dnes.se.mi.vstávalo.opravdu.dobře..1\"\n",
      "[1] \"Dnes.jsem.se.vyspal.a.opravdu.skvěle..1\"\n",
      "[1] 0.0003670668\n",
      "[1] \"Dnes.se.mi.vstávalo.opravdu.dobře..1\"\n",
      "[1] \"Večer.jsem.usnul.a.velmi.rychle..1\"\n",
      "[1] 0.03933913\n",
      "[1] \"Dnes.se.mi.vstávalo.opravdu.dobře..1\"\n",
      "[1] \"Po.probuzení.jsem.se.cítil.a.odpočatý.á.a.plný.á.energie..1\"\n",
      "[1] 0.001475804\n",
      "[1] \"Dnes.se.mi.vstávalo.opravdu.dobře..1\"\n",
      "[1] \"Celkově.jsem.se.tento.den.cítil.a.plný.á.energie.a.neunavný.á..1\"\n",
      "[1] 0.0114329\n",
      "[1] \"Po.probuzení.jsem.se.cítil.a.odpočatý.á.a.plný.á.energie..1\"\n",
      "[1] \"Dnes.jsem.se.vyspal.a.opravdu.skvěle..1\"\n",
      "[1] 0.01012324\n",
      "[1] \"Po.probuzení.jsem.se.cítil.a.odpočatý.á.a.plný.á.energie..1\"\n",
      "[1] \"Dnes.se.mi.vstávalo.opravdu.dobře..1\"\n",
      "[1] 0.001475804\n",
      "[1] \"Po.probuzení.jsem.se.cítil.a.odpočatý.á.a.plný.á.energie..1\"\n",
      "[1] \"Dnes.jsem.se.cítil.v.psychické.pohodě..1\"\n",
      "[1] 0.03206367\n",
      "[1] \"Celkově.jsem.se.tento.den.cítil.a.plný.á.energie.a.neunavný.á..1\"\n",
      "[1] \"Dnes.jsem.se.vyspal.a.opravdu.skvěle..1\"\n",
      "[1] 0.008214505\n",
      "[1] \"Celkově.jsem.se.tento.den.cítil.a.plný.á.energie.a.neunavný.á..1\"\n",
      "[1] \"Během.noci.jsem.se.vůbec.neprobouzel.a..1\"\n",
      "[1] 0.009493461\n",
      "[1] \"Celkově.jsem.se.tento.den.cítil.a.plný.á.energie.a.neunavný.á..1\"\n",
      "[1] \"Dnes.se.mi.vstávalo.opravdu.dobře..1\"\n",
      "[1] 0.0114329\n",
      "[1] \"Celkově.jsem.se.tento.den.cítil.a.plný.á.energie.a.neunavný.á..1\"\n",
      "[1] \"Přes.den.se.mi.dařilo.soustředit.se.na.mé.aktivity.u.náročné.na.pozornost..1\"\n",
      "[1] 0.04318758\n",
      "[1] \"Přes.den.se.mi.dařilo.soustředit.se.na.mé.aktivity.u.náročné.na.pozornost..1\"\n",
      "[1] \"onset.latency.1\"\n",
      "[1] 0.03925684\n",
      "[1] \"Přes.den.se.mi.dařilo.soustředit.se.na.mé.aktivity.u.náročné.na.pozornost..1\"\n",
      "[1] \"Večer.jsem.usnul.a.velmi.rychle..1\"\n",
      "[1] 0.004997031\n",
      "[1] \"Přes.den.se.mi.dařilo.soustředit.se.na.mé.aktivity.u.náročné.na.pozornost..1\"\n",
      "[1] \"Celkově.jsem.se.tento.den.cítil.a.plný.á.energie.a.neunavný.á..1\"\n",
      "[1] 0.04318758\n",
      "[1] \"Dnes.jsem.se.cítil.v.psychické.pohodě..1\"\n",
      "[1] \"Pamatuji.si..co.se.mi.v.noci.zdálo.\"\n",
      "[1] 0.006565113\n",
      "[1] \"Dnes.jsem.se.cítil.v.psychické.pohodě..1\"\n",
      "[1] \"Přes.den.se.mi.dařilo.soustředit.se.na.mé.aktivity.u.náročné.na.pozornost.\"\n",
      "[1] 0.01876235\n",
      "[1] \"Dnes.jsem.se.cítil.v.psychické.pohodě..1\"\n",
      "[1] \"Po.probuzení.jsem.se.cítil.a.odpočatý.á.a.plný.á.energie..1\"\n",
      "[1] 0.03206367\n"
     ]
    }
   ],
   "source": [
    "x <- cbind(venek, vnitrek)\n",
    "y <- cbind(d_venek, d_vnitrek)\n",
    "x <- x[, c(4,5,6,7,11,12,13,14)]\n",
    "kormat1 <- cor(x, method = \"pearson\")\n",
    "#corrplot::corrplot(kormat1, method = \"ellipse\")\n",
    "#kormat1\n",
    "\n",
    "y <- y[, c(-2,-1)]\n",
    "y <- y[, c(-15,-16)]\n",
    "\n",
    "z <- cbind(x,y)\n",
    "z %>% dim()\n",
    "z <- z %>% select(-contains(\"help\"))\n",
    "z <- z %>% select(-contains(\"sny\"))\n",
    "z <- z %>% select(-contains(\"WASO\"))\n",
    "z <- z %>% select(-contains(\"fyzickou\"))\n",
    "z <- z %>% select(-contains(\"podnikat\"))\n",
    "z <- z %>% select(-contains(\"X.prob\"))\n",
    "\n",
    "df <- as.data.frame(venek)\n",
    "df <- df[FALSE, FALSE]\n",
    "\n",
    "hladina <- 0.05\n",
    "\n",
    "\n",
    "for (i in 1:ncol(z)){\n",
    "    for (j in 1:ncol(z)){\n",
    "        if(i != j){\n",
    "            model <- lm(z[,i] ~ z[,j])\n",
    "            shrnuti <- summary(model)\n",
    "            if(shrnuti$coefficients[2,4] < hladina){\n",
    "                print(colnames(z)[i])\n",
    "                print(colnames(z)[j])\n",
    "                print(shrnuti$coefficients[2,4])\n",
    "            }\n",
    "        }\n",
    "    }\n",
    "}"
   ]
  },
  {
   "cell_type": "code",
   "execution_count": 125,
   "id": "e51db740",
   "metadata": {},
   "outputs": [
    {
     "data": {
      "text/plain": [
       "\n",
       "Call:\n",
       "lm(formula = po ~ pred, data = soucty)\n",
       "\n",
       "Residuals:\n",
       "    Min      1Q  Median      3Q     Max \n",
       "-4.2462 -2.7547 -1.4854  0.5487  9.8051 \n",
       "\n",
       "Coefficients:\n",
       "            Estimate Std. Error t value Pr(>|t|)   \n",
       "(Intercept)  13.1097    10.1756   1.288  0.23363   \n",
       "pred          0.8291     0.1773   4.677  0.00159 **\n",
       "---\n",
       "Signif. codes:  0 '***' 0.001 '**' 0.01 '*' 0.05 '.' 0.1 ' ' 1\n",
       "\n",
       "Residual standard error: 4.642 on 8 degrees of freedom\n",
       "Multiple R-squared:  0.7322,\tAdjusted R-squared:  0.6987 \n",
       "F-statistic: 21.87 on 1 and 8 DF,  p-value: 0.001589\n"
      ]
     },
     "metadata": {},
     "output_type": "display_data"
    },
    {
     "data": {
      "image/png": "[encoded data removed]",
      "text/plain": [
       "Plot with title \"MAAS, před a po experimentu\""
      ]
     },
     "metadata": {},
     "output_type": "display_data"
    }
   ],
   "source": [
    "soucty <- data.frame(read_excel(\"soucty_pred_po.xlsx\")) #nacitam data\n",
    "\n",
    "model_soucty <- lm(po ~ pred, data = soucty)\n",
    "summary(model_soucty)\n",
    "plot(soucty, type = \"n\", xlab = \"před\", ylab = \"po\", xlim = c(45,80), ylim = c(45,80))\n",
    "abline(a = 0, b = 1, col = \"red\", lty = 2, lwd = 3)\n",
    "abline(a = model_soucty$coefficients[1], b = model_soucty$coefficients[2], lty = 4, lwd = 2, col = \"green\")\n",
    "points(soucty$pred, soucty$po, pch = 15)\n",
    "title(\"MAAS, před a po experimentu\")"
   ]
  },
  {
   "cell_type": "code",
   "execution_count": 117,
   "id": "0169db75",
   "metadata": {},
   "outputs": [
    {
     "data": {
      "text/html": [
       "<table>\n",
       "<thead><tr><th></th><th scope=col>onset.latency</th><th scope=col>efficiency</th><th scope=col>onset.latency.1</th><th scope=col>efficiency.1</th><th scope=col>Dnes.jsem.se.vyspal.a.opravdu.skvěle.</th><th scope=col>Večer.jsem.usnul.a.velmi.rychle.</th><th scope=col>Během.noci.jsem.se.vůbec.neprobouzel.a.</th><th scope=col>Pamatuji.si..co.se.mi.v.noci.zdálo.</th><th scope=col>Dnes.se.mi.vstávalo.opravdu.dobře.</th><th scope=col>Po.probuzení.jsem.se.cítil.a.odpočatý.á.a.plný.á.energie.</th><th scope=col>...</th><th scope=col>Dnes.jsem.se.cítil.v.psychické.pohodě.</th><th scope=col>Dnes.jsem.se.vyspal.a.opravdu.skvěle..1</th><th scope=col>Večer.jsem.usnul.a.velmi.rychle..1</th><th scope=col>Během.noci.jsem.se.vůbec.neprobouzel.a..1</th><th scope=col>Pamatuji.si..co.se.mi.v.noci.zdálo..1</th><th scope=col>Dnes.se.mi.vstávalo.opravdu.dobře..1</th><th scope=col>Po.probuzení.jsem.se.cítil.a.odpočatý.á.a.plný.á.energie..1</th><th scope=col>Celkově.jsem.se.tento.den.cítil.a.plný.á.energie.a.neunavný.á..1</th><th scope=col>Přes.den.se.mi.dařilo.soustředit.se.na.mé.aktivity.u.náročné.na.pozornost..1</th><th scope=col>Dnes.jsem.se.cítil.v.psychické.pohodě..1</th></tr></thead>\n",
       "<tbody>\n",
       "\t<tr><th scope=row>2</th><td> 4.25 </td><td>91.795</td><td> 5.00 </td><td>80.085</td><td> 4    </td><td> 5    </td><td>11    </td><td>10    </td><td> 3    </td><td> 4    </td><td>...   </td><td> 3    </td><td> 8    </td><td> 8    </td><td> 8    </td><td> 8    </td><td> 6    </td><td>7     </td><td>7     </td><td> 8    </td><td>6     </td></tr>\n",
       "\t<tr><th scope=row>4</th><td>15.25 </td><td>85.510</td><td>11.50 </td><td>84.985</td><td> 6    </td><td> 3    </td><td>10    </td><td>12    </td><td> 8    </td><td> 9    </td><td>...   </td><td>10    </td><td> 4    </td><td> 2    </td><td> 6    </td><td>13    </td><td> 5    </td><td>6     </td><td>4     </td><td> 4    </td><td>5     </td></tr>\n",
       "\t<tr><th scope=row>6</th><td> 3.75 </td><td>76.880</td><td>12.00 </td><td>76.135</td><td> 4    </td><td> 3    </td><td> 6    </td><td> 9    </td><td> 5    </td><td> 7    </td><td>...   </td><td> 7    </td><td> 4    </td><td> 6    </td><td> 8    </td><td> 9    </td><td> 5    </td><td>5     </td><td>5     </td><td> 6    </td><td>5     </td></tr>\n",
       "\t<tr><th scope=row>8</th><td>24.75 </td><td>78.250</td><td>15.50 </td><td>83.990</td><td>11    </td><td> 5    </td><td>13    </td><td>14    </td><td> 4    </td><td> 7    </td><td>...   </td><td> 6    </td><td> 7    </td><td> 6    </td><td>10    </td><td> 8    </td><td> 7    </td><td>6     </td><td>8     </td><td> 6    </td><td>4     </td></tr>\n",
       "\t<tr><th scope=row>10</th><td> 9.25 </td><td>79.355</td><td>40.00 </td><td>76.255</td><td> 5    </td><td> 6    </td><td> 7    </td><td> 9    </td><td> 3    </td><td> 5    </td><td>...   </td><td> 5    </td><td>10    </td><td>11    </td><td> 9    </td><td>11    </td><td>12    </td><td>9     </td><td>8     </td><td>10    </td><td>6     </td></tr>\n",
       "\t<tr><th scope=row>12</th><td>15.25 </td><td>71.190</td><td> 5.75 </td><td>76.450</td><td> 5    </td><td> 7    </td><td> 7    </td><td> 8    </td><td> 7    </td><td> 6    </td><td>...   </td><td> 6    </td><td> 7    </td><td> 2    </td><td> 4    </td><td>12    </td><td> 6    </td><td>5     </td><td>5     </td><td> 4    </td><td>6     </td></tr>\n",
       "\t<tr><th scope=row>14</th><td>11.00 </td><td>73.455</td><td> 3.75 </td><td>71.085</td><td>11    </td><td> 4    </td><td>12    </td><td>13    </td><td> 8    </td><td>10    </td><td>...   </td><td> 7    </td><td> 3    </td><td> 4    </td><td> 5    </td><td>11    </td><td> 4    </td><td>3     </td><td>5     </td><td> 4    </td><td>3     </td></tr>\n",
       "\t<tr><th scope=row>16</th><td> 4.25 </td><td>91.095</td><td>30.00 </td><td>81.880</td><td> 6    </td><td> 9    </td><td> 6    </td><td> 4    </td><td> 3    </td><td> 8    </td><td>...   </td><td> 4    </td><td> 7    </td><td> 6    </td><td> 5    </td><td> 5    </td><td> 7    </td><td>7     </td><td>5     </td><td> 5    </td><td>5     </td></tr>\n",
       "\t<tr><th scope=row>18</th><td> 2.50 </td><td>75.280</td><td> 3.75 </td><td>86.330</td><td> 7    </td><td> 7    </td><td> 9    </td><td>14    </td><td> 4    </td><td> 6    </td><td>...   </td><td> 2    </td><td> 8    </td><td> 7    </td><td> 8    </td><td>12    </td><td> 7    </td><td>5     </td><td>5     </td><td> 3    </td><td>2     </td></tr>\n",
       "\t<tr><th scope=row>20</th><td>13.25 </td><td>77.140</td><td> 4.75 </td><td>85.340</td><td>14    </td><td>13    </td><td>13    </td><td> 6    </td><td>12    </td><td>13    </td><td>...   </td><td> 7    </td><td> 8    </td><td> 3    </td><td> 9    </td><td> 7    </td><td> 8    </td><td>8     </td><td>7     </td><td> 4    </td><td>7     </td></tr>\n",
       "\t<tr><th scope=row>22</th><td>24.75 </td><td>72.850</td><td> 2.75 </td><td>73.790</td><td> 9    </td><td> 7    </td><td> 9    </td><td>14    </td><td> 6    </td><td> 8    </td><td>...   </td><td> 9    </td><td> 4    </td><td> 7    </td><td> 7    </td><td> 7    </td><td> 5    </td><td>6     </td><td>4     </td><td> 6    </td><td>3     </td></tr>\n",
       "\t<tr><th scope=row>24</th><td> 4.00 </td><td>88.490</td><td> 4.75 </td><td>80.895</td><td> 4    </td><td> 6    </td><td> 8    </td><td>12    </td><td> 4    </td><td> 4    </td><td>...   </td><td> 4    </td><td> 7    </td><td> 8    </td><td> 8    </td><td>14    </td><td> 8    </td><td>8     </td><td>6     </td><td> 5    </td><td>5     </td></tr>\n",
       "</tbody>\n",
       "</table>\n"
      ],
      "text/latex": [
       "\\begin{tabular}{r|llllllllllllllllllllll}\n",
       "  & onset.latency & efficiency & onset.latency.1 & efficiency.1 & Dnes.jsem.se.vyspal.a.opravdu.skvěle. & Večer.jsem.usnul.a.velmi.rychle. & Během.noci.jsem.se.vůbec.neprobouzel.a. & Pamatuji.si..co.se.mi.v.noci.zdálo. & Dnes.se.mi.vstávalo.opravdu.dobře. & Po.probuzení.jsem.se.cítil.a.odpočatý.á.a.plný.á.energie. & ... & Dnes.jsem.se.cítil.v.psychické.pohodě. & Dnes.jsem.se.vyspal.a.opravdu.skvěle..1 & Večer.jsem.usnul.a.velmi.rychle..1 & Během.noci.jsem.se.vůbec.neprobouzel.a..1 & Pamatuji.si..co.se.mi.v.noci.zdálo..1 & Dnes.se.mi.vstávalo.opravdu.dobře..1 & Po.probuzení.jsem.se.cítil.a.odpočatý.á.a.plný.á.energie..1 & Celkově.jsem.se.tento.den.cítil.a.plný.á.energie.a.neunavný.á..1 & Přes.den.se.mi.dařilo.soustředit.se.na.mé.aktivity.u.náročné.na.pozornost..1 & Dnes.jsem.se.cítil.v.psychické.pohodě..1\\\\\n",
       "\\hline\n",
       "\t2 &  4.25  & 91.795 &  5.00  & 80.085 &  4     &  5     & 11     & 10     &  3     &  4     & ...    &  3     &  8     &  8     &  8     &  8     &  6     & 7      & 7      &  8     & 6     \\\\\n",
       "\t4 & 15.25  & 85.510 & 11.50  & 84.985 &  6     &  3     & 10     & 12     &  8     &  9     & ...    & 10     &  4     &  2     &  6     & 13     &  5     & 6      & 4      &  4     & 5     \\\\\n",
       "\t6 &  3.75  & 76.880 & 12.00  & 76.135 &  4     &  3     &  6     &  9     &  5     &  7     & ...    &  7     &  4     &  6     &  8     &  9     &  5     & 5      & 5      &  6     & 5     \\\\\n",
       "\t8 & 24.75  & 78.250 & 15.50  & 83.990 & 11     &  5     & 13     & 14     &  4     &  7     & ...    &  6     &  7     &  6     & 10     &  8     &  7     & 6      & 8      &  6     & 4     \\\\\n",
       "\t10 &  9.25  & 79.355 & 40.00  & 76.255 &  5     &  6     &  7     &  9     &  3     &  5     & ...    &  5     & 10     & 11     &  9     & 11     & 12     & 9      & 8      & 10     & 6     \\\\\n",
       "\t12 & 15.25  & 71.190 &  5.75  & 76.450 &  5     &  7     &  7     &  8     &  7     &  6     & ...    &  6     &  7     &  2     &  4     & 12     &  6     & 5      & 5      &  4     & 6     \\\\\n",
       "\t14 & 11.00  & 73.455 &  3.75  & 71.085 & 11     &  4     & 12     & 13     &  8     & 10     & ...    &  7     &  3     &  4     &  5     & 11     &  4     & 3      & 5      &  4     & 3     \\\\\n",
       "\t16 &  4.25  & 91.095 & 30.00  & 81.880 &  6     &  9     &  6     &  4     &  3     &  8     & ...    &  4     &  7     &  6     &  5     &  5     &  7     & 7      & 5      &  5     & 5     \\\\\n",
       "\t18 &  2.50  & 75.280 &  3.75  & 86.330 &  7     &  7     &  9     & 14     &  4     &  6     & ...    &  2     &  8     &  7     &  8     & 12     &  7     & 5      & 5      &  3     & 2     \\\\\n",
       "\t20 & 13.25  & 77.140 &  4.75  & 85.340 & 14     & 13     & 13     &  6     & 12     & 13     & ...    &  7     &  8     &  3     &  9     &  7     &  8     & 8      & 7      &  4     & 7     \\\\\n",
       "\t22 & 24.75  & 72.850 &  2.75  & 73.790 &  9     &  7     &  9     & 14     &  6     &  8     & ...    &  9     &  4     &  7     &  7     &  7     &  5     & 6      & 4      &  6     & 3     \\\\\n",
       "\t24 &  4.00  & 88.490 &  4.75  & 80.895 &  4     &  6     &  8     & 12     &  4     &  4     & ...    &  4     &  7     &  8     &  8     & 14     &  8     & 8      & 6      &  5     & 5     \\\\\n",
       "\\end{tabular}\n"
      ],
      "text/markdown": [
       "\n",
       "| <!--/--> | onset.latency | efficiency | onset.latency.1 | efficiency.1 | Dnes.jsem.se.vyspal.a.opravdu.skvěle. | Večer.jsem.usnul.a.velmi.rychle. | Během.noci.jsem.se.vůbec.neprobouzel.a. | Pamatuji.si..co.se.mi.v.noci.zdálo. | Dnes.se.mi.vstávalo.opravdu.dobře. | Po.probuzení.jsem.se.cítil.a.odpočatý.á.a.plný.á.energie. | ... | Dnes.jsem.se.cítil.v.psychické.pohodě. | Dnes.jsem.se.vyspal.a.opravdu.skvěle..1 | Večer.jsem.usnul.a.velmi.rychle..1 | Během.noci.jsem.se.vůbec.neprobouzel.a..1 | Pamatuji.si..co.se.mi.v.noci.zdálo..1 | Dnes.se.mi.vstávalo.opravdu.dobře..1 | Po.probuzení.jsem.se.cítil.a.odpočatý.á.a.plný.á.energie..1 | Celkově.jsem.se.tento.den.cítil.a.plný.á.energie.a.neunavný.á..1 | Přes.den.se.mi.dařilo.soustředit.se.na.mé.aktivity.u.náročné.na.pozornost..1 | Dnes.jsem.se.cítil.v.psychické.pohodě..1 |\n",
       "|---|---|---|---|---|---|---|---|---|---|---|---|---|---|---|---|---|---|---|---|---|---|\n",
       "| 2 |  4.25  | 91.795 |  5.00  | 80.085 |  4     |  5     | 11     | 10     |  3     |  4     | ...    |  3     |  8     |  8     |  8     |  8     |  6     | 7      | 7      |  8     | 6      |\n",
       "| 4 | 15.25  | 85.510 | 11.50  | 84.985 |  6     |  3     | 10     | 12     |  8     |  9     | ...    | 10     |  4     |  2     |  6     | 13     |  5     | 6      | 4      |  4     | 5      |\n",
       "| 6 |  3.75  | 76.880 | 12.00  | 76.135 |  4     |  3     |  6     |  9     |  5     |  7     | ...    |  7     |  4     |  6     |  8     |  9     |  5     | 5      | 5      |  6     | 5      |\n",
       "| 8 | 24.75  | 78.250 | 15.50  | 83.990 | 11     |  5     | 13     | 14     |  4     |  7     | ...    |  6     |  7     |  6     | 10     |  8     |  7     | 6      | 8      |  6     | 4      |\n",
       "| 10 |  9.25  | 79.355 | 40.00  | 76.255 |  5     |  6     |  7     |  9     |  3     |  5     | ...    |  5     | 10     | 11     |  9     | 11     | 12     | 9      | 8      | 10     | 6      |\n",
       "| 12 | 15.25  | 71.190 |  5.75  | 76.450 |  5     |  7     |  7     |  8     |  7     |  6     | ...    |  6     |  7     |  2     |  4     | 12     |  6     | 5      | 5      |  4     | 6      |\n",
       "| 14 | 11.00  | 73.455 |  3.75  | 71.085 | 11     |  4     | 12     | 13     |  8     | 10     | ...    |  7     |  3     |  4     |  5     | 11     |  4     | 3      | 5      |  4     | 3      |\n",
       "| 16 |  4.25  | 91.095 | 30.00  | 81.880 |  6     |  9     |  6     |  4     |  3     |  8     | ...    |  4     |  7     |  6     |  5     |  5     |  7     | 7      | 5      |  5     | 5      |\n",
       "| 18 |  2.50  | 75.280 |  3.75  | 86.330 |  7     |  7     |  9     | 14     |  4     |  6     | ...    |  2     |  8     |  7     |  8     | 12     |  7     | 5      | 5      |  3     | 2      |\n",
       "| 20 | 13.25  | 77.140 |  4.75  | 85.340 | 14     | 13     | 13     |  6     | 12     | 13     | ...    |  7     |  8     |  3     |  9     |  7     |  8     | 8      | 7      |  4     | 7      |\n",
       "| 22 | 24.75  | 72.850 |  2.75  | 73.790 |  9     |  7     |  9     | 14     |  6     |  8     | ...    |  9     |  4     |  7     |  7     |  7     |  5     | 6      | 4      |  6     | 3      |\n",
       "| 24 |  4.00  | 88.490 |  4.75  | 80.895 |  4     |  6     |  8     | 12     |  4     |  4     | ...    |  4     |  7     |  8     |  8     | 14     |  8     | 8      | 6      |  5     | 5      |\n",
       "\n"
      ],
      "text/plain": [
       "   onset.latency efficiency onset.latency.1 efficiency.1\n",
       "2   4.25         91.795      5.00           80.085      \n",
       "4  15.25         85.510     11.50           84.985      \n",
       "6   3.75         76.880     12.00           76.135      \n",
       "8  24.75         78.250     15.50           83.990      \n",
       "10  9.25         79.355     40.00           76.255      \n",
       "12 15.25         71.190      5.75           76.450      \n",
       "14 11.00         73.455      3.75           71.085      \n",
       "16  4.25         91.095     30.00           81.880      \n",
       "18  2.50         75.280      3.75           86.330      \n",
       "20 13.25         77.140      4.75           85.340      \n",
       "22 24.75         72.850      2.75           73.790      \n",
       "24  4.00         88.490      4.75           80.895      \n",
       "   Dnes.jsem.se.vyspal.a.opravdu.skvěle. Večer.jsem.usnul.a.velmi.rychle.\n",
       "2   4                                     5                              \n",
       "4   6                                     3                              \n",
       "6   4                                     3                              \n",
       "8  11                                     5                              \n",
       "10  5                                     6                              \n",
       "12  5                                     7                              \n",
       "14 11                                     4                              \n",
       "16  6                                     9                              \n",
       "18  7                                     7                              \n",
       "20 14                                    13                              \n",
       "22  9                                     7                              \n",
       "24  4                                     6                              \n",
       "   Během.noci.jsem.se.vůbec.neprobouzel.a. Pamatuji.si..co.se.mi.v.noci.zdálo.\n",
       "2  11                                      10                                 \n",
       "4  10                                      12                                 \n",
       "6   6                                       9                                 \n",
       "8  13                                      14                                 \n",
       "10  7                                       9                                 \n",
       "12  7                                       8                                 \n",
       "14 12                                      13                                 \n",
       "16  6                                       4                                 \n",
       "18  9                                      14                                 \n",
       "20 13                                       6                                 \n",
       "22  9                                      14                                 \n",
       "24  8                                      12                                 \n",
       "   Dnes.se.mi.vstávalo.opravdu.dobře.\n",
       "2   3                                \n",
       "4   8                                \n",
       "6   5                                \n",
       "8   4                                \n",
       "10  3                                \n",
       "12  7                                \n",
       "14  8                                \n",
       "16  3                                \n",
       "18  4                                \n",
       "20 12                                \n",
       "22  6                                \n",
       "24  4                                \n",
       "   Po.probuzení.jsem.se.cítil.a.odpočatý.á.a.plný.á.energie. ...\n",
       "2   4                                                        ...\n",
       "4   9                                                        ...\n",
       "6   7                                                        ...\n",
       "8   7                                                        ...\n",
       "10  5                                                        ...\n",
       "12  6                                                        ...\n",
       "14 10                                                        ...\n",
       "16  8                                                        ...\n",
       "18  6                                                        ...\n",
       "20 13                                                        ...\n",
       "22  8                                                        ...\n",
       "24  4                                                        ...\n",
       "   Dnes.jsem.se.cítil.v.psychické.pohodě.\n",
       "2   3                                    \n",
       "4  10                                    \n",
       "6   7                                    \n",
       "8   6                                    \n",
       "10  5                                    \n",
       "12  6                                    \n",
       "14  7                                    \n",
       "16  4                                    \n",
       "18  2                                    \n",
       "20  7                                    \n",
       "22  9                                    \n",
       "24  4                                    \n",
       "   Dnes.jsem.se.vyspal.a.opravdu.skvěle..1 Večer.jsem.usnul.a.velmi.rychle..1\n",
       "2   8                                       8                                \n",
       "4   4                                       2                                \n",
       "6   4                                       6                                \n",
       "8   7                                       6                                \n",
       "10 10                                      11                                \n",
       "12  7                                       2                                \n",
       "14  3                                       4                                \n",
       "16  7                                       6                                \n",
       "18  8                                       7                                \n",
       "20  8                                       3                                \n",
       "22  4                                       7                                \n",
       "24  7                                       8                                \n",
       "   Během.noci.jsem.se.vůbec.neprobouzel.a..1\n",
       "2   8                                       \n",
       "4   6                                       \n",
       "6   8                                       \n",
       "8  10                                       \n",
       "10  9                                       \n",
       "12  4                                       \n",
       "14  5                                       \n",
       "16  5                                       \n",
       "18  8                                       \n",
       "20  9                                       \n",
       "22  7                                       \n",
       "24  8                                       \n",
       "   Pamatuji.si..co.se.mi.v.noci.zdálo..1 Dnes.se.mi.vstávalo.opravdu.dobře..1\n",
       "2   8                                     6                                  \n",
       "4  13                                     5                                  \n",
       "6   9                                     5                                  \n",
       "8   8                                     7                                  \n",
       "10 11                                    12                                  \n",
       "12 12                                     6                                  \n",
       "14 11                                     4                                  \n",
       "16  5                                     7                                  \n",
       "18 12                                     7                                  \n",
       "20  7                                     8                                  \n",
       "22  7                                     5                                  \n",
       "24 14                                     8                                  \n",
       "   Po.probuzení.jsem.se.cítil.a.odpočatý.á.a.plný.á.energie..1\n",
       "2  7                                                          \n",
       "4  6                                                          \n",
       "6  5                                                          \n",
       "8  6                                                          \n",
       "10 9                                                          \n",
       "12 5                                                          \n",
       "14 3                                                          \n",
       "16 7                                                          \n",
       "18 5                                                          \n",
       "20 8                                                          \n",
       "22 6                                                          \n",
       "24 8                                                          \n",
       "   Celkově.jsem.se.tento.den.cítil.a.plný.á.energie.a.neunavný.á..1\n",
       "2  7                                                               \n",
       "4  4                                                               \n",
       "6  5                                                               \n",
       "8  8                                                               \n",
       "10 8                                                               \n",
       "12 5                                                               \n",
       "14 5                                                               \n",
       "16 5                                                               \n",
       "18 5                                                               \n",
       "20 7                                                               \n",
       "22 4                                                               \n",
       "24 6                                                               \n",
       "   Přes.den.se.mi.dařilo.soustředit.se.na.mé.aktivity.u.náročné.na.pozornost..1\n",
       "2   8                                                                          \n",
       "4   4                                                                          \n",
       "6   6                                                                          \n",
       "8   6                                                                          \n",
       "10 10                                                                          \n",
       "12  4                                                                          \n",
       "14  4                                                                          \n",
       "16  5                                                                          \n",
       "18  3                                                                          \n",
       "20  4                                                                          \n",
       "22  6                                                                          \n",
       "24  5                                                                          \n",
       "   Dnes.jsem.se.cítil.v.psychické.pohodě..1\n",
       "2  6                                       \n",
       "4  5                                       \n",
       "6  5                                       \n",
       "8  4                                       \n",
       "10 6                                       \n",
       "12 6                                       \n",
       "14 3                                       \n",
       "16 5                                       \n",
       "18 2                                       \n",
       "20 7                                       \n",
       "22 3                                       \n",
       "24 5                                       "
      ]
     },
     "metadata": {},
     "output_type": "display_data"
    }
   ],
   "source": [
    "z"
   ]
  },
  {
   "cell_type": "code",
   "execution_count": 84,
   "id": "a48798b3",
   "metadata": {},
   "outputs": [
    {
     "data": {
      "text/html": [
       "<ol class=list-inline>\n",
       "\t<li>'coefficients'</li>\n",
       "\t<li>'residuals'</li>\n",
       "\t<li>'effects'</li>\n",
       "\t<li>'rank'</li>\n",
       "\t<li>'fitted.values'</li>\n",
       "\t<li>'assign'</li>\n",
       "\t<li>'qr'</li>\n",
       "\t<li>'df.residual'</li>\n",
       "\t<li>'xlevels'</li>\n",
       "\t<li>'call'</li>\n",
       "\t<li>'terms'</li>\n",
       "\t<li>'model'</li>\n",
       "</ol>\n"
      ],
      "text/latex": [
       "\\begin{enumerate*}\n",
       "\\item 'coefficients'\n",
       "\\item 'residuals'\n",
       "\\item 'effects'\n",
       "\\item 'rank'\n",
       "\\item 'fitted.values'\n",
       "\\item 'assign'\n",
       "\\item 'qr'\n",
       "\\item 'df.residual'\n",
       "\\item 'xlevels'\n",
       "\\item 'call'\n",
       "\\item 'terms'\n",
       "\\item 'model'\n",
       "\\end{enumerate*}\n"
      ],
      "text/markdown": [
       "1. 'coefficients'\n",
       "2. 'residuals'\n",
       "3. 'effects'\n",
       "4. 'rank'\n",
       "5. 'fitted.values'\n",
       "6. 'assign'\n",
       "7. 'qr'\n",
       "8. 'df.residual'\n",
       "9. 'xlevels'\n",
       "10. 'call'\n",
       "11. 'terms'\n",
       "12. 'model'\n",
       "\n",
       "\n"
      ],
      "text/plain": [
       " [1] \"coefficients\"  \"residuals\"     \"effects\"       \"rank\"         \n",
       " [5] \"fitted.values\" \"assign\"        \"qr\"            \"df.residual\"  \n",
       " [9] \"xlevels\"       \"call\"          \"terms\"         \"model\"        "
      ]
     },
     "metadata": {},
     "output_type": "display_data"
    },
    {
     "name": "stderr",
     "output_type": "stream",
     "text": [
      "Warning message in summary.lm(modelek):\n",
      "\"essentially perfect fit: summary may be unreliable\""
     ]
    },
    {
     "data": {
      "text/html": [
       "<ol class=list-inline>\n",
       "\t<li>'call'</li>\n",
       "\t<li>'terms'</li>\n",
       "\t<li>'residuals'</li>\n",
       "\t<li>'coefficients'</li>\n",
       "\t<li>'aliased'</li>\n",
       "\t<li>'sigma'</li>\n",
       "\t<li>'df'</li>\n",
       "\t<li>'r.squared'</li>\n",
       "\t<li>'adj.r.squared'</li>\n",
       "\t<li>'fstatistic'</li>\n",
       "\t<li>'cov.unscaled'</li>\n",
       "</ol>\n"
      ],
      "text/latex": [
       "\\begin{enumerate*}\n",
       "\\item 'call'\n",
       "\\item 'terms'\n",
       "\\item 'residuals'\n",
       "\\item 'coefficients'\n",
       "\\item 'aliased'\n",
       "\\item 'sigma'\n",
       "\\item 'df'\n",
       "\\item 'r.squared'\n",
       "\\item 'adj.r.squared'\n",
       "\\item 'fstatistic'\n",
       "\\item 'cov.unscaled'\n",
       "\\end{enumerate*}\n"
      ],
      "text/markdown": [
       "1. 'call'\n",
       "2. 'terms'\n",
       "3. 'residuals'\n",
       "4. 'coefficients'\n",
       "5. 'aliased'\n",
       "6. 'sigma'\n",
       "7. 'df'\n",
       "8. 'r.squared'\n",
       "9. 'adj.r.squared'\n",
       "10. 'fstatistic'\n",
       "11. 'cov.unscaled'\n",
       "\n",
       "\n"
      ],
      "text/plain": [
       " [1] \"call\"          \"terms\"         \"residuals\"     \"coefficients\" \n",
       " [5] \"aliased\"       \"sigma\"         \"df\"            \"r.squared\"    \n",
       " [9] \"adj.r.squared\" \"fstatistic\"    \"cov.unscaled\" "
      ]
     },
     "metadata": {},
     "output_type": "display_data"
    },
    {
     "name": "stderr",
     "output_type": "stream",
     "text": [
      "Warning message in summary.lm(modelek):\n",
      "\"essentially perfect fit: summary may be unreliable\""
     ]
    },
    {
     "data": {
      "text/html": [
       "<dl class=dl-horizontal>\n",
       "\t<dt>Estimate</dt>\n",
       "\t\t<dd>1</dd>\n",
       "\t<dt>Std. Error</dt>\n",
       "\t\t<dd>7.03827057096971e-17</dd>\n",
       "\t<dt>t value</dt>\n",
       "\t\t<dd>14208035765556298</dd>\n",
       "\t<dt>Pr(&gt;|t|)</dt>\n",
       "\t\t<dd>6.7444367981467e-127</dd>\n",
       "</dl>\n"
      ],
      "text/latex": [
       "\\begin{description*}\n",
       "\\item[Estimate] 1\n",
       "\\item[Std. Error] 7.03827057096971e-17\n",
       "\\item[t value] 14208035765556298\n",
       "\\item[Pr(>\\textbackslash{}textbar\\{\\}t\\textbackslash{}textbar\\{\\})] 6.7444367981467e-127\n",
       "\\end{description*}\n"
      ],
      "text/markdown": [
       "Estimate\n",
       ":   1Std. Error\n",
       ":   7.03827057096971e-17t value\n",
       ":   14208035765556298Pr(&amp;gt;|t|)\n",
       ":   6.7444367981467e-127\n",
       "\n"
      ],
      "text/plain": [
       "     Estimate    Std. Error       t value      Pr(>|t|) \n",
       " 1.000000e+00  7.038271e-17  1.420804e+16 6.744437e-127 "
      ]
     },
     "metadata": {},
     "output_type": "display_data"
    }
   ],
   "source": [
    "x <- c(1:10)\n",
    "y <- c(1:10)\n",
    "modelek <- lm(y ~ x)\n",
    "names(modelek)\n",
    "names(summary(modelek))\n",
    "summary(modelek)$coefficients[2,]"
   ]
  },
  {
   "cell_type": "code",
   "execution_count": 15,
   "id": "853665e9",
   "metadata": {},
   "outputs": [
    {
     "data": {
      "image/png": "[encoded data removed]",
      "text/plain": [
       "Plot with title \"Vztah mezi změřenou a reportovanou\n",
       " kvalitou spánku (Vevnitř)\""
      ]
     },
     "metadata": {},
     "output_type": "display_data"
    },
    {
     "data": {
      "text/plain": [
       "\n",
       "Call:\n",
       "lm(formula = d_vnitrek[, 3] ~ vnitrek$efficiency)\n",
       "\n",
       "Residuals:\n",
       "    Min      1Q  Median      3Q     Max \n",
       "-3.3700 -1.4313  0.2874  0.7213  4.2254 \n",
       "\n",
       "Coefficients:\n",
       "                   Estimate Std. Error t value Pr(>|t|)\n",
       "(Intercept)         -8.1609     9.8955  -0.825    0.429\n",
       "vnitrek$efficiency   0.1827     0.1238   1.476    0.171\n",
       "\n",
       "Residual standard error: 2.045 on 10 degrees of freedom\n",
       "Multiple R-squared:  0.1788,\tAdjusted R-squared:  0.09673 \n",
       "F-statistic: 2.178 on 1 and 10 DF,  p-value: 0.1708\n"
      ]
     },
     "metadata": {},
     "output_type": "display_data"
    },
    {
     "data": {
      "text/plain": [
       "\n",
       "Call:\n",
       "lm(formula = d_venek[, 3] ~ venek$efficiency)\n",
       "\n",
       "Residuals:\n",
       "    Min      1Q  Median      3Q     Max \n",
       "-3.9648 -1.6869 -0.4436  1.4096  6.2350 \n",
       "\n",
       "Coefficients:\n",
       "                 Estimate Std. Error t value Pr(>|t|)  \n",
       "(Intercept)       23.3196    10.4591    2.23   0.0499 *\n",
       "venek$efficiency  -0.2016     0.1301   -1.55   0.1521  \n",
       "---\n",
       "Signif. codes:  0 '***' 0.001 '**' 0.01 '*' 0.05 '.' 0.1 ' ' 1\n",
       "\n",
       "Residual standard error: 3.132 on 10 degrees of freedom\n",
       "Multiple R-squared:  0.1937,\tAdjusted R-squared:  0.1131 \n",
       "F-statistic: 2.403 on 1 and 10 DF,  p-value: 0.1521\n"
      ]
     },
     "metadata": {},
     "output_type": "display_data"
    },
    {
     "data": {
      "image/png": "[encoded data removed]",
      "text/plain": [
       "Plot with title \"Vztah mezi změřenou a reportovanou\n",
       " kvalitou spánku (Venku)\""
      ]
     },
     "metadata": {},
     "output_type": "display_data"
    }
   ],
   "source": [
    "options(repr.plot.width=5, repr.plot.height=5)  \n",
    "\n",
    "plot(vnitrek$efficiency, d_vnitrek[,3], main = \"Vztah mezi změřenou a reportovanou\\n kvalitou spánku (Vevnitř)\", xlab = \"Efektivita spaní vevnitř\", ylab = \"Kvalita spaní vevnitř dle dotazníku\",\n",
    "     ylim = c(14,2), xlim = c(70,95))\n",
    "model1 <- lm(d_vnitrek[,3] ~ vnitrek$efficiency)\n",
    "abline(a=model1$coefficients[1], b=model1$coefficients[2])\n",
    "\n",
    "plot(venek$efficiency, d_venek[,3], main = \"Vztah mezi změřenou a reportovanou\\n kvalitou spánku (Venku)\", xlab = \"Efektivita spaní venku\", ylab = \"Kvalita spaní venku dle dotazníku\",\n",
    "     ylim = c(14,2), xlim = c(70,95))\n",
    "model2 <- lm(d_venek[,3] ~ venek$efficiency)\n",
    "abline(a=model2$coefficients[1], b=model2$coefficients[2])\n",
    "\n",
    "summary(model1)\n",
    "summary(model2)"
   ]
  },
  {
   "cell_type": "code",
   "execution_count": 16,
   "id": "3e24e3bb",
   "metadata": {},
   "outputs": [
    {
     "data": {
      "text/plain": [
       "\n",
       "Call:\n",
       "lm(formula = d_vnitrek[, 5] ~ vnitrek[, 7])\n",
       "\n",
       "Residuals:\n",
       "    Min      1Q  Median      3Q     Max \n",
       "-2.9989 -1.4942  0.4635  1.2264  2.5625 \n",
       "\n",
       "Coefficients:\n",
       "             Estimate Std. Error t value Pr(>|t|)   \n",
       "(Intercept)   8.41371    1.96006   4.293  0.00158 **\n",
       "vnitrek[, 7] -0.02830    0.04572  -0.619  0.54979   \n",
       "---\n",
       "Signif. codes:  0 '***' 0.001 '**' 0.01 '*' 0.05 '.' 0.1 ' ' 1\n",
       "\n",
       "Residual standard error: 1.919 on 10 degrees of freedom\n",
       "Multiple R-squared:  0.0369,\tAdjusted R-squared:  -0.05941 \n",
       "F-statistic: 0.3831 on 1 and 10 DF,  p-value: 0.5498\n"
      ]
     },
     "metadata": {},
     "output_type": "display_data"
    },
    {
     "data": {
      "text/plain": [
       "\n",
       "Call:\n",
       "lm(formula = d_venek[, 5] ~ venek[, 7])\n",
       "\n",
       "Residuals:\n",
       "    Min      1Q  Median      3Q     Max \n",
       "-3.3193 -1.9039 -0.2361  1.9808  3.5559 \n",
       "\n",
       "Coefficients:\n",
       "            Estimate Std. Error t value Pr(>|t|)  \n",
       "(Intercept)  6.65766    2.18980   3.040   0.0125 *\n",
       "venek[, 7]   0.08318    0.06634   1.254   0.2384  \n",
       "---\n",
       "Signif. codes:  0 '***' 0.001 '**' 0.01 '*' 0.05 '.' 0.1 ' ' 1\n",
       "\n",
       "Residual standard error: 2.499 on 10 degrees of freedom\n",
       "Multiple R-squared:  0.1358,\tAdjusted R-squared:  0.04943 \n",
       "F-statistic: 1.572 on 1 and 10 DF,  p-value: 0.2384\n"
      ]
     },
     "metadata": {},
     "output_type": "display_data"
    },
    {
     "data": {
      "text/html": [
       "27.5"
      ],
      "text/latex": [
       "27.5"
      ],
      "text/markdown": [
       "27.5"
      ],
      "text/plain": [
       "[1] 27.5"
      ]
     },
     "metadata": {},
     "output_type": "display_data"
    },
    {
     "data": {
      "text/html": [
       "69.5"
      ],
      "text/latex": [
       "69.5"
      ],
      "text/markdown": [
       "69.5"
      ],
      "text/plain": [
       "[1] 69.5"
      ]
     },
     "metadata": {},
     "output_type": "display_data"
    },
    {
     "data": {
      "text/html": [
       "58"
      ],
      "text/latex": [
       "58"
      ],
      "text/markdown": [
       "58"
      ],
      "text/plain": [
       "[1] 58"
      ]
     },
     "metadata": {},
     "output_type": "display_data"
    },
    {
     "data": {
      "text/html": [
       "16"
      ],
      "text/latex": [
       "16"
      ],
      "text/markdown": [
       "16"
      ],
      "text/plain": [
       "[1] 16"
      ]
     },
     "metadata": {},
     "output_type": "display_data"
    },
    {
     "data": {
      "image/png": "[encoded data removed]",
      "text/plain": [
       "plot without title"
      ]
     },
     "metadata": {},
     "output_type": "display_data"
    }
   ],
   "source": [
    "options(repr.plot.width=10, repr.plot.height=5)  \n",
    "par(mfrow = c(1,2))\n",
    "\n",
    "plot(vnitrek[,7], d_vnitrek[,5], ylim = c(14,2), xlim = c(10,80))\n",
    "model1 <- lm(d_vnitrek[,5] ~ vnitrek[,7])\n",
    "abline(a=model1$coefficients[1], b=model1$coefficients[2])\n",
    "\n",
    "plot(venek[,7], d_venek[,5], ylim = c(14,2), xlim = c(10,80))\n",
    "model2 <- lm(d_venek[,5] ~ venek[,7])\n",
    "abline(a=model2$coefficients[1], b=model2$coefficients[2])\n",
    "\n",
    "summary(model1)\n",
    "summary(model2)\n",
    "\n",
    "min(vnitrek[,7])\n",
    "max(vnitrek[,7])\n",
    "max(venek[,7])\n",
    "min(venek[,7])"
   ]
  },
  {
   "cell_type": "code",
   "execution_count": 18,
   "id": "96869d08",
   "metadata": {},
   "outputs": [
    {
     "data": {
      "text/plain": [
       "\n",
       "Call:\n",
       "lm(formula = d_venek[, 8] ~ d_vnitrek[, 8])\n",
       "\n",
       "Residuals:\n",
       "    Min      1Q  Median      3Q     Max \n",
       "-2.8390 -1.4555 -0.8048  1.2192  6.9281 \n",
       "\n",
       "Coefficients:\n",
       "               Estimate Std. Error t value Pr(>|t|)  \n",
       "(Intercept)      8.1404     2.7477   2.963   0.0142 *\n",
       "d_vnitrek[, 8]  -0.3836     0.3945  -0.972   0.3539  \n",
       "---\n",
       "Signif. codes:  0 '***' 0.001 '**' 0.01 '*' 0.05 '.' 0.1 ' ' 1\n",
       "\n",
       "Residual standard error: 2.752 on 10 degrees of freedom\n",
       "Multiple R-squared:  0.08635,\tAdjusted R-squared:  -0.005015 \n",
       "F-statistic: 0.9451 on 1 and 10 DF,  p-value: 0.3539\n"
      ]
     },
     "metadata": {},
     "output_type": "display_data"
    },
    {
     "data": {
      "text/plain": [
       "\n",
       "Call:\n",
       "lm(formula = y ~ x, data = help_data)\n",
       "\n",
       "Residuals:\n",
       "     Min       1Q   Median       3Q      Max \n",
       "-2.20000 -0.87857 -0.05714  0.94286  1.80000 \n",
       "\n",
       "Coefficients:\n",
       "            Estimate Std. Error t value Pr(>|t|)    \n",
       "(Intercept)  12.0571     2.2614   5.332 0.000701 ***\n",
       "x            -1.1429     0.3698  -3.091 0.014874 *  \n",
       "---\n",
       "Signif. codes:  0 '***' 0.001 '**' 0.01 '*' 0.05 '.' 0.1 ' ' 1\n",
       "\n",
       "Residual standard error: 1.384 on 8 degrees of freedom\n",
       "Multiple R-squared:  0.5442,\tAdjusted R-squared:  0.4872 \n",
       "F-statistic: 9.552 on 1 and 8 DF,  p-value: 0.01487\n"
      ]
     },
     "metadata": {},
     "output_type": "display_data"
    },
    {
     "data": {
      "image/png": "[encoded data removed]",
      "text/plain": [
       "Plot with title \"Porovnávání pocitu svěžesti po probuzení\""
      ]
     },
     "metadata": {},
     "output_type": "display_data"
    }
   ],
   "source": [
    "options(repr.plot.width=10, repr.plot.height=5)  \n",
    "par(mfrow = c(1,2)) #smaz tohle, kdyz obrazky budes chtit jednotlive\n",
    "\n",
    "popis_x <- \"Pocit svěžesti po probuzení (vevnitř)\"\n",
    "popis_y <- \"Pocit svěžesti po probuzení (venku)\"\n",
    "nadpis <- \"Porovnávání pocitu svěžesti po probuzení\"\n",
    "\n",
    "sunflowerplot(d_vnitrek[,8], d_venek[,8], main = nadpis, xlab = popis_x,\n",
    "              ylab = popis_y, xlim = c(12,0), ylim = c(12,0))\n",
    "model5 <- lm(d_venek[,8] ~ d_vnitrek[,8])\n",
    "summary(model5)\n",
    "abline(a=model5$coefficients[1], b=model5$coefficients[2])\n",
    "\n",
    "\n",
    "y <- d_venek[,8]\n",
    "x <- d_vnitrek[,8]\n",
    "help_data <- data.frame(x)\n",
    "help_data$y <- y\n",
    "help_data <- help_data[c(-5,-10),]\n",
    "sunflowerplot(help_data$x, help_data$y, main = nadpis, xlab = popis_y, ylab = popis_y, xlim = c(12,0), ylim = c(12,0))\n",
    "model6 <- lm(y ~ x, data = help_data)\n",
    "summary(model6)\n",
    "abline(a=model6$coefficients[1], b=model6$coefficients[2])"
   ]
  },
  {
   "cell_type": "code",
   "execution_count": 29,
   "id": "655e34f7",
   "metadata": {},
   "outputs": [],
   "source": [
    "noc_jedna <- data.frame(read_excel(\"Venek-1.noc.xlsx\")) #nacitam data\n",
    "noc_dva <- data.frame(read_excel(\"venek-2.noc.xlsx\")) #nacitam data"
   ]
  },
  {
   "cell_type": "code",
   "execution_count": 27,
   "id": "e8753d03",
   "metadata": {},
   "outputs": [
    {
     "data": {
      "text/plain": [
       "\n",
       "Call:\n",
       "lm(formula = noc_dva$Onset.Latency..minutes. ~ noc_jedna$Onset.Latency..minutes.)\n",
       "\n",
       "Residuals:\n",
       "    Min      1Q  Median      3Q     Max \n",
       "-7.5610 -2.9437 -2.4141  0.5861 20.3208 \n",
       "\n",
       "Coefficients:\n",
       "                                  Estimate Std. Error t value Pr(>|t|)  \n",
       "(Intercept)                         4.7078     3.7134   1.268   0.2336  \n",
       "noc_jedna$Onset.Latency..minutes.   0.8824     0.3196   2.761   0.0201 *\n",
       "---\n",
       "Signif. codes:  0 '***' 0.001 '**' 0.01 '*' 0.05 '.' 0.1 ' ' 1\n",
       "\n",
       "Residual standard error: 7.844 on 10 degrees of freedom\n",
       "Multiple R-squared:  0.4325,\tAdjusted R-squared:  0.3758 \n",
       "F-statistic: 7.622 on 1 and 10 DF,  p-value: 0.0201\n"
      ]
     },
     "metadata": {},
     "output_type": "display_data"
    },
    {
     "data": {
      "image/png": "[encoded data removed]",
      "text/plain": [
       "Plot with title \"Vztah doby usínaní mezi\n",
       " první a druhou nocí venku\""
      ]
     },
     "metadata": {},
     "output_type": "display_data"
    }
   ],
   "source": [
    "options(repr.plot.width=5, repr.plot.height=5)  \n",
    "\n",
    "nadpis2 <- \"Vztah doby usínaní mezi\\n první a druhou nocí venku\"\n",
    "popis_x2 <- \"Počet minut do usnutí -  první moc venku\"\n",
    "popis_y2 <- \"Počet minut do usnutí - druhá noc venku\"\n",
    "\n",
    "plot(noc_jedna$Onset.Latency..minutes., noc_dva$Onset.Latency..minutes., main = nadpis2, xlab = popis_x2, ylab = popis_y2,\n",
    "     xlim = c(0,40), ylim = c(0,40))\n",
    "model_noc1 <- lm(noc_dva$Onset.Latency..minutes. ~ noc_jedna$Onset.Latency..minutes.)\n",
    "summary(model_noc1)\n",
    "abline(a=model_noc1$coefficients[1], b=model_noc1$coefficients[2])\n",
    "abline(a=0, b=1, col  = \"red\")"
   ]
  },
  {
   "cell_type": "code",
   "execution_count": 28,
   "id": "4c4f508b",
   "metadata": {},
   "outputs": [
    {
     "data": {
      "text/plain": [
       "\n",
       "Call:\n",
       "lm(formula = noc_dva$Sleep.Efficiency..percent. ~ noc_jedna$Sleep.Efficiency..percent.)\n",
       "\n",
       "Residuals:\n",
       "    Min      1Q  Median      3Q     Max \n",
       "-9.0466 -5.7426  0.9997  4.2226  6.8787 \n",
       "\n",
       "Coefficients:\n",
       "                                     Estimate Std. Error t value Pr(>|t|)   \n",
       "(Intercept)                           27.4725    16.9598   1.620  0.13633   \n",
       "noc_jedna$Sleep.Efficiency..percent.   0.6894     0.2148   3.209  0.00935 **\n",
       "---\n",
       "Signif. codes:  0 '***' 0.001 '**' 0.01 '*' 0.05 '.' 0.1 ' ' 1\n",
       "\n",
       "Residual standard error: 5.682 on 10 degrees of freedom\n",
       "Multiple R-squared:  0.5073,\tAdjusted R-squared:  0.458 \n",
       "F-statistic:  10.3 on 1 and 10 DF,  p-value: 0.00935\n"
      ]
     },
     "metadata": {},
     "output_type": "display_data"
    },
    {
     "data": {
      "image/png": "[encoded data removed]",
      "text/plain": [
       "Plot with title \"Vztah efektivit spánku - noci venku\""
      ]
     },
     "metadata": {},
     "output_type": "display_data"
    }
   ],
   "source": [
    "nadpis3 <- \"Vztah efektivit spánku - noci venku\"\n",
    "popis_x3 <- \"Efektivita spánku - první noc venku\"\n",
    "popis_y3 <- \"Efektivita spánku - druhá noc venku\"\n",
    "\n",
    "sunflowerplot(noc_jedna$Sleep.Efficiency..percent., noc_dva$Sleep.Efficiency..percent.,\n",
    "              main = nadpis3, xlab = popis_x3, ylab = popis_y3, xlim = c(65,100), ylim = c(65,100))\n",
    "model_noc2 <- lm(noc_dva$Sleep.Efficiency..percent. ~ noc_jedna$Sleep.Efficiency..percent.)\n",
    "summary(model_noc2)\n",
    "abline(a=model_noc2$coefficients[1], b=model_noc2$coefficients[2])\n",
    "abline(a=0, b=1, col  = \"red\")"
   ]
  }
 ],
 "metadata": {
  "kernelspec": {
   "display_name": "R",
   "language": "R",
   "name": "ir"
  },
  "language_info": {
   "codemirror_mode": "r",
   "file_extension": ".r",
   "mimetype": "text/x-r-source",
   "name": "R",
   "pygments_lexer": "r",
   "version": "3.6.1"
  }
 },
 "nbformat": 4,
 "nbformat_minor": 5
}
